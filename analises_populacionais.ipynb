{
 "cells": [
  {
   "cell_type": "markdown",
   "id": "295d9c21",
   "metadata": {},
   "source": [
    "## Análises possíveis com dados populacionais por idade, sexo, local e ano"
   ]
  },
  {
   "cell_type": "code",
   "execution_count": 1,
   "id": "5bfec8e8",
   "metadata": {},
   "outputs": [],
   "source": [
    "import pandas as pd\n",
    "import plotly.graph_objects as go\n",
    "import numpy as np\n",
    "\n",
    "df = pd.read_excel(\"datasets/projecoes_2024_tab1_idade_simples.xlsx\", skiprows=5)"
   ]
  },
  {
   "cell_type": "code",
   "execution_count": 2,
   "id": "df33ce4a",
   "metadata": {},
   "outputs": [
    {
     "data": {
      "text/html": [
       "<div>\n",
       "<style scoped>\n",
       "    .dataframe tbody tr th:only-of-type {\n",
       "        vertical-align: middle;\n",
       "    }\n",
       "\n",
       "    .dataframe tbody tr th {\n",
       "        vertical-align: top;\n",
       "    }\n",
       "\n",
       "    .dataframe thead th {\n",
       "        text-align: right;\n",
       "    }\n",
       "</style>\n",
       "<table border=\"1\" class=\"dataframe\">\n",
       "  <thead>\n",
       "    <tr style=\"text-align: right;\">\n",
       "      <th></th>\n",
       "      <th>IDADE</th>\n",
       "      <th>SEXO</th>\n",
       "      <th>CÓD.</th>\n",
       "      <th>SIGLA</th>\n",
       "      <th>LOCAL</th>\n",
       "      <th>2000</th>\n",
       "      <th>2001</th>\n",
       "      <th>2002</th>\n",
       "      <th>2003</th>\n",
       "      <th>2004</th>\n",
       "      <th>...</th>\n",
       "      <th>2061</th>\n",
       "      <th>2062</th>\n",
       "      <th>2063</th>\n",
       "      <th>2064</th>\n",
       "      <th>2065</th>\n",
       "      <th>2066</th>\n",
       "      <th>2067</th>\n",
       "      <th>2068</th>\n",
       "      <th>2069</th>\n",
       "      <th>2070</th>\n",
       "    </tr>\n",
       "  </thead>\n",
       "  <tbody>\n",
       "    <tr>\n",
       "      <th>0</th>\n",
       "      <td>0</td>\n",
       "      <td>Ambos</td>\n",
       "      <td>0</td>\n",
       "      <td>BR</td>\n",
       "      <td>Brasil</td>\n",
       "      <td>3423475</td>\n",
       "      <td>3347313</td>\n",
       "      <td>3274356</td>\n",
       "      <td>3212295</td>\n",
       "      <td>3163041</td>\n",
       "      <td>...</td>\n",
       "      <td>1615589</td>\n",
       "      <td>1597609</td>\n",
       "      <td>1580751</td>\n",
       "      <td>1564427</td>\n",
       "      <td>1549026</td>\n",
       "      <td>1534801</td>\n",
       "      <td>1521584</td>\n",
       "      <td>1509151</td>\n",
       "      <td>1497237</td>\n",
       "      <td>1485716</td>\n",
       "    </tr>\n",
       "    <tr>\n",
       "      <th>1</th>\n",
       "      <td>1</td>\n",
       "      <td>Ambos</td>\n",
       "      <td>0</td>\n",
       "      <td>BR</td>\n",
       "      <td>Brasil</td>\n",
       "      <td>3450022</td>\n",
       "      <td>3406966</td>\n",
       "      <td>3332612</td>\n",
       "      <td>3261091</td>\n",
       "      <td>3200484</td>\n",
       "      <td>...</td>\n",
       "      <td>1634395</td>\n",
       "      <td>1614666</td>\n",
       "      <td>1596716</td>\n",
       "      <td>1579885</td>\n",
       "      <td>1563579</td>\n",
       "      <td>1548205</td>\n",
       "      <td>1534002</td>\n",
       "      <td>1520805</td>\n",
       "      <td>1508394</td>\n",
       "      <td>1496496</td>\n",
       "    </tr>\n",
       "    <tr>\n",
       "      <th>2</th>\n",
       "      <td>2</td>\n",
       "      <td>Ambos</td>\n",
       "      <td>0</td>\n",
       "      <td>BR</td>\n",
       "      <td>Brasil</td>\n",
       "      <td>3461038</td>\n",
       "      <td>3444450</td>\n",
       "      <td>3401900</td>\n",
       "      <td>3327924</td>\n",
       "      <td>3256791</td>\n",
       "      <td>...</td>\n",
       "      <td>1655206</td>\n",
       "      <td>1633932</td>\n",
       "      <td>1614217</td>\n",
       "      <td>1596273</td>\n",
       "      <td>1579457</td>\n",
       "      <td>1563166</td>\n",
       "      <td>1547800</td>\n",
       "      <td>1533609</td>\n",
       "      <td>1520415</td>\n",
       "      <td>1508015</td>\n",
       "    </tr>\n",
       "    <tr>\n",
       "      <th>3</th>\n",
       "      <td>3</td>\n",
       "      <td>Ambos</td>\n",
       "      <td>0</td>\n",
       "      <td>BR</td>\n",
       "      <td>Brasil</td>\n",
       "      <td>3469109</td>\n",
       "      <td>3458052</td>\n",
       "      <td>3441638</td>\n",
       "      <td>3399284</td>\n",
       "      <td>3325501</td>\n",
       "      <td>...</td>\n",
       "      <td>1676639</td>\n",
       "      <td>1654738</td>\n",
       "      <td>1633474</td>\n",
       "      <td>1613776</td>\n",
       "      <td>1595841</td>\n",
       "      <td>1579039</td>\n",
       "      <td>1562761</td>\n",
       "      <td>1547399</td>\n",
       "      <td>1533216</td>\n",
       "      <td>1520035</td>\n",
       "    </tr>\n",
       "    <tr>\n",
       "      <th>4</th>\n",
       "      <td>4</td>\n",
       "      <td>Ambos</td>\n",
       "      <td>0</td>\n",
       "      <td>BR</td>\n",
       "      <td>Brasil</td>\n",
       "      <td>3477903</td>\n",
       "      <td>3466901</td>\n",
       "      <td>3455987</td>\n",
       "      <td>3439662</td>\n",
       "      <td>3397467</td>\n",
       "      <td>...</td>\n",
       "      <td>1697627</td>\n",
       "      <td>1676166</td>\n",
       "      <td>1654275</td>\n",
       "      <td>1633030</td>\n",
       "      <td>1613338</td>\n",
       "      <td>1595416</td>\n",
       "      <td>1578625</td>\n",
       "      <td>1562356</td>\n",
       "      <td>1547006</td>\n",
       "      <td>1532831</td>\n",
       "    </tr>\n",
       "    <tr>\n",
       "      <th>...</th>\n",
       "      <td>...</td>\n",
       "      <td>...</td>\n",
       "      <td>...</td>\n",
       "      <td>...</td>\n",
       "      <td>...</td>\n",
       "      <td>...</td>\n",
       "      <td>...</td>\n",
       "      <td>...</td>\n",
       "      <td>...</td>\n",
       "      <td>...</td>\n",
       "      <td>...</td>\n",
       "      <td>...</td>\n",
       "      <td>...</td>\n",
       "      <td>...</td>\n",
       "      <td>...</td>\n",
       "      <td>...</td>\n",
       "      <td>...</td>\n",
       "      <td>...</td>\n",
       "      <td>...</td>\n",
       "      <td>...</td>\n",
       "      <td>...</td>\n",
       "    </tr>\n",
       "    <tr>\n",
       "      <th>9004</th>\n",
       "      <td>86</td>\n",
       "      <td>Mulheres</td>\n",
       "      <td>53</td>\n",
       "      <td>DF</td>\n",
       "      <td>Distrito Federal</td>\n",
       "      <td>551</td>\n",
       "      <td>576</td>\n",
       "      <td>609</td>\n",
       "      <td>648</td>\n",
       "      <td>690</td>\n",
       "      <td>...</td>\n",
       "      <td>12936</td>\n",
       "      <td>13482</td>\n",
       "      <td>14077</td>\n",
       "      <td>14691</td>\n",
       "      <td>15233</td>\n",
       "      <td>15611</td>\n",
       "      <td>15752</td>\n",
       "      <td>15709</td>\n",
       "      <td>15608</td>\n",
       "      <td>15492</td>\n",
       "    </tr>\n",
       "    <tr>\n",
       "      <th>9005</th>\n",
       "      <td>87</td>\n",
       "      <td>Mulheres</td>\n",
       "      <td>53</td>\n",
       "      <td>DF</td>\n",
       "      <td>Distrito Federal</td>\n",
       "      <td>478</td>\n",
       "      <td>503</td>\n",
       "      <td>532</td>\n",
       "      <td>564</td>\n",
       "      <td>597</td>\n",
       "      <td>...</td>\n",
       "      <td>11571</td>\n",
       "      <td>12013</td>\n",
       "      <td>12524</td>\n",
       "      <td>13082</td>\n",
       "      <td>13657</td>\n",
       "      <td>14166</td>\n",
       "      <td>14523</td>\n",
       "      <td>14659</td>\n",
       "      <td>14624</td>\n",
       "      <td>14535</td>\n",
       "    </tr>\n",
       "    <tr>\n",
       "      <th>9006</th>\n",
       "      <td>88</td>\n",
       "      <td>Mulheres</td>\n",
       "      <td>53</td>\n",
       "      <td>DF</td>\n",
       "      <td>Distrito Federal</td>\n",
       "      <td>418</td>\n",
       "      <td>441</td>\n",
       "      <td>460</td>\n",
       "      <td>480</td>\n",
       "      <td>502</td>\n",
       "      <td>...</td>\n",
       "      <td>10401</td>\n",
       "      <td>10745</td>\n",
       "      <td>11160</td>\n",
       "      <td>11639</td>\n",
       "      <td>12162</td>\n",
       "      <td>12701</td>\n",
       "      <td>13179</td>\n",
       "      <td>13515</td>\n",
       "      <td>13646</td>\n",
       "      <td>13618</td>\n",
       "    </tr>\n",
       "    <tr>\n",
       "      <th>9007</th>\n",
       "      <td>89</td>\n",
       "      <td>Mulheres</td>\n",
       "      <td>53</td>\n",
       "      <td>DF</td>\n",
       "      <td>Distrito Federal</td>\n",
       "      <td>376</td>\n",
       "      <td>389</td>\n",
       "      <td>391</td>\n",
       "      <td>393</td>\n",
       "      <td>401</td>\n",
       "      <td>...</td>\n",
       "      <td>9334</td>\n",
       "      <td>9659</td>\n",
       "      <td>9982</td>\n",
       "      <td>10371</td>\n",
       "      <td>10820</td>\n",
       "      <td>11310</td>\n",
       "      <td>11816</td>\n",
       "      <td>12265</td>\n",
       "      <td>12581</td>\n",
       "      <td>12708</td>\n",
       "    </tr>\n",
       "    <tr>\n",
       "      <th>9008</th>\n",
       "      <td>90</td>\n",
       "      <td>Mulheres</td>\n",
       "      <td>53</td>\n",
       "      <td>DF</td>\n",
       "      <td>Distrito Federal</td>\n",
       "      <td>1284</td>\n",
       "      <td>1367</td>\n",
       "      <td>1445</td>\n",
       "      <td>1521</td>\n",
       "      <td>1598</td>\n",
       "      <td>...</td>\n",
       "      <td>48738</td>\n",
       "      <td>50394</td>\n",
       "      <td>52107</td>\n",
       "      <td>53866</td>\n",
       "      <td>55724</td>\n",
       "      <td>57720</td>\n",
       "      <td>59872</td>\n",
       "      <td>62172</td>\n",
       "      <td>64549</td>\n",
       "      <td>66871</td>\n",
       "    </tr>\n",
       "  </tbody>\n",
       "</table>\n",
       "<p>9009 rows × 76 columns</p>\n",
       "</div>"
      ],
      "text/plain": [
       "      IDADE      SEXO  CÓD. SIGLA             LOCAL     2000     2001  \\\n",
       "0         0     Ambos     0    BR            Brasil  3423475  3347313   \n",
       "1         1     Ambos     0    BR            Brasil  3450022  3406966   \n",
       "2         2     Ambos     0    BR            Brasil  3461038  3444450   \n",
       "3         3     Ambos     0    BR            Brasil  3469109  3458052   \n",
       "4         4     Ambos     0    BR            Brasil  3477903  3466901   \n",
       "...     ...       ...   ...   ...               ...      ...      ...   \n",
       "9004     86  Mulheres    53    DF  Distrito Federal      551      576   \n",
       "9005     87  Mulheres    53    DF  Distrito Federal      478      503   \n",
       "9006     88  Mulheres    53    DF  Distrito Federal      418      441   \n",
       "9007     89  Mulheres    53    DF  Distrito Federal      376      389   \n",
       "9008     90  Mulheres    53    DF  Distrito Federal     1284     1367   \n",
       "\n",
       "         2002     2003     2004  ...     2061     2062     2063     2064  \\\n",
       "0     3274356  3212295  3163041  ...  1615589  1597609  1580751  1564427   \n",
       "1     3332612  3261091  3200484  ...  1634395  1614666  1596716  1579885   \n",
       "2     3401900  3327924  3256791  ...  1655206  1633932  1614217  1596273   \n",
       "3     3441638  3399284  3325501  ...  1676639  1654738  1633474  1613776   \n",
       "4     3455987  3439662  3397467  ...  1697627  1676166  1654275  1633030   \n",
       "...       ...      ...      ...  ...      ...      ...      ...      ...   \n",
       "9004      609      648      690  ...    12936    13482    14077    14691   \n",
       "9005      532      564      597  ...    11571    12013    12524    13082   \n",
       "9006      460      480      502  ...    10401    10745    11160    11639   \n",
       "9007      391      393      401  ...     9334     9659     9982    10371   \n",
       "9008     1445     1521     1598  ...    48738    50394    52107    53866   \n",
       "\n",
       "         2065     2066     2067     2068     2069     2070  \n",
       "0     1549026  1534801  1521584  1509151  1497237  1485716  \n",
       "1     1563579  1548205  1534002  1520805  1508394  1496496  \n",
       "2     1579457  1563166  1547800  1533609  1520415  1508015  \n",
       "3     1595841  1579039  1562761  1547399  1533216  1520035  \n",
       "4     1613338  1595416  1578625  1562356  1547006  1532831  \n",
       "...       ...      ...      ...      ...      ...      ...  \n",
       "9004    15233    15611    15752    15709    15608    15492  \n",
       "9005    13657    14166    14523    14659    14624    14535  \n",
       "9006    12162    12701    13179    13515    13646    13618  \n",
       "9007    10820    11310    11816    12265    12581    12708  \n",
       "9008    55724    57720    59872    62172    64549    66871  \n",
       "\n",
       "[9009 rows x 76 columns]"
      ]
     },
     "execution_count": 2,
     "metadata": {},
     "output_type": "execute_result"
    }
   ],
   "source": [
    "df"
   ]
  },
  {
   "cell_type": "markdown",
   "id": "8fd669ff",
   "metadata": {},
   "source": [
    "## 📈 Evolução da população"
   ]
  },
  {
   "cell_type": "markdown",
   "id": "378e40f1",
   "metadata": {},
   "source": [
    "##### Como a população total do Brasil vai mudar até 2070?"
   ]
  },
  {
   "cell_type": "code",
   "execution_count": 3,
   "id": "1418475a",
   "metadata": {},
   "outputs": [],
   "source": [
    "df_br = df[(df[\"SIGLA\"] == \"BR\") & (df[\"SEXO\"] == \"Ambos\")]\n",
    "years_columns = list(range(2000, 2071))"
   ]
  },
  {
   "cell_type": "code",
   "execution_count": 4,
   "id": "4ce9faf8",
   "metadata": {},
   "outputs": [
    {
     "data": {
      "text/plain": [
       "2000    174695935\n",
       "2001    177003743\n",
       "2002    179228254\n",
       "2003    181377654\n",
       "2004    183469593\n",
       "          ...    \n",
       "2066    204415091\n",
       "2067    203168549\n",
       "2068    201887385\n",
       "2069    200573375\n",
       "2070    199228708\n",
       "Length: 71, dtype: int64"
      ]
     },
     "execution_count": 4,
     "metadata": {},
     "output_type": "execute_result"
    }
   ],
   "source": [
    "total_population_by_year = df_br[years_columns].sum()\n",
    "total_population_by_year"
   ]
  },
  {
   "cell_type": "code",
   "execution_count": 6,
   "id": "68fc5175",
   "metadata": {},
   "outputs": [
    {
     "data": {
      "application/vnd.plotly.v1+json": {
       "config": {
        "plotlyServerURL": "https://plot.ly"
       },
       "data": [
        {
         "line": {
          "color": "royalblue",
          "width": 3
         },
         "mode": "lines+markers",
         "name": "População Total",
         "type": "scatter",
         "x": [
          2000,
          2001,
          2002,
          2003,
          2004,
          2005,
          2006,
          2007,
          2008,
          2009,
          2010,
          2011,
          2012,
          2013,
          2014,
          2015,
          2016,
          2017,
          2018,
          2019,
          2020,
          2021,
          2022,
          2023,
          2024,
          2025,
          2026,
          2027,
          2028,
          2029,
          2030,
          2031,
          2032,
          2033,
          2034,
          2035,
          2036,
          2037,
          2038,
          2039,
          2040,
          2041,
          2042,
          2043,
          2044,
          2045,
          2046,
          2047,
          2048,
          2049,
          2050,
          2051,
          2052,
          2053,
          2054,
          2055,
          2056,
          2057,
          2058,
          2059,
          2060,
          2061,
          2062,
          2063,
          2064,
          2065,
          2066,
          2067,
          2068,
          2069,
          2070
         ],
         "y": {
          "bdata": "/6VpCt/cjApezq4KdprPChmG7wohyQ4Lto4tC4vpSgsci2cLFJqDC5GjmwuSJLEL3DbIC0713wt7IvgLOm8QDLXWJgylRzsMDmJPDMNNZAxZmncMWu2FDIeDkQw2Np4MRsWrDO2LuAxvncQMYQbQDFLS2gwdDeUMJb/uDFq/9wyc4v8MQC0HDcujDQ1PRxMNYxQYDYUHHA0MIh8N5GYhDYjUIg1TbCMNXTEjDb4lIg16SyANe6EdDYMlGg1+1xUNrLkQDR3MCg2KDQQNOn78DKEf9AxB8+oMivfgDD8s1gw9lcoMEjq+DLsdsQwxQaMMbKiUDG1ahQyjX3UM0L1kDDt5Uwyrl0EMcyAvDCUbHAyZjggMv4H0CyT93ws=",
          "dtype": "i4"
         }
        }
       ],
       "layout": {
        "template": {
         "data": {
          "bar": [
           {
            "error_x": {
             "color": "#2a3f5f"
            },
            "error_y": {
             "color": "#2a3f5f"
            },
            "marker": {
             "line": {
              "color": "white",
              "width": 0.5
             },
             "pattern": {
              "fillmode": "overlay",
              "size": 10,
              "solidity": 0.2
             }
            },
            "type": "bar"
           }
          ],
          "barpolar": [
           {
            "marker": {
             "line": {
              "color": "white",
              "width": 0.5
             },
             "pattern": {
              "fillmode": "overlay",
              "size": 10,
              "solidity": 0.2
             }
            },
            "type": "barpolar"
           }
          ],
          "carpet": [
           {
            "aaxis": {
             "endlinecolor": "#2a3f5f",
             "gridcolor": "#C8D4E3",
             "linecolor": "#C8D4E3",
             "minorgridcolor": "#C8D4E3",
             "startlinecolor": "#2a3f5f"
            },
            "baxis": {
             "endlinecolor": "#2a3f5f",
             "gridcolor": "#C8D4E3",
             "linecolor": "#C8D4E3",
             "minorgridcolor": "#C8D4E3",
             "startlinecolor": "#2a3f5f"
            },
            "type": "carpet"
           }
          ],
          "choropleth": [
           {
            "colorbar": {
             "outlinewidth": 0,
             "ticks": ""
            },
            "type": "choropleth"
           }
          ],
          "contour": [
           {
            "colorbar": {
             "outlinewidth": 0,
             "ticks": ""
            },
            "colorscale": [
             [
              0,
              "#0d0887"
             ],
             [
              0.1111111111111111,
              "#46039f"
             ],
             [
              0.2222222222222222,
              "#7201a8"
             ],
             [
              0.3333333333333333,
              "#9c179e"
             ],
             [
              0.4444444444444444,
              "#bd3786"
             ],
             [
              0.5555555555555556,
              "#d8576b"
             ],
             [
              0.6666666666666666,
              "#ed7953"
             ],
             [
              0.7777777777777778,
              "#fb9f3a"
             ],
             [
              0.8888888888888888,
              "#fdca26"
             ],
             [
              1,
              "#f0f921"
             ]
            ],
            "type": "contour"
           }
          ],
          "contourcarpet": [
           {
            "colorbar": {
             "outlinewidth": 0,
             "ticks": ""
            },
            "type": "contourcarpet"
           }
          ],
          "heatmap": [
           {
            "colorbar": {
             "outlinewidth": 0,
             "ticks": ""
            },
            "colorscale": [
             [
              0,
              "#0d0887"
             ],
             [
              0.1111111111111111,
              "#46039f"
             ],
             [
              0.2222222222222222,
              "#7201a8"
             ],
             [
              0.3333333333333333,
              "#9c179e"
             ],
             [
              0.4444444444444444,
              "#bd3786"
             ],
             [
              0.5555555555555556,
              "#d8576b"
             ],
             [
              0.6666666666666666,
              "#ed7953"
             ],
             [
              0.7777777777777778,
              "#fb9f3a"
             ],
             [
              0.8888888888888888,
              "#fdca26"
             ],
             [
              1,
              "#f0f921"
             ]
            ],
            "type": "heatmap"
           }
          ],
          "histogram": [
           {
            "marker": {
             "pattern": {
              "fillmode": "overlay",
              "size": 10,
              "solidity": 0.2
             }
            },
            "type": "histogram"
           }
          ],
          "histogram2d": [
           {
            "colorbar": {
             "outlinewidth": 0,
             "ticks": ""
            },
            "colorscale": [
             [
              0,
              "#0d0887"
             ],
             [
              0.1111111111111111,
              "#46039f"
             ],
             [
              0.2222222222222222,
              "#7201a8"
             ],
             [
              0.3333333333333333,
              "#9c179e"
             ],
             [
              0.4444444444444444,
              "#bd3786"
             ],
             [
              0.5555555555555556,
              "#d8576b"
             ],
             [
              0.6666666666666666,
              "#ed7953"
             ],
             [
              0.7777777777777778,
              "#fb9f3a"
             ],
             [
              0.8888888888888888,
              "#fdca26"
             ],
             [
              1,
              "#f0f921"
             ]
            ],
            "type": "histogram2d"
           }
          ],
          "histogram2dcontour": [
           {
            "colorbar": {
             "outlinewidth": 0,
             "ticks": ""
            },
            "colorscale": [
             [
              0,
              "#0d0887"
             ],
             [
              0.1111111111111111,
              "#46039f"
             ],
             [
              0.2222222222222222,
              "#7201a8"
             ],
             [
              0.3333333333333333,
              "#9c179e"
             ],
             [
              0.4444444444444444,
              "#bd3786"
             ],
             [
              0.5555555555555556,
              "#d8576b"
             ],
             [
              0.6666666666666666,
              "#ed7953"
             ],
             [
              0.7777777777777778,
              "#fb9f3a"
             ],
             [
              0.8888888888888888,
              "#fdca26"
             ],
             [
              1,
              "#f0f921"
             ]
            ],
            "type": "histogram2dcontour"
           }
          ],
          "mesh3d": [
           {
            "colorbar": {
             "outlinewidth": 0,
             "ticks": ""
            },
            "type": "mesh3d"
           }
          ],
          "parcoords": [
           {
            "line": {
             "colorbar": {
              "outlinewidth": 0,
              "ticks": ""
             }
            },
            "type": "parcoords"
           }
          ],
          "pie": [
           {
            "automargin": true,
            "type": "pie"
           }
          ],
          "scatter": [
           {
            "fillpattern": {
             "fillmode": "overlay",
             "size": 10,
             "solidity": 0.2
            },
            "type": "scatter"
           }
          ],
          "scatter3d": [
           {
            "line": {
             "colorbar": {
              "outlinewidth": 0,
              "ticks": ""
             }
            },
            "marker": {
             "colorbar": {
              "outlinewidth": 0,
              "ticks": ""
             }
            },
            "type": "scatter3d"
           }
          ],
          "scattercarpet": [
           {
            "marker": {
             "colorbar": {
              "outlinewidth": 0,
              "ticks": ""
             }
            },
            "type": "scattercarpet"
           }
          ],
          "scattergeo": [
           {
            "marker": {
             "colorbar": {
              "outlinewidth": 0,
              "ticks": ""
             }
            },
            "type": "scattergeo"
           }
          ],
          "scattergl": [
           {
            "marker": {
             "colorbar": {
              "outlinewidth": 0,
              "ticks": ""
             }
            },
            "type": "scattergl"
           }
          ],
          "scattermap": [
           {
            "marker": {
             "colorbar": {
              "outlinewidth": 0,
              "ticks": ""
             }
            },
            "type": "scattermap"
           }
          ],
          "scattermapbox": [
           {
            "marker": {
             "colorbar": {
              "outlinewidth": 0,
              "ticks": ""
             }
            },
            "type": "scattermapbox"
           }
          ],
          "scatterpolar": [
           {
            "marker": {
             "colorbar": {
              "outlinewidth": 0,
              "ticks": ""
             }
            },
            "type": "scatterpolar"
           }
          ],
          "scatterpolargl": [
           {
            "marker": {
             "colorbar": {
              "outlinewidth": 0,
              "ticks": ""
             }
            },
            "type": "scatterpolargl"
           }
          ],
          "scatterternary": [
           {
            "marker": {
             "colorbar": {
              "outlinewidth": 0,
              "ticks": ""
             }
            },
            "type": "scatterternary"
           }
          ],
          "surface": [
           {
            "colorbar": {
             "outlinewidth": 0,
             "ticks": ""
            },
            "colorscale": [
             [
              0,
              "#0d0887"
             ],
             [
              0.1111111111111111,
              "#46039f"
             ],
             [
              0.2222222222222222,
              "#7201a8"
             ],
             [
              0.3333333333333333,
              "#9c179e"
             ],
             [
              0.4444444444444444,
              "#bd3786"
             ],
             [
              0.5555555555555556,
              "#d8576b"
             ],
             [
              0.6666666666666666,
              "#ed7953"
             ],
             [
              0.7777777777777778,
              "#fb9f3a"
             ],
             [
              0.8888888888888888,
              "#fdca26"
             ],
             [
              1,
              "#f0f921"
             ]
            ],
            "type": "surface"
           }
          ],
          "table": [
           {
            "cells": {
             "fill": {
              "color": "#EBF0F8"
             },
             "line": {
              "color": "white"
             }
            },
            "header": {
             "fill": {
              "color": "#C8D4E3"
             },
             "line": {
              "color": "white"
             }
            },
            "type": "table"
           }
          ]
         },
         "layout": {
          "annotationdefaults": {
           "arrowcolor": "#2a3f5f",
           "arrowhead": 0,
           "arrowwidth": 1
          },
          "autotypenumbers": "strict",
          "coloraxis": {
           "colorbar": {
            "outlinewidth": 0,
            "ticks": ""
           }
          },
          "colorscale": {
           "diverging": [
            [
             0,
             "#8e0152"
            ],
            [
             0.1,
             "#c51b7d"
            ],
            [
             0.2,
             "#de77ae"
            ],
            [
             0.3,
             "#f1b6da"
            ],
            [
             0.4,
             "#fde0ef"
            ],
            [
             0.5,
             "#f7f7f7"
            ],
            [
             0.6,
             "#e6f5d0"
            ],
            [
             0.7,
             "#b8e186"
            ],
            [
             0.8,
             "#7fbc41"
            ],
            [
             0.9,
             "#4d9221"
            ],
            [
             1,
             "#276419"
            ]
           ],
           "sequential": [
            [
             0,
             "#0d0887"
            ],
            [
             0.1111111111111111,
             "#46039f"
            ],
            [
             0.2222222222222222,
             "#7201a8"
            ],
            [
             0.3333333333333333,
             "#9c179e"
            ],
            [
             0.4444444444444444,
             "#bd3786"
            ],
            [
             0.5555555555555556,
             "#d8576b"
            ],
            [
             0.6666666666666666,
             "#ed7953"
            ],
            [
             0.7777777777777778,
             "#fb9f3a"
            ],
            [
             0.8888888888888888,
             "#fdca26"
            ],
            [
             1,
             "#f0f921"
            ]
           ],
           "sequentialminus": [
            [
             0,
             "#0d0887"
            ],
            [
             0.1111111111111111,
             "#46039f"
            ],
            [
             0.2222222222222222,
             "#7201a8"
            ],
            [
             0.3333333333333333,
             "#9c179e"
            ],
            [
             0.4444444444444444,
             "#bd3786"
            ],
            [
             0.5555555555555556,
             "#d8576b"
            ],
            [
             0.6666666666666666,
             "#ed7953"
            ],
            [
             0.7777777777777778,
             "#fb9f3a"
            ],
            [
             0.8888888888888888,
             "#fdca26"
            ],
            [
             1,
             "#f0f921"
            ]
           ]
          },
          "colorway": [
           "#636efa",
           "#EF553B",
           "#00cc96",
           "#ab63fa",
           "#FFA15A",
           "#19d3f3",
           "#FF6692",
           "#B6E880",
           "#FF97FF",
           "#FECB52"
          ],
          "font": {
           "color": "#2a3f5f"
          },
          "geo": {
           "bgcolor": "white",
           "lakecolor": "white",
           "landcolor": "white",
           "showlakes": true,
           "showland": true,
           "subunitcolor": "#C8D4E3"
          },
          "hoverlabel": {
           "align": "left"
          },
          "hovermode": "closest",
          "mapbox": {
           "style": "light"
          },
          "paper_bgcolor": "white",
          "plot_bgcolor": "white",
          "polar": {
           "angularaxis": {
            "gridcolor": "#EBF0F8",
            "linecolor": "#EBF0F8",
            "ticks": ""
           },
           "bgcolor": "white",
           "radialaxis": {
            "gridcolor": "#EBF0F8",
            "linecolor": "#EBF0F8",
            "ticks": ""
           }
          },
          "scene": {
           "xaxis": {
            "backgroundcolor": "white",
            "gridcolor": "#DFE8F3",
            "gridwidth": 2,
            "linecolor": "#EBF0F8",
            "showbackground": true,
            "ticks": "",
            "zerolinecolor": "#EBF0F8"
           },
           "yaxis": {
            "backgroundcolor": "white",
            "gridcolor": "#DFE8F3",
            "gridwidth": 2,
            "linecolor": "#EBF0F8",
            "showbackground": true,
            "ticks": "",
            "zerolinecolor": "#EBF0F8"
           },
           "zaxis": {
            "backgroundcolor": "white",
            "gridcolor": "#DFE8F3",
            "gridwidth": 2,
            "linecolor": "#EBF0F8",
            "showbackground": true,
            "ticks": "",
            "zerolinecolor": "#EBF0F8"
           }
          },
          "shapedefaults": {
           "line": {
            "color": "#2a3f5f"
           }
          },
          "ternary": {
           "aaxis": {
            "gridcolor": "#DFE8F3",
            "linecolor": "#A2B1C6",
            "ticks": ""
           },
           "baxis": {
            "gridcolor": "#DFE8F3",
            "linecolor": "#A2B1C6",
            "ticks": ""
           },
           "bgcolor": "white",
           "caxis": {
            "gridcolor": "#DFE8F3",
            "linecolor": "#A2B1C6",
            "ticks": ""
           }
          },
          "title": {
           "x": 0.05
          },
          "xaxis": {
           "automargin": true,
           "gridcolor": "#EBF0F8",
           "linecolor": "#EBF0F8",
           "ticks": "",
           "title": {
            "standoff": 15
           },
           "zerolinecolor": "#EBF0F8",
           "zerolinewidth": 2
          },
          "yaxis": {
           "automargin": true,
           "gridcolor": "#EBF0F8",
           "linecolor": "#EBF0F8",
           "ticks": "",
           "title": {
            "standoff": 15
           },
           "zerolinecolor": "#EBF0F8",
           "zerolinewidth": 2
          }
         }
        },
        "title": {
         "text": "Projeção da População Total do Brasil (2000-2070)"
        },
        "xaxis": {
         "title": {
          "text": "Ano"
         }
        },
        "yaxis": {
         "title": {
          "text": "População"
         }
        }
       }
      }
     },
     "metadata": {},
     "output_type": "display_data"
    }
   ],
   "source": [
    "fig_br_evolution = go.Figure()\n",
    "\n",
    "fig_br_evolution.add_trace(go.Scatter(\n",
    "    x=total_population_by_year.index,\n",
    "    y=total_population_by_year.values,\n",
    "    mode=\"lines+markers\",\n",
    "    name=\"População Total\",\n",
    "    line=dict(color=\"royalblue\", width=3)\n",
    "))\n",
    "\n",
    "fig_br_evolution.update_layout(\n",
    "    title=\"Projeção da População Total do Brasil (2000-2070)\",\n",
    "    xaxis_title=\"Ano\",\n",
    "    yaxis_title=\"População\",\n",
    "    template=\"plotly_white\"\n",
    ")\n",
    "\n",
    "fig_br_evolution.show()"
   ]
  },
  {
   "cell_type": "markdown",
   "id": "71f3a3ea",
   "metadata": {},
   "source": [
    "##### Qual será a evolução da população idosa (60+ anos)?"
   ]
  },
  {
   "cell_type": "code",
   "execution_count": 5,
   "id": "1c429832",
   "metadata": {},
   "outputs": [],
   "source": [
    "df_br_60y = df[(df[\"SIGLA\"] == \"BR\") & (df[\"SEXO\"] == \"Ambos\") & (df[\"IDADE\"] >= 60)]\n",
    "total_60y_population = df_br_60y[years_columns].sum()"
   ]
  },
  {
   "cell_type": "code",
   "execution_count": 6,
   "id": "da366d39",
   "metadata": {},
   "outputs": [
    {
     "data": {
      "application/vnd.plotly.v1+json": {
       "config": {
        "plotlyServerURL": "https://plot.ly"
       },
       "data": [
        {
         "line": {
          "color": "royalblue",
          "width": 3
         },
         "mode": "lines+markers",
         "name": "População Total",
         "type": "scatter",
         "x": [
          2000,
          2001,
          2002,
          2003,
          2004,
          2005,
          2006,
          2007,
          2008,
          2009,
          2010,
          2011,
          2012,
          2013,
          2014,
          2015,
          2016,
          2017,
          2018,
          2019,
          2020,
          2021,
          2022,
          2023,
          2024,
          2025,
          2026,
          2027,
          2028,
          2029,
          2030,
          2031,
          2032,
          2033,
          2034,
          2035,
          2036,
          2037,
          2038,
          2039,
          2040,
          2041,
          2042,
          2043,
          2044,
          2045,
          2046,
          2047,
          2048,
          2049,
          2050,
          2051,
          2052,
          2053,
          2054,
          2055,
          2056,
          2057,
          2058,
          2059,
          2060,
          2061,
          2062,
          2063,
          2064,
          2065,
          2066,
          2067,
          2068,
          2069,
          2070
         ],
         "y": {
          "bdata": "4WPoAAXG7gBKTPUAyg78AGJEAwHMHQsBMa4TAX7oHAFNviYBPykxAdohPAEtr0cBy91TASu3YAHoMG4BcjZ8ARzEigFC4ZkBbo+pAenAuQEzc8kBTYvXAbM25gHzQfcBEWMJApa3GwIRBC4C0x9AApr+UQI0tGMCWVR1Ag3xhgJknJgCUUWqAkL2uwJi880CfovgAjPu8wJDKAgDqhIdA79gMgPuoUcDEX1cA3ndcANzwYQDm/WXA5k9qgOJcbsD4nHLA9VK2gPQNegDLoX1AwF1AgSSDA8EhzgbBA35JgSXRzIEKBo9BFB4RwRqV1EE/WFaBPMoYgR8t2gEkDBuBJXCcgT1j3YEjb55BNyHewTmpHwE0Tp9BPbdfAQ=",
          "dtype": "i4"
         }
        }
       ],
       "layout": {
        "template": {
         "data": {
          "bar": [
           {
            "error_x": {
             "color": "#2a3f5f"
            },
            "error_y": {
             "color": "#2a3f5f"
            },
            "marker": {
             "line": {
              "color": "white",
              "width": 0.5
             },
             "pattern": {
              "fillmode": "overlay",
              "size": 10,
              "solidity": 0.2
             }
            },
            "type": "bar"
           }
          ],
          "barpolar": [
           {
            "marker": {
             "line": {
              "color": "white",
              "width": 0.5
             },
             "pattern": {
              "fillmode": "overlay",
              "size": 10,
              "solidity": 0.2
             }
            },
            "type": "barpolar"
           }
          ],
          "carpet": [
           {
            "aaxis": {
             "endlinecolor": "#2a3f5f",
             "gridcolor": "#C8D4E3",
             "linecolor": "#C8D4E3",
             "minorgridcolor": "#C8D4E3",
             "startlinecolor": "#2a3f5f"
            },
            "baxis": {
             "endlinecolor": "#2a3f5f",
             "gridcolor": "#C8D4E3",
             "linecolor": "#C8D4E3",
             "minorgridcolor": "#C8D4E3",
             "startlinecolor": "#2a3f5f"
            },
            "type": "carpet"
           }
          ],
          "choropleth": [
           {
            "colorbar": {
             "outlinewidth": 0,
             "ticks": ""
            },
            "type": "choropleth"
           }
          ],
          "contour": [
           {
            "colorbar": {
             "outlinewidth": 0,
             "ticks": ""
            },
            "colorscale": [
             [
              0,
              "#0d0887"
             ],
             [
              0.1111111111111111,
              "#46039f"
             ],
             [
              0.2222222222222222,
              "#7201a8"
             ],
             [
              0.3333333333333333,
              "#9c179e"
             ],
             [
              0.4444444444444444,
              "#bd3786"
             ],
             [
              0.5555555555555556,
              "#d8576b"
             ],
             [
              0.6666666666666666,
              "#ed7953"
             ],
             [
              0.7777777777777778,
              "#fb9f3a"
             ],
             [
              0.8888888888888888,
              "#fdca26"
             ],
             [
              1,
              "#f0f921"
             ]
            ],
            "type": "contour"
           }
          ],
          "contourcarpet": [
           {
            "colorbar": {
             "outlinewidth": 0,
             "ticks": ""
            },
            "type": "contourcarpet"
           }
          ],
          "heatmap": [
           {
            "colorbar": {
             "outlinewidth": 0,
             "ticks": ""
            },
            "colorscale": [
             [
              0,
              "#0d0887"
             ],
             [
              0.1111111111111111,
              "#46039f"
             ],
             [
              0.2222222222222222,
              "#7201a8"
             ],
             [
              0.3333333333333333,
              "#9c179e"
             ],
             [
              0.4444444444444444,
              "#bd3786"
             ],
             [
              0.5555555555555556,
              "#d8576b"
             ],
             [
              0.6666666666666666,
              "#ed7953"
             ],
             [
              0.7777777777777778,
              "#fb9f3a"
             ],
             [
              0.8888888888888888,
              "#fdca26"
             ],
             [
              1,
              "#f0f921"
             ]
            ],
            "type": "heatmap"
           }
          ],
          "histogram": [
           {
            "marker": {
             "pattern": {
              "fillmode": "overlay",
              "size": 10,
              "solidity": 0.2
             }
            },
            "type": "histogram"
           }
          ],
          "histogram2d": [
           {
            "colorbar": {
             "outlinewidth": 0,
             "ticks": ""
            },
            "colorscale": [
             [
              0,
              "#0d0887"
             ],
             [
              0.1111111111111111,
              "#46039f"
             ],
             [
              0.2222222222222222,
              "#7201a8"
             ],
             [
              0.3333333333333333,
              "#9c179e"
             ],
             [
              0.4444444444444444,
              "#bd3786"
             ],
             [
              0.5555555555555556,
              "#d8576b"
             ],
             [
              0.6666666666666666,
              "#ed7953"
             ],
             [
              0.7777777777777778,
              "#fb9f3a"
             ],
             [
              0.8888888888888888,
              "#fdca26"
             ],
             [
              1,
              "#f0f921"
             ]
            ],
            "type": "histogram2d"
           }
          ],
          "histogram2dcontour": [
           {
            "colorbar": {
             "outlinewidth": 0,
             "ticks": ""
            },
            "colorscale": [
             [
              0,
              "#0d0887"
             ],
             [
              0.1111111111111111,
              "#46039f"
             ],
             [
              0.2222222222222222,
              "#7201a8"
             ],
             [
              0.3333333333333333,
              "#9c179e"
             ],
             [
              0.4444444444444444,
              "#bd3786"
             ],
             [
              0.5555555555555556,
              "#d8576b"
             ],
             [
              0.6666666666666666,
              "#ed7953"
             ],
             [
              0.7777777777777778,
              "#fb9f3a"
             ],
             [
              0.8888888888888888,
              "#fdca26"
             ],
             [
              1,
              "#f0f921"
             ]
            ],
            "type": "histogram2dcontour"
           }
          ],
          "mesh3d": [
           {
            "colorbar": {
             "outlinewidth": 0,
             "ticks": ""
            },
            "type": "mesh3d"
           }
          ],
          "parcoords": [
           {
            "line": {
             "colorbar": {
              "outlinewidth": 0,
              "ticks": ""
             }
            },
            "type": "parcoords"
           }
          ],
          "pie": [
           {
            "automargin": true,
            "type": "pie"
           }
          ],
          "scatter": [
           {
            "fillpattern": {
             "fillmode": "overlay",
             "size": 10,
             "solidity": 0.2
            },
            "type": "scatter"
           }
          ],
          "scatter3d": [
           {
            "line": {
             "colorbar": {
              "outlinewidth": 0,
              "ticks": ""
             }
            },
            "marker": {
             "colorbar": {
              "outlinewidth": 0,
              "ticks": ""
             }
            },
            "type": "scatter3d"
           }
          ],
          "scattercarpet": [
           {
            "marker": {
             "colorbar": {
              "outlinewidth": 0,
              "ticks": ""
             }
            },
            "type": "scattercarpet"
           }
          ],
          "scattergeo": [
           {
            "marker": {
             "colorbar": {
              "outlinewidth": 0,
              "ticks": ""
             }
            },
            "type": "scattergeo"
           }
          ],
          "scattergl": [
           {
            "marker": {
             "colorbar": {
              "outlinewidth": 0,
              "ticks": ""
             }
            },
            "type": "scattergl"
           }
          ],
          "scattermap": [
           {
            "marker": {
             "colorbar": {
              "outlinewidth": 0,
              "ticks": ""
             }
            },
            "type": "scattermap"
           }
          ],
          "scattermapbox": [
           {
            "marker": {
             "colorbar": {
              "outlinewidth": 0,
              "ticks": ""
             }
            },
            "type": "scattermapbox"
           }
          ],
          "scatterpolar": [
           {
            "marker": {
             "colorbar": {
              "outlinewidth": 0,
              "ticks": ""
             }
            },
            "type": "scatterpolar"
           }
          ],
          "scatterpolargl": [
           {
            "marker": {
             "colorbar": {
              "outlinewidth": 0,
              "ticks": ""
             }
            },
            "type": "scatterpolargl"
           }
          ],
          "scatterternary": [
           {
            "marker": {
             "colorbar": {
              "outlinewidth": 0,
              "ticks": ""
             }
            },
            "type": "scatterternary"
           }
          ],
          "surface": [
           {
            "colorbar": {
             "outlinewidth": 0,
             "ticks": ""
            },
            "colorscale": [
             [
              0,
              "#0d0887"
             ],
             [
              0.1111111111111111,
              "#46039f"
             ],
             [
              0.2222222222222222,
              "#7201a8"
             ],
             [
              0.3333333333333333,
              "#9c179e"
             ],
             [
              0.4444444444444444,
              "#bd3786"
             ],
             [
              0.5555555555555556,
              "#d8576b"
             ],
             [
              0.6666666666666666,
              "#ed7953"
             ],
             [
              0.7777777777777778,
              "#fb9f3a"
             ],
             [
              0.8888888888888888,
              "#fdca26"
             ],
             [
              1,
              "#f0f921"
             ]
            ],
            "type": "surface"
           }
          ],
          "table": [
           {
            "cells": {
             "fill": {
              "color": "#EBF0F8"
             },
             "line": {
              "color": "white"
             }
            },
            "header": {
             "fill": {
              "color": "#C8D4E3"
             },
             "line": {
              "color": "white"
             }
            },
            "type": "table"
           }
          ]
         },
         "layout": {
          "annotationdefaults": {
           "arrowcolor": "#2a3f5f",
           "arrowhead": 0,
           "arrowwidth": 1
          },
          "autotypenumbers": "strict",
          "coloraxis": {
           "colorbar": {
            "outlinewidth": 0,
            "ticks": ""
           }
          },
          "colorscale": {
           "diverging": [
            [
             0,
             "#8e0152"
            ],
            [
             0.1,
             "#c51b7d"
            ],
            [
             0.2,
             "#de77ae"
            ],
            [
             0.3,
             "#f1b6da"
            ],
            [
             0.4,
             "#fde0ef"
            ],
            [
             0.5,
             "#f7f7f7"
            ],
            [
             0.6,
             "#e6f5d0"
            ],
            [
             0.7,
             "#b8e186"
            ],
            [
             0.8,
             "#7fbc41"
            ],
            [
             0.9,
             "#4d9221"
            ],
            [
             1,
             "#276419"
            ]
           ],
           "sequential": [
            [
             0,
             "#0d0887"
            ],
            [
             0.1111111111111111,
             "#46039f"
            ],
            [
             0.2222222222222222,
             "#7201a8"
            ],
            [
             0.3333333333333333,
             "#9c179e"
            ],
            [
             0.4444444444444444,
             "#bd3786"
            ],
            [
             0.5555555555555556,
             "#d8576b"
            ],
            [
             0.6666666666666666,
             "#ed7953"
            ],
            [
             0.7777777777777778,
             "#fb9f3a"
            ],
            [
             0.8888888888888888,
             "#fdca26"
            ],
            [
             1,
             "#f0f921"
            ]
           ],
           "sequentialminus": [
            [
             0,
             "#0d0887"
            ],
            [
             0.1111111111111111,
             "#46039f"
            ],
            [
             0.2222222222222222,
             "#7201a8"
            ],
            [
             0.3333333333333333,
             "#9c179e"
            ],
            [
             0.4444444444444444,
             "#bd3786"
            ],
            [
             0.5555555555555556,
             "#d8576b"
            ],
            [
             0.6666666666666666,
             "#ed7953"
            ],
            [
             0.7777777777777778,
             "#fb9f3a"
            ],
            [
             0.8888888888888888,
             "#fdca26"
            ],
            [
             1,
             "#f0f921"
            ]
           ]
          },
          "colorway": [
           "#636efa",
           "#EF553B",
           "#00cc96",
           "#ab63fa",
           "#FFA15A",
           "#19d3f3",
           "#FF6692",
           "#B6E880",
           "#FF97FF",
           "#FECB52"
          ],
          "font": {
           "color": "#2a3f5f"
          },
          "geo": {
           "bgcolor": "white",
           "lakecolor": "white",
           "landcolor": "white",
           "showlakes": true,
           "showland": true,
           "subunitcolor": "#C8D4E3"
          },
          "hoverlabel": {
           "align": "left"
          },
          "hovermode": "closest",
          "mapbox": {
           "style": "light"
          },
          "paper_bgcolor": "white",
          "plot_bgcolor": "white",
          "polar": {
           "angularaxis": {
            "gridcolor": "#EBF0F8",
            "linecolor": "#EBF0F8",
            "ticks": ""
           },
           "bgcolor": "white",
           "radialaxis": {
            "gridcolor": "#EBF0F8",
            "linecolor": "#EBF0F8",
            "ticks": ""
           }
          },
          "scene": {
           "xaxis": {
            "backgroundcolor": "white",
            "gridcolor": "#DFE8F3",
            "gridwidth": 2,
            "linecolor": "#EBF0F8",
            "showbackground": true,
            "ticks": "",
            "zerolinecolor": "#EBF0F8"
           },
           "yaxis": {
            "backgroundcolor": "white",
            "gridcolor": "#DFE8F3",
            "gridwidth": 2,
            "linecolor": "#EBF0F8",
            "showbackground": true,
            "ticks": "",
            "zerolinecolor": "#EBF0F8"
           },
           "zaxis": {
            "backgroundcolor": "white",
            "gridcolor": "#DFE8F3",
            "gridwidth": 2,
            "linecolor": "#EBF0F8",
            "showbackground": true,
            "ticks": "",
            "zerolinecolor": "#EBF0F8"
           }
          },
          "shapedefaults": {
           "line": {
            "color": "#2a3f5f"
           }
          },
          "ternary": {
           "aaxis": {
            "gridcolor": "#DFE8F3",
            "linecolor": "#A2B1C6",
            "ticks": ""
           },
           "baxis": {
            "gridcolor": "#DFE8F3",
            "linecolor": "#A2B1C6",
            "ticks": ""
           },
           "bgcolor": "white",
           "caxis": {
            "gridcolor": "#DFE8F3",
            "linecolor": "#A2B1C6",
            "ticks": ""
           }
          },
          "title": {
           "x": 0.05
          },
          "xaxis": {
           "automargin": true,
           "gridcolor": "#EBF0F8",
           "linecolor": "#EBF0F8",
           "ticks": "",
           "title": {
            "standoff": 15
           },
           "zerolinecolor": "#EBF0F8",
           "zerolinewidth": 2
          },
          "yaxis": {
           "automargin": true,
           "gridcolor": "#EBF0F8",
           "linecolor": "#EBF0F8",
           "ticks": "",
           "title": {
            "standoff": 15
           },
           "zerolinecolor": "#EBF0F8",
           "zerolinewidth": 2
          }
         }
        },
        "title": {
         "text": "Projeção da População Total do Brasil com 60 anos ou mais (2000-2070)"
        },
        "xaxis": {
         "title": {
          "text": "Ano"
         }
        },
        "yaxis": {
         "title": {
          "text": "População"
         }
        }
       }
      }
     },
     "metadata": {},
     "output_type": "display_data"
    }
   ],
   "source": [
    "fig_br_evolution_60y = go.Figure()\n",
    "\n",
    "fig_br_evolution_60y.add_trace(go.Scatter(\n",
    "    x=total_60y_population.index,\n",
    "    y=total_60y_population.values,\n",
    "    mode=\"lines+markers\",\n",
    "    name=\"População Total\",\n",
    "    line=dict(color=\"royalblue\", width=3)\n",
    "))\n",
    "\n",
    "fig_br_evolution_60y.update_layout(\n",
    "    title=\"Projeção da População Total do Brasil com 60 anos ou mais (2000-2070)\",\n",
    "    xaxis_title=\"Ano\",\n",
    "    yaxis_title=\"População\",\n",
    "    template=\"plotly_white\"\n",
    ")\n",
    "\n",
    "fig_br_evolution_60y.show()"
   ]
  },
  {
   "cell_type": "markdown",
   "id": "95c453b9",
   "metadata": {},
   "source": [
    "##### Como cresce ou encolhe a população por estado?"
   ]
  },
  {
   "cell_type": "code",
   "execution_count": 9,
   "id": "c2e85803",
   "metadata": {},
   "outputs": [
    {
     "data": {
      "text/html": [
       "<div>\n",
       "<style scoped>\n",
       "    .dataframe tbody tr th:only-of-type {\n",
       "        vertical-align: middle;\n",
       "    }\n",
       "\n",
       "    .dataframe tbody tr th {\n",
       "        vertical-align: top;\n",
       "    }\n",
       "\n",
       "    .dataframe thead th {\n",
       "        text-align: right;\n",
       "    }\n",
       "</style>\n",
       "<table border=\"1\" class=\"dataframe\">\n",
       "  <thead>\n",
       "    <tr style=\"text-align: right;\">\n",
       "      <th></th>\n",
       "      <th>IDADE</th>\n",
       "      <th>SEXO</th>\n",
       "      <th>CÓD.</th>\n",
       "      <th>SIGLA</th>\n",
       "      <th>LOCAL</th>\n",
       "      <th>2000</th>\n",
       "      <th>2001</th>\n",
       "      <th>2002</th>\n",
       "      <th>2003</th>\n",
       "      <th>2004</th>\n",
       "      <th>...</th>\n",
       "      <th>2061</th>\n",
       "      <th>2062</th>\n",
       "      <th>2063</th>\n",
       "      <th>2064</th>\n",
       "      <th>2065</th>\n",
       "      <th>2066</th>\n",
       "      <th>2067</th>\n",
       "      <th>2068</th>\n",
       "      <th>2069</th>\n",
       "      <th>2070</th>\n",
       "    </tr>\n",
       "  </thead>\n",
       "  <tbody>\n",
       "    <tr>\n",
       "      <th>1638</th>\n",
       "      <td>0</td>\n",
       "      <td>Ambos</td>\n",
       "      <td>11</td>\n",
       "      <td>RO</td>\n",
       "      <td>Rondônia</td>\n",
       "      <td>32024</td>\n",
       "      <td>31694</td>\n",
       "      <td>31313</td>\n",
       "      <td>30890</td>\n",
       "      <td>30405</td>\n",
       "      <td>...</td>\n",
       "      <td>13507</td>\n",
       "      <td>13326</td>\n",
       "      <td>13152</td>\n",
       "      <td>12984</td>\n",
       "      <td>12825</td>\n",
       "      <td>12675</td>\n",
       "      <td>12534</td>\n",
       "      <td>12399</td>\n",
       "      <td>12274</td>\n",
       "      <td>12152</td>\n",
       "    </tr>\n",
       "    <tr>\n",
       "      <th>1639</th>\n",
       "      <td>1</td>\n",
       "      <td>Ambos</td>\n",
       "      <td>11</td>\n",
       "      <td>RO</td>\n",
       "      <td>Rondônia</td>\n",
       "      <td>32122</td>\n",
       "      <td>31704</td>\n",
       "      <td>31410</td>\n",
       "      <td>31070</td>\n",
       "      <td>30679</td>\n",
       "      <td>...</td>\n",
       "      <td>13661</td>\n",
       "      <td>13471</td>\n",
       "      <td>13291</td>\n",
       "      <td>13118</td>\n",
       "      <td>12951</td>\n",
       "      <td>12793</td>\n",
       "      <td>12644</td>\n",
       "      <td>12504</td>\n",
       "      <td>12370</td>\n",
       "      <td>12246</td>\n",
       "    </tr>\n",
       "    <tr>\n",
       "      <th>1640</th>\n",
       "      <td>2</td>\n",
       "      <td>Ambos</td>\n",
       "      <td>11</td>\n",
       "      <td>RO</td>\n",
       "      <td>Rondônia</td>\n",
       "      <td>32128</td>\n",
       "      <td>31938</td>\n",
       "      <td>31549</td>\n",
       "      <td>31270</td>\n",
       "      <td>30944</td>\n",
       "      <td>...</td>\n",
       "      <td>13832</td>\n",
       "      <td>13629</td>\n",
       "      <td>13442</td>\n",
       "      <td>13262</td>\n",
       "      <td>13091</td>\n",
       "      <td>12924</td>\n",
       "      <td>12767</td>\n",
       "      <td>12619</td>\n",
       "      <td>12480</td>\n",
       "      <td>12347</td>\n",
       "    </tr>\n",
       "    <tr>\n",
       "      <th>1641</th>\n",
       "      <td>3</td>\n",
       "      <td>Ambos</td>\n",
       "      <td>11</td>\n",
       "      <td>RO</td>\n",
       "      <td>Rondônia</td>\n",
       "      <td>32072</td>\n",
       "      <td>31966</td>\n",
       "      <td>31791</td>\n",
       "      <td>31420</td>\n",
       "      <td>31160</td>\n",
       "      <td>...</td>\n",
       "      <td>14009</td>\n",
       "      <td>13802</td>\n",
       "      <td>13600</td>\n",
       "      <td>13415</td>\n",
       "      <td>13235</td>\n",
       "      <td>13065</td>\n",
       "      <td>12899</td>\n",
       "      <td>12743</td>\n",
       "      <td>12596</td>\n",
       "      <td>12458</td>\n",
       "    </tr>\n",
       "    <tr>\n",
       "      <th>1642</th>\n",
       "      <td>4</td>\n",
       "      <td>Ambos</td>\n",
       "      <td>11</td>\n",
       "      <td>RO</td>\n",
       "      <td>Rondônia</td>\n",
       "      <td>32016</td>\n",
       "      <td>31909</td>\n",
       "      <td>31820</td>\n",
       "      <td>31662</td>\n",
       "      <td>31307</td>\n",
       "      <td>...</td>\n",
       "      <td>14183</td>\n",
       "      <td>13980</td>\n",
       "      <td>13774</td>\n",
       "      <td>13574</td>\n",
       "      <td>13391</td>\n",
       "      <td>13211</td>\n",
       "      <td>13041</td>\n",
       "      <td>12877</td>\n",
       "      <td>12721</td>\n",
       "      <td>12575</td>\n",
       "    </tr>\n",
       "    <tr>\n",
       "      <th>...</th>\n",
       "      <td>...</td>\n",
       "      <td>...</td>\n",
       "      <td>...</td>\n",
       "      <td>...</td>\n",
       "      <td>...</td>\n",
       "      <td>...</td>\n",
       "      <td>...</td>\n",
       "      <td>...</td>\n",
       "      <td>...</td>\n",
       "      <td>...</td>\n",
       "      <td>...</td>\n",
       "      <td>...</td>\n",
       "      <td>...</td>\n",
       "      <td>...</td>\n",
       "      <td>...</td>\n",
       "      <td>...</td>\n",
       "      <td>...</td>\n",
       "      <td>...</td>\n",
       "      <td>...</td>\n",
       "      <td>...</td>\n",
       "      <td>...</td>\n",
       "    </tr>\n",
       "    <tr>\n",
       "      <th>9004</th>\n",
       "      <td>86</td>\n",
       "      <td>Mulheres</td>\n",
       "      <td>53</td>\n",
       "      <td>DF</td>\n",
       "      <td>Distrito Federal</td>\n",
       "      <td>551</td>\n",
       "      <td>576</td>\n",
       "      <td>609</td>\n",
       "      <td>648</td>\n",
       "      <td>690</td>\n",
       "      <td>...</td>\n",
       "      <td>12936</td>\n",
       "      <td>13482</td>\n",
       "      <td>14077</td>\n",
       "      <td>14691</td>\n",
       "      <td>15233</td>\n",
       "      <td>15611</td>\n",
       "      <td>15752</td>\n",
       "      <td>15709</td>\n",
       "      <td>15608</td>\n",
       "      <td>15492</td>\n",
       "    </tr>\n",
       "    <tr>\n",
       "      <th>9005</th>\n",
       "      <td>87</td>\n",
       "      <td>Mulheres</td>\n",
       "      <td>53</td>\n",
       "      <td>DF</td>\n",
       "      <td>Distrito Federal</td>\n",
       "      <td>478</td>\n",
       "      <td>503</td>\n",
       "      <td>532</td>\n",
       "      <td>564</td>\n",
       "      <td>597</td>\n",
       "      <td>...</td>\n",
       "      <td>11571</td>\n",
       "      <td>12013</td>\n",
       "      <td>12524</td>\n",
       "      <td>13082</td>\n",
       "      <td>13657</td>\n",
       "      <td>14166</td>\n",
       "      <td>14523</td>\n",
       "      <td>14659</td>\n",
       "      <td>14624</td>\n",
       "      <td>14535</td>\n",
       "    </tr>\n",
       "    <tr>\n",
       "      <th>9006</th>\n",
       "      <td>88</td>\n",
       "      <td>Mulheres</td>\n",
       "      <td>53</td>\n",
       "      <td>DF</td>\n",
       "      <td>Distrito Federal</td>\n",
       "      <td>418</td>\n",
       "      <td>441</td>\n",
       "      <td>460</td>\n",
       "      <td>480</td>\n",
       "      <td>502</td>\n",
       "      <td>...</td>\n",
       "      <td>10401</td>\n",
       "      <td>10745</td>\n",
       "      <td>11160</td>\n",
       "      <td>11639</td>\n",
       "      <td>12162</td>\n",
       "      <td>12701</td>\n",
       "      <td>13179</td>\n",
       "      <td>13515</td>\n",
       "      <td>13646</td>\n",
       "      <td>13618</td>\n",
       "    </tr>\n",
       "    <tr>\n",
       "      <th>9007</th>\n",
       "      <td>89</td>\n",
       "      <td>Mulheres</td>\n",
       "      <td>53</td>\n",
       "      <td>DF</td>\n",
       "      <td>Distrito Federal</td>\n",
       "      <td>376</td>\n",
       "      <td>389</td>\n",
       "      <td>391</td>\n",
       "      <td>393</td>\n",
       "      <td>401</td>\n",
       "      <td>...</td>\n",
       "      <td>9334</td>\n",
       "      <td>9659</td>\n",
       "      <td>9982</td>\n",
       "      <td>10371</td>\n",
       "      <td>10820</td>\n",
       "      <td>11310</td>\n",
       "      <td>11816</td>\n",
       "      <td>12265</td>\n",
       "      <td>12581</td>\n",
       "      <td>12708</td>\n",
       "    </tr>\n",
       "    <tr>\n",
       "      <th>9008</th>\n",
       "      <td>90</td>\n",
       "      <td>Mulheres</td>\n",
       "      <td>53</td>\n",
       "      <td>DF</td>\n",
       "      <td>Distrito Federal</td>\n",
       "      <td>1284</td>\n",
       "      <td>1367</td>\n",
       "      <td>1445</td>\n",
       "      <td>1521</td>\n",
       "      <td>1598</td>\n",
       "      <td>...</td>\n",
       "      <td>48738</td>\n",
       "      <td>50394</td>\n",
       "      <td>52107</td>\n",
       "      <td>53866</td>\n",
       "      <td>55724</td>\n",
       "      <td>57720</td>\n",
       "      <td>59872</td>\n",
       "      <td>62172</td>\n",
       "      <td>64549</td>\n",
       "      <td>66871</td>\n",
       "    </tr>\n",
       "  </tbody>\n",
       "</table>\n",
       "<p>7371 rows × 76 columns</p>\n",
       "</div>"
      ],
      "text/plain": [
       "      IDADE      SEXO  CÓD. SIGLA             LOCAL   2000   2001   2002  \\\n",
       "1638      0     Ambos    11    RO          Rondônia  32024  31694  31313   \n",
       "1639      1     Ambos    11    RO          Rondônia  32122  31704  31410   \n",
       "1640      2     Ambos    11    RO          Rondônia  32128  31938  31549   \n",
       "1641      3     Ambos    11    RO          Rondônia  32072  31966  31791   \n",
       "1642      4     Ambos    11    RO          Rondônia  32016  31909  31820   \n",
       "...     ...       ...   ...   ...               ...    ...    ...    ...   \n",
       "9004     86  Mulheres    53    DF  Distrito Federal    551    576    609   \n",
       "9005     87  Mulheres    53    DF  Distrito Federal    478    503    532   \n",
       "9006     88  Mulheres    53    DF  Distrito Federal    418    441    460   \n",
       "9007     89  Mulheres    53    DF  Distrito Federal    376    389    391   \n",
       "9008     90  Mulheres    53    DF  Distrito Federal   1284   1367   1445   \n",
       "\n",
       "       2003   2004  ...   2061   2062   2063   2064   2065   2066   2067  \\\n",
       "1638  30890  30405  ...  13507  13326  13152  12984  12825  12675  12534   \n",
       "1639  31070  30679  ...  13661  13471  13291  13118  12951  12793  12644   \n",
       "1640  31270  30944  ...  13832  13629  13442  13262  13091  12924  12767   \n",
       "1641  31420  31160  ...  14009  13802  13600  13415  13235  13065  12899   \n",
       "1642  31662  31307  ...  14183  13980  13774  13574  13391  13211  13041   \n",
       "...     ...    ...  ...    ...    ...    ...    ...    ...    ...    ...   \n",
       "9004    648    690  ...  12936  13482  14077  14691  15233  15611  15752   \n",
       "9005    564    597  ...  11571  12013  12524  13082  13657  14166  14523   \n",
       "9006    480    502  ...  10401  10745  11160  11639  12162  12701  13179   \n",
       "9007    393    401  ...   9334   9659   9982  10371  10820  11310  11816   \n",
       "9008   1521   1598  ...  48738  50394  52107  53866  55724  57720  59872   \n",
       "\n",
       "       2068   2069   2070  \n",
       "1638  12399  12274  12152  \n",
       "1639  12504  12370  12246  \n",
       "1640  12619  12480  12347  \n",
       "1641  12743  12596  12458  \n",
       "1642  12877  12721  12575  \n",
       "...     ...    ...    ...  \n",
       "9004  15709  15608  15492  \n",
       "9005  14659  14624  14535  \n",
       "9006  13515  13646  13618  \n",
       "9007  12265  12581  12708  \n",
       "9008  62172  64549  66871  \n",
       "\n",
       "[7371 rows x 76 columns]"
      ]
     },
     "execution_count": 9,
     "metadata": {},
     "output_type": "execute_result"
    }
   ],
   "source": [
    "df_uf = df[~df[\"SIGLA\"].isin([\"BR\", \"NO\", \"CO\", \"SU\", \"ND\", \"SD\"])]\n",
    "df_uf"
   ]
  },
  {
   "cell_type": "code",
   "execution_count": 10,
   "id": "2440a2cf",
   "metadata": {},
   "outputs": [
    {
     "name": "stderr",
     "output_type": "stream",
     "text": [
      "/tmp/ipykernel_5959/1588770293.py:1: DeprecationWarning:\n",
      "\n",
      "DataFrameGroupBy.apply operated on the grouping columns. This behavior is deprecated, and in a future version of pandas the grouping columns will be excluded from the operation. Either pass `include_groups=False` to exclude the groupings or explicitly select the grouping columns after groupby to silence this warning.\n",
      "\n"
     ]
    },
    {
     "data": {
      "text/html": [
       "<div>\n",
       "<style scoped>\n",
       "    .dataframe tbody tr th:only-of-type {\n",
       "        vertical-align: middle;\n",
       "    }\n",
       "\n",
       "    .dataframe tbody tr th {\n",
       "        vertical-align: top;\n",
       "    }\n",
       "\n",
       "    .dataframe thead th {\n",
       "        text-align: right;\n",
       "    }\n",
       "</style>\n",
       "<table border=\"1\" class=\"dataframe\">\n",
       "  <thead>\n",
       "    <tr style=\"text-align: right;\">\n",
       "      <th></th>\n",
       "      <th>SIGLA</th>\n",
       "      <th>growth_rate</th>\n",
       "    </tr>\n",
       "  </thead>\n",
       "  <tbody>\n",
       "    <tr>\n",
       "      <th>0</th>\n",
       "      <td>AC</td>\n",
       "      <td>41.6</td>\n",
       "    </tr>\n",
       "    <tr>\n",
       "      <th>1</th>\n",
       "      <td>AL</td>\n",
       "      <td>-7.3</td>\n",
       "    </tr>\n",
       "    <tr>\n",
       "      <th>2</th>\n",
       "      <td>AM</td>\n",
       "      <td>65.1</td>\n",
       "    </tr>\n",
       "    <tr>\n",
       "      <th>3</th>\n",
       "      <td>AP</td>\n",
       "      <td>54.8</td>\n",
       "    </tr>\n",
       "    <tr>\n",
       "      <th>4</th>\n",
       "      <td>BA</td>\n",
       "      <td>-3.0</td>\n",
       "    </tr>\n",
       "    <tr>\n",
       "      <th>5</th>\n",
       "      <td>CE</td>\n",
       "      <td>12.3</td>\n",
       "    </tr>\n",
       "    <tr>\n",
       "      <th>6</th>\n",
       "      <td>DF</td>\n",
       "      <td>25.4</td>\n",
       "    </tr>\n",
       "    <tr>\n",
       "      <th>7</th>\n",
       "      <td>ES</td>\n",
       "      <td>28.9</td>\n",
       "    </tr>\n",
       "    <tr>\n",
       "      <th>8</th>\n",
       "      <td>GO</td>\n",
       "      <td>61.9</td>\n",
       "    </tr>\n",
       "    <tr>\n",
       "      <th>9</th>\n",
       "      <td>MA</td>\n",
       "      <td>3.5</td>\n",
       "    </tr>\n",
       "    <tr>\n",
       "      <th>10</th>\n",
       "      <td>MG</td>\n",
       "      <td>6.0</td>\n",
       "    </tr>\n",
       "    <tr>\n",
       "      <th>11</th>\n",
       "      <td>MS</td>\n",
       "      <td>43.2</td>\n",
       "    </tr>\n",
       "    <tr>\n",
       "      <th>12</th>\n",
       "      <td>MT</td>\n",
       "      <td>100.4</td>\n",
       "    </tr>\n",
       "    <tr>\n",
       "      <th>13</th>\n",
       "      <td>PA</td>\n",
       "      <td>32.3</td>\n",
       "    </tr>\n",
       "    <tr>\n",
       "      <th>14</th>\n",
       "      <td>PB</td>\n",
       "      <td>13.5</td>\n",
       "    </tr>\n",
       "    <tr>\n",
       "      <th>15</th>\n",
       "      <td>PE</td>\n",
       "      <td>5.8</td>\n",
       "    </tr>\n",
       "    <tr>\n",
       "      <th>16</th>\n",
       "      <td>PI</td>\n",
       "      <td>1.6</td>\n",
       "    </tr>\n",
       "    <tr>\n",
       "      <th>17</th>\n",
       "      <td>PR</td>\n",
       "      <td>18.1</td>\n",
       "    </tr>\n",
       "    <tr>\n",
       "      <th>18</th>\n",
       "      <td>RJ</td>\n",
       "      <td>-5.6</td>\n",
       "    </tr>\n",
       "    <tr>\n",
       "      <th>19</th>\n",
       "      <td>RN</td>\n",
       "      <td>8.0</td>\n",
       "    </tr>\n",
       "    <tr>\n",
       "      <th>20</th>\n",
       "      <td>RO</td>\n",
       "      <td>16.7</td>\n",
       "    </tr>\n",
       "    <tr>\n",
       "      <th>21</th>\n",
       "      <td>RR</td>\n",
       "      <td>216.3</td>\n",
       "    </tr>\n",
       "    <tr>\n",
       "      <th>22</th>\n",
       "      <td>RS</td>\n",
       "      <td>-11.4</td>\n",
       "    </tr>\n",
       "    <tr>\n",
       "      <th>23</th>\n",
       "      <td>SC</td>\n",
       "      <td>89.1</td>\n",
       "    </tr>\n",
       "    <tr>\n",
       "      <th>24</th>\n",
       "      <td>SE</td>\n",
       "      <td>15.0</td>\n",
       "    </tr>\n",
       "    <tr>\n",
       "      <th>25</th>\n",
       "      <td>SP</td>\n",
       "      <td>7.1</td>\n",
       "    </tr>\n",
       "    <tr>\n",
       "      <th>26</th>\n",
       "      <td>TO</td>\n",
       "      <td>33.0</td>\n",
       "    </tr>\n",
       "  </tbody>\n",
       "</table>\n",
       "</div>"
      ],
      "text/plain": [
       "   SIGLA  growth_rate\n",
       "0     AC         41.6\n",
       "1     AL         -7.3\n",
       "2     AM         65.1\n",
       "3     AP         54.8\n",
       "4     BA         -3.0\n",
       "5     CE         12.3\n",
       "6     DF         25.4\n",
       "7     ES         28.9\n",
       "8     GO         61.9\n",
       "9     MA          3.5\n",
       "10    MG          6.0\n",
       "11    MS         43.2\n",
       "12    MT        100.4\n",
       "13    PA         32.3\n",
       "14    PB         13.5\n",
       "15    PE          5.8\n",
       "16    PI          1.6\n",
       "17    PR         18.1\n",
       "18    RJ         -5.6\n",
       "19    RN          8.0\n",
       "20    RO         16.7\n",
       "21    RR        216.3\n",
       "22    RS        -11.4\n",
       "23    SC         89.1\n",
       "24    SE         15.0\n",
       "25    SP          7.1\n",
       "26    TO         33.0"
      ]
     },
     "execution_count": 10,
     "metadata": {},
     "output_type": "execute_result"
    }
   ],
   "source": [
    "df_growth = round(df_uf[df_uf[\"SEXO\"] == \"Ambos\"].groupby(\"SIGLA\").apply(lambda x: (x[2070].sum() - x[2000].sum()) / (x[2000].sum()) * 100).reset_index(name=\"growth_rate\"), 1)\n",
    "df_growth"
   ]
  },
  {
   "cell_type": "code",
   "execution_count": 11,
   "id": "7b880cdb",
   "metadata": {},
   "outputs": [
    {
     "data": {
      "application/vnd.plotly.v1+json": {
       "config": {
        "plotlyServerURL": "https://plot.ly"
       },
       "data": [
        {
         "marker": {
          "color": [
           "royalblue",
           "firebrick",
           "royalblue",
           "royalblue",
           "firebrick",
           "royalblue",
           "royalblue",
           "royalblue",
           "royalblue",
           "royalblue",
           "royalblue",
           "royalblue",
           "royalblue",
           "royalblue",
           "royalblue",
           "royalblue",
           "royalblue",
           "royalblue",
           "firebrick",
           "royalblue",
           "royalblue",
           "royalblue",
           "firebrick",
           "royalblue",
           "royalblue",
           "royalblue",
           "royalblue"
          ]
         },
         "type": "bar",
         "x": [
          "AC",
          "AL",
          "AM",
          "AP",
          "BA",
          "CE",
          "DF",
          "ES",
          "GO",
          "MA",
          "MG",
          "MS",
          "MT",
          "PA",
          "PB",
          "PE",
          "PI",
          "PR",
          "RJ",
          "RN",
          "RO",
          "RR",
          "RS",
          "SC",
          "SE",
          "SP",
          "TO"
         ],
         "y": {
          "bdata": "zczMzMzMREAzMzMzMzMdwGZmZmZmRlBAZmZmZmZmS0AAAAAAAAAIwJqZmZmZmShAZmZmZmZmOUBmZmZmZuY8QDMzMzMz805AAAAAAAAADEAAAAAAAAAYQJqZmZmZmUVAmpmZmZkZWUBmZmZmZiZAQAAAAAAAACtAMzMzMzMzF0CamZmZmZn5P5qZmZmZGTJAZmZmZmZmFsAAAAAAAAAgQDMzMzMzszBAmpmZmZkJa0DNzMzMzMwmwGZmZmZmRlZAAAAAAAAALkBmZmZmZmYcQAAAAAAAgEBA",
          "dtype": "f8"
         }
        }
       ],
       "layout": {
        "template": {
         "data": {
          "bar": [
           {
            "error_x": {
             "color": "#2a3f5f"
            },
            "error_y": {
             "color": "#2a3f5f"
            },
            "marker": {
             "line": {
              "color": "white",
              "width": 0.5
             },
             "pattern": {
              "fillmode": "overlay",
              "size": 10,
              "solidity": 0.2
             }
            },
            "type": "bar"
           }
          ],
          "barpolar": [
           {
            "marker": {
             "line": {
              "color": "white",
              "width": 0.5
             },
             "pattern": {
              "fillmode": "overlay",
              "size": 10,
              "solidity": 0.2
             }
            },
            "type": "barpolar"
           }
          ],
          "carpet": [
           {
            "aaxis": {
             "endlinecolor": "#2a3f5f",
             "gridcolor": "#C8D4E3",
             "linecolor": "#C8D4E3",
             "minorgridcolor": "#C8D4E3",
             "startlinecolor": "#2a3f5f"
            },
            "baxis": {
             "endlinecolor": "#2a3f5f",
             "gridcolor": "#C8D4E3",
             "linecolor": "#C8D4E3",
             "minorgridcolor": "#C8D4E3",
             "startlinecolor": "#2a3f5f"
            },
            "type": "carpet"
           }
          ],
          "choropleth": [
           {
            "colorbar": {
             "outlinewidth": 0,
             "ticks": ""
            },
            "type": "choropleth"
           }
          ],
          "contour": [
           {
            "colorbar": {
             "outlinewidth": 0,
             "ticks": ""
            },
            "colorscale": [
             [
              0,
              "#0d0887"
             ],
             [
              0.1111111111111111,
              "#46039f"
             ],
             [
              0.2222222222222222,
              "#7201a8"
             ],
             [
              0.3333333333333333,
              "#9c179e"
             ],
             [
              0.4444444444444444,
              "#bd3786"
             ],
             [
              0.5555555555555556,
              "#d8576b"
             ],
             [
              0.6666666666666666,
              "#ed7953"
             ],
             [
              0.7777777777777778,
              "#fb9f3a"
             ],
             [
              0.8888888888888888,
              "#fdca26"
             ],
             [
              1,
              "#f0f921"
             ]
            ],
            "type": "contour"
           }
          ],
          "contourcarpet": [
           {
            "colorbar": {
             "outlinewidth": 0,
             "ticks": ""
            },
            "type": "contourcarpet"
           }
          ],
          "heatmap": [
           {
            "colorbar": {
             "outlinewidth": 0,
             "ticks": ""
            },
            "colorscale": [
             [
              0,
              "#0d0887"
             ],
             [
              0.1111111111111111,
              "#46039f"
             ],
             [
              0.2222222222222222,
              "#7201a8"
             ],
             [
              0.3333333333333333,
              "#9c179e"
             ],
             [
              0.4444444444444444,
              "#bd3786"
             ],
             [
              0.5555555555555556,
              "#d8576b"
             ],
             [
              0.6666666666666666,
              "#ed7953"
             ],
             [
              0.7777777777777778,
              "#fb9f3a"
             ],
             [
              0.8888888888888888,
              "#fdca26"
             ],
             [
              1,
              "#f0f921"
             ]
            ],
            "type": "heatmap"
           }
          ],
          "histogram": [
           {
            "marker": {
             "pattern": {
              "fillmode": "overlay",
              "size": 10,
              "solidity": 0.2
             }
            },
            "type": "histogram"
           }
          ],
          "histogram2d": [
           {
            "colorbar": {
             "outlinewidth": 0,
             "ticks": ""
            },
            "colorscale": [
             [
              0,
              "#0d0887"
             ],
             [
              0.1111111111111111,
              "#46039f"
             ],
             [
              0.2222222222222222,
              "#7201a8"
             ],
             [
              0.3333333333333333,
              "#9c179e"
             ],
             [
              0.4444444444444444,
              "#bd3786"
             ],
             [
              0.5555555555555556,
              "#d8576b"
             ],
             [
              0.6666666666666666,
              "#ed7953"
             ],
             [
              0.7777777777777778,
              "#fb9f3a"
             ],
             [
              0.8888888888888888,
              "#fdca26"
             ],
             [
              1,
              "#f0f921"
             ]
            ],
            "type": "histogram2d"
           }
          ],
          "histogram2dcontour": [
           {
            "colorbar": {
             "outlinewidth": 0,
             "ticks": ""
            },
            "colorscale": [
             [
              0,
              "#0d0887"
             ],
             [
              0.1111111111111111,
              "#46039f"
             ],
             [
              0.2222222222222222,
              "#7201a8"
             ],
             [
              0.3333333333333333,
              "#9c179e"
             ],
             [
              0.4444444444444444,
              "#bd3786"
             ],
             [
              0.5555555555555556,
              "#d8576b"
             ],
             [
              0.6666666666666666,
              "#ed7953"
             ],
             [
              0.7777777777777778,
              "#fb9f3a"
             ],
             [
              0.8888888888888888,
              "#fdca26"
             ],
             [
              1,
              "#f0f921"
             ]
            ],
            "type": "histogram2dcontour"
           }
          ],
          "mesh3d": [
           {
            "colorbar": {
             "outlinewidth": 0,
             "ticks": ""
            },
            "type": "mesh3d"
           }
          ],
          "parcoords": [
           {
            "line": {
             "colorbar": {
              "outlinewidth": 0,
              "ticks": ""
             }
            },
            "type": "parcoords"
           }
          ],
          "pie": [
           {
            "automargin": true,
            "type": "pie"
           }
          ],
          "scatter": [
           {
            "fillpattern": {
             "fillmode": "overlay",
             "size": 10,
             "solidity": 0.2
            },
            "type": "scatter"
           }
          ],
          "scatter3d": [
           {
            "line": {
             "colorbar": {
              "outlinewidth": 0,
              "ticks": ""
             }
            },
            "marker": {
             "colorbar": {
              "outlinewidth": 0,
              "ticks": ""
             }
            },
            "type": "scatter3d"
           }
          ],
          "scattercarpet": [
           {
            "marker": {
             "colorbar": {
              "outlinewidth": 0,
              "ticks": ""
             }
            },
            "type": "scattercarpet"
           }
          ],
          "scattergeo": [
           {
            "marker": {
             "colorbar": {
              "outlinewidth": 0,
              "ticks": ""
             }
            },
            "type": "scattergeo"
           }
          ],
          "scattergl": [
           {
            "marker": {
             "colorbar": {
              "outlinewidth": 0,
              "ticks": ""
             }
            },
            "type": "scattergl"
           }
          ],
          "scattermap": [
           {
            "marker": {
             "colorbar": {
              "outlinewidth": 0,
              "ticks": ""
             }
            },
            "type": "scattermap"
           }
          ],
          "scattermapbox": [
           {
            "marker": {
             "colorbar": {
              "outlinewidth": 0,
              "ticks": ""
             }
            },
            "type": "scattermapbox"
           }
          ],
          "scatterpolar": [
           {
            "marker": {
             "colorbar": {
              "outlinewidth": 0,
              "ticks": ""
             }
            },
            "type": "scatterpolar"
           }
          ],
          "scatterpolargl": [
           {
            "marker": {
             "colorbar": {
              "outlinewidth": 0,
              "ticks": ""
             }
            },
            "type": "scatterpolargl"
           }
          ],
          "scatterternary": [
           {
            "marker": {
             "colorbar": {
              "outlinewidth": 0,
              "ticks": ""
             }
            },
            "type": "scatterternary"
           }
          ],
          "surface": [
           {
            "colorbar": {
             "outlinewidth": 0,
             "ticks": ""
            },
            "colorscale": [
             [
              0,
              "#0d0887"
             ],
             [
              0.1111111111111111,
              "#46039f"
             ],
             [
              0.2222222222222222,
              "#7201a8"
             ],
             [
              0.3333333333333333,
              "#9c179e"
             ],
             [
              0.4444444444444444,
              "#bd3786"
             ],
             [
              0.5555555555555556,
              "#d8576b"
             ],
             [
              0.6666666666666666,
              "#ed7953"
             ],
             [
              0.7777777777777778,
              "#fb9f3a"
             ],
             [
              0.8888888888888888,
              "#fdca26"
             ],
             [
              1,
              "#f0f921"
             ]
            ],
            "type": "surface"
           }
          ],
          "table": [
           {
            "cells": {
             "fill": {
              "color": "#EBF0F8"
             },
             "line": {
              "color": "white"
             }
            },
            "header": {
             "fill": {
              "color": "#C8D4E3"
             },
             "line": {
              "color": "white"
             }
            },
            "type": "table"
           }
          ]
         },
         "layout": {
          "annotationdefaults": {
           "arrowcolor": "#2a3f5f",
           "arrowhead": 0,
           "arrowwidth": 1
          },
          "autotypenumbers": "strict",
          "coloraxis": {
           "colorbar": {
            "outlinewidth": 0,
            "ticks": ""
           }
          },
          "colorscale": {
           "diverging": [
            [
             0,
             "#8e0152"
            ],
            [
             0.1,
             "#c51b7d"
            ],
            [
             0.2,
             "#de77ae"
            ],
            [
             0.3,
             "#f1b6da"
            ],
            [
             0.4,
             "#fde0ef"
            ],
            [
             0.5,
             "#f7f7f7"
            ],
            [
             0.6,
             "#e6f5d0"
            ],
            [
             0.7,
             "#b8e186"
            ],
            [
             0.8,
             "#7fbc41"
            ],
            [
             0.9,
             "#4d9221"
            ],
            [
             1,
             "#276419"
            ]
           ],
           "sequential": [
            [
             0,
             "#0d0887"
            ],
            [
             0.1111111111111111,
             "#46039f"
            ],
            [
             0.2222222222222222,
             "#7201a8"
            ],
            [
             0.3333333333333333,
             "#9c179e"
            ],
            [
             0.4444444444444444,
             "#bd3786"
            ],
            [
             0.5555555555555556,
             "#d8576b"
            ],
            [
             0.6666666666666666,
             "#ed7953"
            ],
            [
             0.7777777777777778,
             "#fb9f3a"
            ],
            [
             0.8888888888888888,
             "#fdca26"
            ],
            [
             1,
             "#f0f921"
            ]
           ],
           "sequentialminus": [
            [
             0,
             "#0d0887"
            ],
            [
             0.1111111111111111,
             "#46039f"
            ],
            [
             0.2222222222222222,
             "#7201a8"
            ],
            [
             0.3333333333333333,
             "#9c179e"
            ],
            [
             0.4444444444444444,
             "#bd3786"
            ],
            [
             0.5555555555555556,
             "#d8576b"
            ],
            [
             0.6666666666666666,
             "#ed7953"
            ],
            [
             0.7777777777777778,
             "#fb9f3a"
            ],
            [
             0.8888888888888888,
             "#fdca26"
            ],
            [
             1,
             "#f0f921"
            ]
           ]
          },
          "colorway": [
           "#636efa",
           "#EF553B",
           "#00cc96",
           "#ab63fa",
           "#FFA15A",
           "#19d3f3",
           "#FF6692",
           "#B6E880",
           "#FF97FF",
           "#FECB52"
          ],
          "font": {
           "color": "#2a3f5f"
          },
          "geo": {
           "bgcolor": "white",
           "lakecolor": "white",
           "landcolor": "white",
           "showlakes": true,
           "showland": true,
           "subunitcolor": "#C8D4E3"
          },
          "hoverlabel": {
           "align": "left"
          },
          "hovermode": "closest",
          "mapbox": {
           "style": "light"
          },
          "paper_bgcolor": "white",
          "plot_bgcolor": "white",
          "polar": {
           "angularaxis": {
            "gridcolor": "#EBF0F8",
            "linecolor": "#EBF0F8",
            "ticks": ""
           },
           "bgcolor": "white",
           "radialaxis": {
            "gridcolor": "#EBF0F8",
            "linecolor": "#EBF0F8",
            "ticks": ""
           }
          },
          "scene": {
           "xaxis": {
            "backgroundcolor": "white",
            "gridcolor": "#DFE8F3",
            "gridwidth": 2,
            "linecolor": "#EBF0F8",
            "showbackground": true,
            "ticks": "",
            "zerolinecolor": "#EBF0F8"
           },
           "yaxis": {
            "backgroundcolor": "white",
            "gridcolor": "#DFE8F3",
            "gridwidth": 2,
            "linecolor": "#EBF0F8",
            "showbackground": true,
            "ticks": "",
            "zerolinecolor": "#EBF0F8"
           },
           "zaxis": {
            "backgroundcolor": "white",
            "gridcolor": "#DFE8F3",
            "gridwidth": 2,
            "linecolor": "#EBF0F8",
            "showbackground": true,
            "ticks": "",
            "zerolinecolor": "#EBF0F8"
           }
          },
          "shapedefaults": {
           "line": {
            "color": "#2a3f5f"
           }
          },
          "ternary": {
           "aaxis": {
            "gridcolor": "#DFE8F3",
            "linecolor": "#A2B1C6",
            "ticks": ""
           },
           "baxis": {
            "gridcolor": "#DFE8F3",
            "linecolor": "#A2B1C6",
            "ticks": ""
           },
           "bgcolor": "white",
           "caxis": {
            "gridcolor": "#DFE8F3",
            "linecolor": "#A2B1C6",
            "ticks": ""
           }
          },
          "title": {
           "x": 0.05
          },
          "xaxis": {
           "automargin": true,
           "gridcolor": "#EBF0F8",
           "linecolor": "#EBF0F8",
           "ticks": "",
           "title": {
            "standoff": 15
           },
           "zerolinecolor": "#EBF0F8",
           "zerolinewidth": 2
          },
          "yaxis": {
           "automargin": true,
           "gridcolor": "#EBF0F8",
           "linecolor": "#EBF0F8",
           "ticks": "",
           "title": {
            "standoff": 15
           },
           "zerolinecolor": "#EBF0F8",
           "zerolinewidth": 2
          }
         }
        },
        "title": {
         "text": "Taxa de Crescimento Populacional dos Estados Brasileiros (2000-2070)"
        },
        "xaxis": {
         "title": {
          "text": "Estado"
         }
        },
        "yaxis": {
         "title": {
          "text": "Taxa de Crescimento (%)"
         }
        }
       }
      }
     },
     "metadata": {},
     "output_type": "display_data"
    }
   ],
   "source": [
    "fig_uf_evolution = go.Figure(data=[\n",
    "    go.Bar(\n",
    "        x=df_growth[\"SIGLA\"],\n",
    "        y=df_growth[\"growth_rate\"],\n",
    "        marker_color=[\"royalblue\" if rate > 0 else \"firebrick\" for rate in df_growth[\"growth_rate\"]]\n",
    "    )]\n",
    ")\n",
    "\n",
    "fig_uf_evolution.update_layout(\n",
    "    title=\"Taxa de Crescimento Populacional dos Estados Brasileiros (2000-2070)\",\n",
    "    xaxis_title=\"Estado\",\n",
    "    yaxis_title=\"Taxa de Crescimento (%)\",\n",
    "    template=\"plotly_white\"\n",
    ")\n",
    "\n",
    "fig_uf_evolution.show()"
   ]
  },
  {
   "cell_type": "markdown",
   "id": "703d9320",
   "metadata": {},
   "source": [
    "## 👵👶 Estrutura etária (pirâmide etária)"
   ]
  },
  {
   "cell_type": "markdown",
   "id": "74080e49",
   "metadata": {},
   "source": [
    "##### A pirâmide etária do Brasil está \"envelhecendo\"?"
   ]
  },
  {
   "cell_type": "code",
   "execution_count": 12,
   "id": "521d34ac",
   "metadata": {},
   "outputs": [],
   "source": [
    "df_br_age_0_14 = df[(df[\"SIGLA\"] == \"BR\") & (df[\"IDADE\"] <= 14) & (df[\"SEXO\"] != \"Ambos\")]\n",
    "df_br_age_15_59 = df[(df[\"SIGLA\"] == \"BR\") & (df[\"IDADE\"] >= 15) & (df[\"IDADE\"] <= 59) & (df[\"SEXO\"] != \"Ambos\")]\n",
    "df_br_age_60_plus = df[(df[\"SIGLA\"] == \"BR\") & (df[\"IDADE\"] >= 60) & (df[\"SEXO\"] != \"Ambos\")]"
   ]
  },
  {
   "cell_type": "code",
   "execution_count": 13,
   "id": "6effe142",
   "metadata": {},
   "outputs": [],
   "source": [
    "years = list(range(2000, 2071))"
   ]
  },
  {
   "cell_type": "code",
   "execution_count": 14,
   "id": "692cb4c2",
   "metadata": {},
   "outputs": [],
   "source": [
    "df_br_age_0_14_total_population = df_br_age_0_14[df_br_age_0_14[\"SIGLA\"] == \"BR\"][years].sum()\n",
    "df_br_age_15_59_total_population = df_br_age_15_59[df_br_age_15_59[\"SIGLA\"] == \"BR\"][years].sum()\n",
    "df_br_age_60_plus_total_population = df_br_age_60_plus[df_br_age_60_plus[\"SIGLA\"] == \"BR\"][years].sum()"
   ]
  },
  {
   "cell_type": "code",
   "execution_count": 15,
   "id": "1866531d",
   "metadata": {},
   "outputs": [],
   "source": [
    "prop_0_14 = round((df_br_age_0_14_total_population / total_population_by_year) * 100, 1)\n",
    "prop_15_59 = round((df_br_age_15_59_total_population / total_population_by_year) * 100, 1)\n",
    "prop_60_plus = round((df_br_age_60_plus_total_population / total_population_by_year) * 100, 1)"
   ]
  },
  {
   "cell_type": "code",
   "execution_count": 16,
   "id": "e8701a21",
   "metadata": {},
   "outputs": [
    {
     "data": {
      "application/vnd.plotly.v1+json": {
       "config": {
        "plotlyServerURL": "https://plot.ly"
       },
       "data": [
        {
         "mode": "lines+markers",
         "name": "0-14 anos",
         "type": "scatter",
         "x": [
          2000,
          2001,
          2002,
          2003,
          2004,
          2005,
          2006,
          2007,
          2008,
          2009,
          2010,
          2011,
          2012,
          2013,
          2014,
          2015,
          2016,
          2017,
          2018,
          2019,
          2020,
          2021,
          2022,
          2023,
          2024,
          2025,
          2026,
          2027,
          2028,
          2029,
          2030,
          2031,
          2032,
          2033,
          2034,
          2035,
          2036,
          2037,
          2038,
          2039,
          2040,
          2041,
          2042,
          2043,
          2044,
          2045,
          2046,
          2047,
          2048,
          2049,
          2050,
          2051,
          2052,
          2053,
          2054,
          2055,
          2056,
          2057,
          2058,
          2059,
          2060,
          2061,
          2062,
          2063,
          2064,
          2065,
          2066,
          2067,
          2068,
          2069,
          2070
         ],
         "y": {
          "bdata": "ZmZmZmbmPUBmZmZmZmY9QM3MzMzMzDxAzczMzMxMPEDNzMzMzMw7QM3MzMzMTDtAzczMzMzMOkDNzMzMzEw6QDMzMzMzszlAMzMzMzMzOUAzMzMzM7M4QDMzMzMzMzhAzczMzMzMN0DNzMzMzEw3QGZmZmZm5jZAAAAAAACANkCamZmZmRk2QM3MzMzMzDVAAAAAAACANUAzMzMzMzM1QGZmZmZm5jRAMzMzMzOzNEBmZmZmZmY0QJqZmZmZGTRAzczMzMzMM0AAAAAAAIAzQDMzMzMzMzNAzczMzMzMMkAAAAAAAIAyQJqZmZmZGTJAMzMzMzOzMUBmZmZmZmYxQAAAAAAAADFAmpmZmZmZMEDNzMzMzEwwQAAAAAAAADBAZmZmZmZmL0AAAAAAAAAvQGZmZmZmZi5AAAAAAAAALkDNzMzMzMwtQGZmZmZmZi1AAAAAAAAALUDNzMzMzMwsQJqZmZmZmSxAZmZmZmZmLEAAAAAAAAAsQM3MzMzMzCtAmpmZmZmZK0BmZmZmZmYrQDMzMzMzMytAAAAAAAAAK0DNzMzMzMwqQJqZmZmZmSpAZmZmZmZmKkAzMzMzMzMqQDMzMzMzMypAAAAAAAAAKkDNzMzMzMwpQJqZmZmZmSlAZmZmZmZmKUAzMzMzMzMpQAAAAAAAAClAzczMzMzMKECamZmZmZkoQJqZmZmZmShAZmZmZmZmKEAzMzMzMzMoQDMzMzMzMyhAAAAAAAAAKEAAAAAAAAAoQA==",
          "dtype": "f8"
         }
        },
        {
         "mode": "lines+markers",
         "name": "15-59 anos",
         "type": "scatter",
         "x": [
          2000,
          2001,
          2002,
          2003,
          2004,
          2005,
          2006,
          2007,
          2008,
          2009,
          2010,
          2011,
          2012,
          2013,
          2014,
          2015,
          2016,
          2017,
          2018,
          2019,
          2020,
          2021,
          2022,
          2023,
          2024,
          2025,
          2026,
          2027,
          2028,
          2029,
          2030,
          2031,
          2032,
          2033,
          2034,
          2035,
          2036,
          2037,
          2038,
          2039,
          2040,
          2041,
          2042,
          2043,
          2044,
          2045,
          2046,
          2047,
          2048,
          2049,
          2050,
          2051,
          2052,
          2053,
          2054,
          2055,
          2056,
          2057,
          2058,
          2059,
          2060,
          2061,
          2062,
          2063,
          2064,
          2065,
          2066,
          2067,
          2068,
          2069,
          2070
         ],
         "y": {
          "bdata": "MzMzMzOzTkBmZmZmZuZOQJqZmZmZGU9AzczMzMxMT0AAAAAAAIBPQGZmZmZmpk9AzczMzMzMT0AzMzMzM/NPQM3MzMzMDFBAmpmZmZkZUEDNzMzMzCxQQDMzMzMzM1BAAAAAAABAUEBmZmZmZkZQQM3MzMzMTFBAzczMzMxMUEDNzMzMzExQQGZmZmZmRlBAAAAAAABAUECamZmZmTlQQM3MzMzMLFBAZmZmZmYmUEAAAAAAACBQQDMzMzMzE1BAZmZmZmYGUEAzMzMzM/NPQGZmZmZm5k9AzczMzMzMT0AAAAAAAMBPQGZmZmZmpk9AZmZmZmamT0DNzMzMzIxPQAAAAAAAgE9AMzMzMzNzT0BmZmZmZmZPQM3MzMzMTE9AZmZmZmYmT0AAAAAAAABPQM3MzMzMzE5AmpmZmZmZTkBmZmZmZmZOQGZmZmZmJk5AMzMzMzPzTUAzMzMzM7NNQDMzMzMzc01AMzMzMzMzTUAAAAAAAABNQAAAAAAAwExAzczMzMyMTECamZmZmVlMQDMzMzMzM0xAAAAAAAAATEDNzMzMzMxLQJqZmZmZmUtAMzMzMzNzS0AAAAAAAEBLQM3MzMzMDEtAZmZmZmbmSkAzMzMzM7NKQM3MzMzMjEpAmpmZmZlZSkAzMzMzMzNKQM3MzMzMDEpAZmZmZmbmSUDNzMzMzMxJQGZmZmZmpklAzczMzMyMSUAzMzMzM3NJQJqZmZmZWUlAAAAAAABASUBmZmZmZiZJQA==",
          "dtype": "f8"
         }
        },
        {
         "mode": "lines+markers",
         "name": "60+ anos",
         "type": "scatter",
         "x": [
          2000,
          2001,
          2002,
          2003,
          2004,
          2005,
          2006,
          2007,
          2008,
          2009,
          2010,
          2011,
          2012,
          2013,
          2014,
          2015,
          2016,
          2017,
          2018,
          2019,
          2020,
          2021,
          2022,
          2023,
          2024,
          2025,
          2026,
          2027,
          2028,
          2029,
          2030,
          2031,
          2032,
          2033,
          2034,
          2035,
          2036,
          2037,
          2038,
          2039,
          2040,
          2041,
          2042,
          2043,
          2044,
          2045,
          2046,
          2047,
          2048,
          2049,
          2050,
          2051,
          2052,
          2053,
          2054,
          2055,
          2056,
          2057,
          2058,
          2059,
          2060,
          2061,
          2062,
          2063,
          2064,
          2065,
          2066,
          2067,
          2068,
          2069,
          2070
         ],
         "y": {
          "bdata": "ZmZmZmZmIUCamZmZmZkhQAAAAAAAACJAMzMzMzMzIkCamZmZmZkiQM3MzMzMzCJAMzMzMzMzI0DNzMzMzMwjQDMzMzMzMyRAzczMzMzMJEAzMzMzMzMlQM3MzMzMzCVAmpmZmZmZJkAzMzMzMzMnQAAAAAAAAChAmpmZmZmZKEBmZmZmZmYpQDMzMzMzMypAAAAAAAAAK0DNzMzMzMwrQJqZmZmZmSxAZmZmZmZmLUAzMzMzMzMuQDMzMzMzMy9AmpmZmZkZMECamZmZmZkwQJqZmZmZGTFAmpmZmZmZMUCamZmZmRkyQAAAAAAAgDJAAAAAAAAAM0AAAAAAAIAzQAAAAAAAADRAAAAAAACANEBmZmZmZuY0QGZmZmZmZjVAAAAAAAAANkAAAAAAAIA2QJqZmZmZGTdAMzMzMzOzN0DNzMzMzEw4QAAAAAAAADlAmpmZmZmZOUAzMzMzMzM6QM3MzMzMzDpAZmZmZmZmO0AAAAAAAAA8QAAAAAAAgDxAAAAAAAAAPUAAAAAAAIA9QAAAAAAAAD5AAAAAAACAPkAAAAAAAAA/QGZmZmZmZj9AZmZmZmbmP0BmZmZmZiZAQGZmZmZmZkBAZmZmZmamQECamZmZmdlAQJqZmZmZGUFAzczMzMxMQUAAAAAAAIBBQDMzMzMzs0FAmpmZmZnZQUDNzMzMzAxCQDMzMzMzM0JAmpmZmZlZQkAAAAAAAIBCQGZmZmZmpkJAzczMzMzMQkBmZmZmZuZCQA==",
          "dtype": "f8"
         }
        }
       ],
       "layout": {
        "template": {
         "data": {
          "bar": [
           {
            "error_x": {
             "color": "#2a3f5f"
            },
            "error_y": {
             "color": "#2a3f5f"
            },
            "marker": {
             "line": {
              "color": "white",
              "width": 0.5
             },
             "pattern": {
              "fillmode": "overlay",
              "size": 10,
              "solidity": 0.2
             }
            },
            "type": "bar"
           }
          ],
          "barpolar": [
           {
            "marker": {
             "line": {
              "color": "white",
              "width": 0.5
             },
             "pattern": {
              "fillmode": "overlay",
              "size": 10,
              "solidity": 0.2
             }
            },
            "type": "barpolar"
           }
          ],
          "carpet": [
           {
            "aaxis": {
             "endlinecolor": "#2a3f5f",
             "gridcolor": "#C8D4E3",
             "linecolor": "#C8D4E3",
             "minorgridcolor": "#C8D4E3",
             "startlinecolor": "#2a3f5f"
            },
            "baxis": {
             "endlinecolor": "#2a3f5f",
             "gridcolor": "#C8D4E3",
             "linecolor": "#C8D4E3",
             "minorgridcolor": "#C8D4E3",
             "startlinecolor": "#2a3f5f"
            },
            "type": "carpet"
           }
          ],
          "choropleth": [
           {
            "colorbar": {
             "outlinewidth": 0,
             "ticks": ""
            },
            "type": "choropleth"
           }
          ],
          "contour": [
           {
            "colorbar": {
             "outlinewidth": 0,
             "ticks": ""
            },
            "colorscale": [
             [
              0,
              "#0d0887"
             ],
             [
              0.1111111111111111,
              "#46039f"
             ],
             [
              0.2222222222222222,
              "#7201a8"
             ],
             [
              0.3333333333333333,
              "#9c179e"
             ],
             [
              0.4444444444444444,
              "#bd3786"
             ],
             [
              0.5555555555555556,
              "#d8576b"
             ],
             [
              0.6666666666666666,
              "#ed7953"
             ],
             [
              0.7777777777777778,
              "#fb9f3a"
             ],
             [
              0.8888888888888888,
              "#fdca26"
             ],
             [
              1,
              "#f0f921"
             ]
            ],
            "type": "contour"
           }
          ],
          "contourcarpet": [
           {
            "colorbar": {
             "outlinewidth": 0,
             "ticks": ""
            },
            "type": "contourcarpet"
           }
          ],
          "heatmap": [
           {
            "colorbar": {
             "outlinewidth": 0,
             "ticks": ""
            },
            "colorscale": [
             [
              0,
              "#0d0887"
             ],
             [
              0.1111111111111111,
              "#46039f"
             ],
             [
              0.2222222222222222,
              "#7201a8"
             ],
             [
              0.3333333333333333,
              "#9c179e"
             ],
             [
              0.4444444444444444,
              "#bd3786"
             ],
             [
              0.5555555555555556,
              "#d8576b"
             ],
             [
              0.6666666666666666,
              "#ed7953"
             ],
             [
              0.7777777777777778,
              "#fb9f3a"
             ],
             [
              0.8888888888888888,
              "#fdca26"
             ],
             [
              1,
              "#f0f921"
             ]
            ],
            "type": "heatmap"
           }
          ],
          "histogram": [
           {
            "marker": {
             "pattern": {
              "fillmode": "overlay",
              "size": 10,
              "solidity": 0.2
             }
            },
            "type": "histogram"
           }
          ],
          "histogram2d": [
           {
            "colorbar": {
             "outlinewidth": 0,
             "ticks": ""
            },
            "colorscale": [
             [
              0,
              "#0d0887"
             ],
             [
              0.1111111111111111,
              "#46039f"
             ],
             [
              0.2222222222222222,
              "#7201a8"
             ],
             [
              0.3333333333333333,
              "#9c179e"
             ],
             [
              0.4444444444444444,
              "#bd3786"
             ],
             [
              0.5555555555555556,
              "#d8576b"
             ],
             [
              0.6666666666666666,
              "#ed7953"
             ],
             [
              0.7777777777777778,
              "#fb9f3a"
             ],
             [
              0.8888888888888888,
              "#fdca26"
             ],
             [
              1,
              "#f0f921"
             ]
            ],
            "type": "histogram2d"
           }
          ],
          "histogram2dcontour": [
           {
            "colorbar": {
             "outlinewidth": 0,
             "ticks": ""
            },
            "colorscale": [
             [
              0,
              "#0d0887"
             ],
             [
              0.1111111111111111,
              "#46039f"
             ],
             [
              0.2222222222222222,
              "#7201a8"
             ],
             [
              0.3333333333333333,
              "#9c179e"
             ],
             [
              0.4444444444444444,
              "#bd3786"
             ],
             [
              0.5555555555555556,
              "#d8576b"
             ],
             [
              0.6666666666666666,
              "#ed7953"
             ],
             [
              0.7777777777777778,
              "#fb9f3a"
             ],
             [
              0.8888888888888888,
              "#fdca26"
             ],
             [
              1,
              "#f0f921"
             ]
            ],
            "type": "histogram2dcontour"
           }
          ],
          "mesh3d": [
           {
            "colorbar": {
             "outlinewidth": 0,
             "ticks": ""
            },
            "type": "mesh3d"
           }
          ],
          "parcoords": [
           {
            "line": {
             "colorbar": {
              "outlinewidth": 0,
              "ticks": ""
             }
            },
            "type": "parcoords"
           }
          ],
          "pie": [
           {
            "automargin": true,
            "type": "pie"
           }
          ],
          "scatter": [
           {
            "fillpattern": {
             "fillmode": "overlay",
             "size": 10,
             "solidity": 0.2
            },
            "type": "scatter"
           }
          ],
          "scatter3d": [
           {
            "line": {
             "colorbar": {
              "outlinewidth": 0,
              "ticks": ""
             }
            },
            "marker": {
             "colorbar": {
              "outlinewidth": 0,
              "ticks": ""
             }
            },
            "type": "scatter3d"
           }
          ],
          "scattercarpet": [
           {
            "marker": {
             "colorbar": {
              "outlinewidth": 0,
              "ticks": ""
             }
            },
            "type": "scattercarpet"
           }
          ],
          "scattergeo": [
           {
            "marker": {
             "colorbar": {
              "outlinewidth": 0,
              "ticks": ""
             }
            },
            "type": "scattergeo"
           }
          ],
          "scattergl": [
           {
            "marker": {
             "colorbar": {
              "outlinewidth": 0,
              "ticks": ""
             }
            },
            "type": "scattergl"
           }
          ],
          "scattermap": [
           {
            "marker": {
             "colorbar": {
              "outlinewidth": 0,
              "ticks": ""
             }
            },
            "type": "scattermap"
           }
          ],
          "scattermapbox": [
           {
            "marker": {
             "colorbar": {
              "outlinewidth": 0,
              "ticks": ""
             }
            },
            "type": "scattermapbox"
           }
          ],
          "scatterpolar": [
           {
            "marker": {
             "colorbar": {
              "outlinewidth": 0,
              "ticks": ""
             }
            },
            "type": "scatterpolar"
           }
          ],
          "scatterpolargl": [
           {
            "marker": {
             "colorbar": {
              "outlinewidth": 0,
              "ticks": ""
             }
            },
            "type": "scatterpolargl"
           }
          ],
          "scatterternary": [
           {
            "marker": {
             "colorbar": {
              "outlinewidth": 0,
              "ticks": ""
             }
            },
            "type": "scatterternary"
           }
          ],
          "surface": [
           {
            "colorbar": {
             "outlinewidth": 0,
             "ticks": ""
            },
            "colorscale": [
             [
              0,
              "#0d0887"
             ],
             [
              0.1111111111111111,
              "#46039f"
             ],
             [
              0.2222222222222222,
              "#7201a8"
             ],
             [
              0.3333333333333333,
              "#9c179e"
             ],
             [
              0.4444444444444444,
              "#bd3786"
             ],
             [
              0.5555555555555556,
              "#d8576b"
             ],
             [
              0.6666666666666666,
              "#ed7953"
             ],
             [
              0.7777777777777778,
              "#fb9f3a"
             ],
             [
              0.8888888888888888,
              "#fdca26"
             ],
             [
              1,
              "#f0f921"
             ]
            ],
            "type": "surface"
           }
          ],
          "table": [
           {
            "cells": {
             "fill": {
              "color": "#EBF0F8"
             },
             "line": {
              "color": "white"
             }
            },
            "header": {
             "fill": {
              "color": "#C8D4E3"
             },
             "line": {
              "color": "white"
             }
            },
            "type": "table"
           }
          ]
         },
         "layout": {
          "annotationdefaults": {
           "arrowcolor": "#2a3f5f",
           "arrowhead": 0,
           "arrowwidth": 1
          },
          "autotypenumbers": "strict",
          "coloraxis": {
           "colorbar": {
            "outlinewidth": 0,
            "ticks": ""
           }
          },
          "colorscale": {
           "diverging": [
            [
             0,
             "#8e0152"
            ],
            [
             0.1,
             "#c51b7d"
            ],
            [
             0.2,
             "#de77ae"
            ],
            [
             0.3,
             "#f1b6da"
            ],
            [
             0.4,
             "#fde0ef"
            ],
            [
             0.5,
             "#f7f7f7"
            ],
            [
             0.6,
             "#e6f5d0"
            ],
            [
             0.7,
             "#b8e186"
            ],
            [
             0.8,
             "#7fbc41"
            ],
            [
             0.9,
             "#4d9221"
            ],
            [
             1,
             "#276419"
            ]
           ],
           "sequential": [
            [
             0,
             "#0d0887"
            ],
            [
             0.1111111111111111,
             "#46039f"
            ],
            [
             0.2222222222222222,
             "#7201a8"
            ],
            [
             0.3333333333333333,
             "#9c179e"
            ],
            [
             0.4444444444444444,
             "#bd3786"
            ],
            [
             0.5555555555555556,
             "#d8576b"
            ],
            [
             0.6666666666666666,
             "#ed7953"
            ],
            [
             0.7777777777777778,
             "#fb9f3a"
            ],
            [
             0.8888888888888888,
             "#fdca26"
            ],
            [
             1,
             "#f0f921"
            ]
           ],
           "sequentialminus": [
            [
             0,
             "#0d0887"
            ],
            [
             0.1111111111111111,
             "#46039f"
            ],
            [
             0.2222222222222222,
             "#7201a8"
            ],
            [
             0.3333333333333333,
             "#9c179e"
            ],
            [
             0.4444444444444444,
             "#bd3786"
            ],
            [
             0.5555555555555556,
             "#d8576b"
            ],
            [
             0.6666666666666666,
             "#ed7953"
            ],
            [
             0.7777777777777778,
             "#fb9f3a"
            ],
            [
             0.8888888888888888,
             "#fdca26"
            ],
            [
             1,
             "#f0f921"
            ]
           ]
          },
          "colorway": [
           "#636efa",
           "#EF553B",
           "#00cc96",
           "#ab63fa",
           "#FFA15A",
           "#19d3f3",
           "#FF6692",
           "#B6E880",
           "#FF97FF",
           "#FECB52"
          ],
          "font": {
           "color": "#2a3f5f"
          },
          "geo": {
           "bgcolor": "white",
           "lakecolor": "white",
           "landcolor": "white",
           "showlakes": true,
           "showland": true,
           "subunitcolor": "#C8D4E3"
          },
          "hoverlabel": {
           "align": "left"
          },
          "hovermode": "closest",
          "mapbox": {
           "style": "light"
          },
          "paper_bgcolor": "white",
          "plot_bgcolor": "white",
          "polar": {
           "angularaxis": {
            "gridcolor": "#EBF0F8",
            "linecolor": "#EBF0F8",
            "ticks": ""
           },
           "bgcolor": "white",
           "radialaxis": {
            "gridcolor": "#EBF0F8",
            "linecolor": "#EBF0F8",
            "ticks": ""
           }
          },
          "scene": {
           "xaxis": {
            "backgroundcolor": "white",
            "gridcolor": "#DFE8F3",
            "gridwidth": 2,
            "linecolor": "#EBF0F8",
            "showbackground": true,
            "ticks": "",
            "zerolinecolor": "#EBF0F8"
           },
           "yaxis": {
            "backgroundcolor": "white",
            "gridcolor": "#DFE8F3",
            "gridwidth": 2,
            "linecolor": "#EBF0F8",
            "showbackground": true,
            "ticks": "",
            "zerolinecolor": "#EBF0F8"
           },
           "zaxis": {
            "backgroundcolor": "white",
            "gridcolor": "#DFE8F3",
            "gridwidth": 2,
            "linecolor": "#EBF0F8",
            "showbackground": true,
            "ticks": "",
            "zerolinecolor": "#EBF0F8"
           }
          },
          "shapedefaults": {
           "line": {
            "color": "#2a3f5f"
           }
          },
          "ternary": {
           "aaxis": {
            "gridcolor": "#DFE8F3",
            "linecolor": "#A2B1C6",
            "ticks": ""
           },
           "baxis": {
            "gridcolor": "#DFE8F3",
            "linecolor": "#A2B1C6",
            "ticks": ""
           },
           "bgcolor": "white",
           "caxis": {
            "gridcolor": "#DFE8F3",
            "linecolor": "#A2B1C6",
            "ticks": ""
           }
          },
          "title": {
           "x": 0.05
          },
          "xaxis": {
           "automargin": true,
           "gridcolor": "#EBF0F8",
           "linecolor": "#EBF0F8",
           "ticks": "",
           "title": {
            "standoff": 15
           },
           "zerolinecolor": "#EBF0F8",
           "zerolinewidth": 2
          },
          "yaxis": {
           "automargin": true,
           "gridcolor": "#EBF0F8",
           "linecolor": "#EBF0F8",
           "ticks": "",
           "title": {
            "standoff": 15
           },
           "zerolinecolor": "#EBF0F8",
           "zerolinewidth": 2
          }
         }
        },
        "title": {
         "text": "Proporção da População Brasileira por Faixa Etária (2000-2070)"
        },
        "xaxis": {
         "title": {
          "text": "Ano"
         }
        },
        "yaxis": {
         "title": {
          "text": "Proporção (%)"
         }
        }
       }
      }
     },
     "metadata": {},
     "output_type": "display_data"
    }
   ],
   "source": [
    "age_pyramid_fig = go.Figure()\n",
    "\n",
    "age_pyramid_fig.add_trace(go.Scatter(\n",
    "    x=prop_0_14.index,\n",
    "    y=prop_0_14.values,\n",
    "    mode=\"lines+markers\",\n",
    "    name=\"0-14 anos\"\n",
    "))\n",
    "\n",
    "age_pyramid_fig.add_trace(go.Scatter(\n",
    "    x=prop_15_59.index,\n",
    "    y=prop_15_59.values,\n",
    "    mode=\"lines+markers\",\n",
    "    name=\"15-59 anos\"\n",
    "))\n",
    "\n",
    "age_pyramid_fig.add_trace(go.Scatter(\n",
    "    x=prop_60_plus.index,\n",
    "    y=prop_60_plus.values,\n",
    "    mode=\"lines+markers\",\n",
    "    name=\"60+ anos\"\n",
    "))\n",
    "\n",
    "age_pyramid_fig.update_layout(\n",
    "    title=\"Proporção da População Brasileira por Faixa Etária (2000-2070)\",\n",
    "    xaxis_title=\"Ano\",\n",
    "    yaxis_title=\"Proporção (%)\",\n",
    "    template=\"plotly_white\"\n",
    ")\n",
    "\n",
    "age_pyramid_fig.show()"
   ]
  },
  {
   "cell_type": "markdown",
   "id": "8440d8de",
   "metadata": {},
   "source": [
    "\n",
    "##### Em que ano os idosos vão superar os jovens?\n"
   ]
  },
  {
   "cell_type": "code",
   "execution_count": 17,
   "id": "ece9e167",
   "metadata": {},
   "outputs": [],
   "source": [
    "df_young = (df[(df[\"IDADE\"] <= 29) & (df[\"IDADE\"] >= 15) & (df[\"SIGLA\"] == \"BR\") & (df[\"SEXO\"] == \"Ambos\")][years].sum()).reset_index()\n",
    "df_old = (df[(df[\"IDADE\"] >= 60) & (df[\"SIGLA\"] == \"BR\") & (df[\"SEXO\"] == \"Ambos\")][years].sum()).reset_index()\n",
    "\n",
    "df_young.columns = [\"ano\", \"jovens\"]\n",
    "df_old.columns = [\"ano\", \"idosos\"]"
   ]
  },
  {
   "cell_type": "code",
   "execution_count": 18,
   "id": "3c0ac351",
   "metadata": {},
   "outputs": [
    {
     "data": {
      "text/html": [
       "<div>\n",
       "<style scoped>\n",
       "    .dataframe tbody tr th:only-of-type {\n",
       "        vertical-align: middle;\n",
       "    }\n",
       "\n",
       "    .dataframe tbody tr th {\n",
       "        vertical-align: top;\n",
       "    }\n",
       "\n",
       "    .dataframe thead th {\n",
       "        text-align: right;\n",
       "    }\n",
       "</style>\n",
       "<table border=\"1\" class=\"dataframe\">\n",
       "  <thead>\n",
       "    <tr style=\"text-align: right;\">\n",
       "      <th></th>\n",
       "      <th>ano</th>\n",
       "      <th>jovens</th>\n",
       "      <th>idosos</th>\n",
       "    </tr>\n",
       "  </thead>\n",
       "  <tbody>\n",
       "    <tr>\n",
       "      <th>33</th>\n",
       "      <td>2033</td>\n",
       "      <td>43820598</td>\n",
       "      <td>44713297</td>\n",
       "    </tr>\n",
       "    <tr>\n",
       "      <th>34</th>\n",
       "      <td>2034</td>\n",
       "      <td>43613938</td>\n",
       "      <td>45872706</td>\n",
       "    </tr>\n",
       "    <tr>\n",
       "      <th>35</th>\n",
       "      <td>2035</td>\n",
       "      <td>43324506</td>\n",
       "      <td>47051618</td>\n",
       "    </tr>\n",
       "    <tr>\n",
       "      <th>36</th>\n",
       "      <td>2036</td>\n",
       "      <td>42960401</td>\n",
       "      <td>48270206</td>\n",
       "    </tr>\n",
       "    <tr>\n",
       "      <th>37</th>\n",
       "      <td>2037</td>\n",
       "      <td>42579404</td>\n",
       "      <td>49540659</td>\n",
       "    </tr>\n",
       "    <tr>\n",
       "      <th>38</th>\n",
       "      <td>2038</td>\n",
       "      <td>42155034</td>\n",
       "      <td>50866243</td>\n",
       "    </tr>\n",
       "    <tr>\n",
       "      <th>39</th>\n",
       "      <td>2039</td>\n",
       "      <td>41704216</td>\n",
       "      <td>52236970</td>\n",
       "    </tr>\n",
       "    <tr>\n",
       "      <th>40</th>\n",
       "      <td>2040</td>\n",
       "      <td>41248694</td>\n",
       "      <td>53633215</td>\n",
       "    </tr>\n",
       "    <tr>\n",
       "      <th>41</th>\n",
       "      <td>2041</td>\n",
       "      <td>40737610</td>\n",
       "      <td>55026158</td>\n",
       "    </tr>\n",
       "    <tr>\n",
       "      <th>42</th>\n",
       "      <td>2042</td>\n",
       "      <td>40171431</td>\n",
       "      <td>56392977</td>\n",
       "    </tr>\n",
       "    <tr>\n",
       "      <th>43</th>\n",
       "      <td>2043</td>\n",
       "      <td>39582509</td>\n",
       "      <td>57728377</td>\n",
       "    </tr>\n",
       "    <tr>\n",
       "      <th>44</th>\n",
       "      <td>2044</td>\n",
       "      <td>38934007</td>\n",
       "      <td>59031923</td>\n",
       "    </tr>\n",
       "    <tr>\n",
       "      <th>45</th>\n",
       "      <td>2045</td>\n",
       "      <td>38199786</td>\n",
       "      <td>60290459</td>\n",
       "    </tr>\n",
       "    <tr>\n",
       "      <th>46</th>\n",
       "      <td>2046</td>\n",
       "      <td>37503377</td>\n",
       "      <td>61488537</td>\n",
       "    </tr>\n",
       "    <tr>\n",
       "      <th>47</th>\n",
       "      <td>2047</td>\n",
       "      <td>36845716</td>\n",
       "      <td>62615945</td>\n",
       "    </tr>\n",
       "    <tr>\n",
       "      <th>48</th>\n",
       "      <td>2048</td>\n",
       "      <td>36125206</td>\n",
       "      <td>63664610</td>\n",
       "    </tr>\n",
       "    <tr>\n",
       "      <th>49</th>\n",
       "      <td>2049</td>\n",
       "      <td>35416409</td>\n",
       "      <td>64637653</td>\n",
       "    </tr>\n",
       "    <tr>\n",
       "      <th>50</th>\n",
       "      <td>2050</td>\n",
       "      <td>34796796</td>\n",
       "      <td>65549776</td>\n",
       "    </tr>\n",
       "    <tr>\n",
       "      <th>51</th>\n",
       "      <td>2051</td>\n",
       "      <td>34249540</td>\n",
       "      <td>66422062</td>\n",
       "    </tr>\n",
       "    <tr>\n",
       "      <th>52</th>\n",
       "      <td>2052</td>\n",
       "      <td>33771549</td>\n",
       "      <td>67269889</td>\n",
       "    </tr>\n",
       "    <tr>\n",
       "      <th>53</th>\n",
       "      <td>2053</td>\n",
       "      <td>33340868</td>\n",
       "      <td>68095122</td>\n",
       "    </tr>\n",
       "    <tr>\n",
       "      <th>54</th>\n",
       "      <td>2054</td>\n",
       "      <td>32933151</td>\n",
       "      <td>68892807</td>\n",
       "    </tr>\n",
       "    <tr>\n",
       "      <th>55</th>\n",
       "      <td>2055</td>\n",
       "      <td>32557941</td>\n",
       "      <td>69662989</td>\n",
       "    </tr>\n",
       "    <tr>\n",
       "      <th>56</th>\n",
       "      <td>2056</td>\n",
       "      <td>32207737</td>\n",
       "      <td>70403991</td>\n",
       "    </tr>\n",
       "    <tr>\n",
       "      <th>57</th>\n",
       "      <td>2057</td>\n",
       "      <td>31877709</td>\n",
       "      <td>71113256</td>\n",
       "    </tr>\n",
       "    <tr>\n",
       "      <th>58</th>\n",
       "      <td>2058</td>\n",
       "      <td>31564570</td>\n",
       "      <td>71792720</td>\n",
       "    </tr>\n",
       "    <tr>\n",
       "      <th>59</th>\n",
       "      <td>2059</td>\n",
       "      <td>31265021</td>\n",
       "      <td>72439658</td>\n",
       "    </tr>\n",
       "    <tr>\n",
       "      <th>60</th>\n",
       "      <td>2060</td>\n",
       "      <td>30975602</td>\n",
       "      <td>73032189</td>\n",
       "    </tr>\n",
       "    <tr>\n",
       "      <th>61</th>\n",
       "      <td>2061</td>\n",
       "      <td>30693576</td>\n",
       "      <td>73541875</td>\n",
       "    </tr>\n",
       "    <tr>\n",
       "      <th>62</th>\n",
       "      <td>2062</td>\n",
       "      <td>30416907</td>\n",
       "      <td>73971580</td>\n",
       "    </tr>\n",
       "    <tr>\n",
       "      <th>63</th>\n",
       "      <td>2063</td>\n",
       "      <td>30143743</td>\n",
       "      <td>74330256</td>\n",
       "    </tr>\n",
       "    <tr>\n",
       "      <th>64</th>\n",
       "      <td>2064</td>\n",
       "      <td>29871509</td>\n",
       "      <td>74629781</td>\n",
       "    </tr>\n",
       "    <tr>\n",
       "      <th>65</th>\n",
       "      <td>2065</td>\n",
       "      <td>29598070</td>\n",
       "      <td>74878965</td>\n",
       "    </tr>\n",
       "    <tr>\n",
       "      <th>66</th>\n",
       "      <td>2066</td>\n",
       "      <td>29322486</td>\n",
       "      <td>75087501</td>\n",
       "    </tr>\n",
       "    <tr>\n",
       "      <th>67</th>\n",
       "      <td>2067</td>\n",
       "      <td>29044818</td>\n",
       "      <td>75204572</td>\n",
       "    </tr>\n",
       "    <tr>\n",
       "      <th>68</th>\n",
       "      <td>2068</td>\n",
       "      <td>28763901</td>\n",
       "      <td>75277542</td>\n",
       "    </tr>\n",
       "    <tr>\n",
       "      <th>69</th>\n",
       "      <td>2069</td>\n",
       "      <td>28477741</td>\n",
       "      <td>75315921</td>\n",
       "    </tr>\n",
       "    <tr>\n",
       "      <th>70</th>\n",
       "      <td>2070</td>\n",
       "      <td>28185502</td>\n",
       "      <td>75292150</td>\n",
       "    </tr>\n",
       "  </tbody>\n",
       "</table>\n",
       "</div>"
      ],
      "text/plain": [
       "     ano    jovens    idosos\n",
       "33  2033  43820598  44713297\n",
       "34  2034  43613938  45872706\n",
       "35  2035  43324506  47051618\n",
       "36  2036  42960401  48270206\n",
       "37  2037  42579404  49540659\n",
       "38  2038  42155034  50866243\n",
       "39  2039  41704216  52236970\n",
       "40  2040  41248694  53633215\n",
       "41  2041  40737610  55026158\n",
       "42  2042  40171431  56392977\n",
       "43  2043  39582509  57728377\n",
       "44  2044  38934007  59031923\n",
       "45  2045  38199786  60290459\n",
       "46  2046  37503377  61488537\n",
       "47  2047  36845716  62615945\n",
       "48  2048  36125206  63664610\n",
       "49  2049  35416409  64637653\n",
       "50  2050  34796796  65549776\n",
       "51  2051  34249540  66422062\n",
       "52  2052  33771549  67269889\n",
       "53  2053  33340868  68095122\n",
       "54  2054  32933151  68892807\n",
       "55  2055  32557941  69662989\n",
       "56  2056  32207737  70403991\n",
       "57  2057  31877709  71113256\n",
       "58  2058  31564570  71792720\n",
       "59  2059  31265021  72439658\n",
       "60  2060  30975602  73032189\n",
       "61  2061  30693576  73541875\n",
       "62  2062  30416907  73971580\n",
       "63  2063  30143743  74330256\n",
       "64  2064  29871509  74629781\n",
       "65  2065  29598070  74878965\n",
       "66  2066  29322486  75087501\n",
       "67  2067  29044818  75204572\n",
       "68  2068  28763901  75277542\n",
       "69  2069  28477741  75315921\n",
       "70  2070  28185502  75292150"
      ]
     },
     "execution_count": 18,
     "metadata": {},
     "output_type": "execute_result"
    }
   ],
   "source": [
    "df_young_old = pd.merge(df_young, df_old, on=\"ano\")\n",
    "df_young_old[df_young_old[\"idosos\"] > df_young_old[\"jovens\"]]"
   ]
  },
  {
   "cell_type": "code",
   "execution_count": null,
   "id": "f02f02d9",
   "metadata": {},
   "outputs": [
    {
     "data": {
      "application/vnd.plotly.v1+json": {
       "config": {
        "plotlyServerURL": "https://plot.ly"
       },
       "data": [
        {
         "marker": {
          "color": "royalblue"
         },
         "name": "Jovens",
         "opacity": 0.7,
         "type": "bar",
         "x": {
          "bdata": "0AfRB9IH0wfUB9UH1gfXB9gH2QfaB9sH3AfdB94H3wfgB+EH4gfjB+QH5QfmB+cH6AfpB+oH6wfsB+0H7gfvB/AH8QfyB/MH9Af1B/YH9wf4B/kH+gf7B/wH/Qf+B/8HAAgBCAIIAwgECAUIBggHCAgICQgKCAsIDAgNCA4IDwgQCBEIEggTCBQIFQgWCA==",
          "dtype": "i2"
         },
         "y": {
          "bdata": "3FrlAu1i8AL7YPoC5jkDA7fpCgO2WhEDR3gWA1k2GgPIdRwDDT4dA1/uGgP0jxYDA+cSA4KmDwNvOQwD6wwIAxjcAgNJy/wCmjf2AqW/8ALVR+wCUoznAnB/4AJejdgCQvvQAtnsyALiVMECLlO6AlxvswJ+Vq0CpNeoAsxlpAIP2Z8CNqacAvJ+mQJaFJUCEYaPAsy1iQIaPIMCGFt8ArZndQJKm20Cp/dkAi37WwL3FVIC6uFGApFBPAKUODICFjonAllpHAL89BICRJsKAh1QAwLEvfwBH4X2AXXL8AF5c+sBTWrmARqj4QH9EN0BcqbYAchY1AELINAB//TLAZXNxwF2ocMB9my/AVIwuwH95rYBLYmyAZ4TrgE=",
          "dtype": "i4"
         }
        },
        {
         "marker": {
          "color": "firebrick"
         },
         "name": "Idosos",
         "opacity": 0.7,
         "type": "bar",
         "x": {
          "bdata": "0AfRB9IH0wfUB9UH1gfXB9gH2QfaB9sH3AfdB94H3wfgB+EH4gfjB+QH5QfmB+cH6AfpB+oH6wfsB+0H7gfvB/AH8QfyB/MH9Af1B/YH9wf4B/kH+gf7B/wH/Qf+B/8HAAgBCAIIAwgECAUIBggHCAgICQgKCAsIDAgNCA4IDwgQCBEIEggTCBQIFQgWCA==",
          "dtype": "i2"
         },
         "y": {
          "bdata": "4WPoAAXG7gBKTPUAyg78AGJEAwHMHQsBMa4TAX7oHAFNviYBPykxAdohPAEtr0cBy91TASu3YAHoMG4BcjZ8ARzEigFC4ZkBbo+pAenAuQEzc8kBTYvXAbM25gHzQfcBEWMJApa3GwIRBC4C0x9AApr+UQI0tGMCWVR1Ag3xhgJknJgCUUWqAkL2uwJi880CfovgAjPu8wJDKAgDqhIdA79gMgPuoUcDEX1cA3ndcANzwYQDm/WXA5k9qgOJcbsD4nHLA9VK2gPQNegDLoX1AwF1AgSSDA8EhzgbBA35JgSXRzIEKBo9BFB4RwRqV1EE/WFaBPMoYgR8t2gEkDBuBJXCcgT1j3YEjb55BNyHewTmpHwE0Tp9BPbdfAQ=",
          "dtype": "i4"
         }
        }
       ],
       "layout": {
        "barmode": "overlay",
        "template": {
         "data": {
          "bar": [
           {
            "error_x": {
             "color": "#2a3f5f"
            },
            "error_y": {
             "color": "#2a3f5f"
            },
            "marker": {
             "line": {
              "color": "white",
              "width": 0.5
             },
             "pattern": {
              "fillmode": "overlay",
              "size": 10,
              "solidity": 0.2
             }
            },
            "type": "bar"
           }
          ],
          "barpolar": [
           {
            "marker": {
             "line": {
              "color": "white",
              "width": 0.5
             },
             "pattern": {
              "fillmode": "overlay",
              "size": 10,
              "solidity": 0.2
             }
            },
            "type": "barpolar"
           }
          ],
          "carpet": [
           {
            "aaxis": {
             "endlinecolor": "#2a3f5f",
             "gridcolor": "#C8D4E3",
             "linecolor": "#C8D4E3",
             "minorgridcolor": "#C8D4E3",
             "startlinecolor": "#2a3f5f"
            },
            "baxis": {
             "endlinecolor": "#2a3f5f",
             "gridcolor": "#C8D4E3",
             "linecolor": "#C8D4E3",
             "minorgridcolor": "#C8D4E3",
             "startlinecolor": "#2a3f5f"
            },
            "type": "carpet"
           }
          ],
          "choropleth": [
           {
            "colorbar": {
             "outlinewidth": 0,
             "ticks": ""
            },
            "type": "choropleth"
           }
          ],
          "contour": [
           {
            "colorbar": {
             "outlinewidth": 0,
             "ticks": ""
            },
            "colorscale": [
             [
              0,
              "#0d0887"
             ],
             [
              0.1111111111111111,
              "#46039f"
             ],
             [
              0.2222222222222222,
              "#7201a8"
             ],
             [
              0.3333333333333333,
              "#9c179e"
             ],
             [
              0.4444444444444444,
              "#bd3786"
             ],
             [
              0.5555555555555556,
              "#d8576b"
             ],
             [
              0.6666666666666666,
              "#ed7953"
             ],
             [
              0.7777777777777778,
              "#fb9f3a"
             ],
             [
              0.8888888888888888,
              "#fdca26"
             ],
             [
              1,
              "#f0f921"
             ]
            ],
            "type": "contour"
           }
          ],
          "contourcarpet": [
           {
            "colorbar": {
             "outlinewidth": 0,
             "ticks": ""
            },
            "type": "contourcarpet"
           }
          ],
          "heatmap": [
           {
            "colorbar": {
             "outlinewidth": 0,
             "ticks": ""
            },
            "colorscale": [
             [
              0,
              "#0d0887"
             ],
             [
              0.1111111111111111,
              "#46039f"
             ],
             [
              0.2222222222222222,
              "#7201a8"
             ],
             [
              0.3333333333333333,
              "#9c179e"
             ],
             [
              0.4444444444444444,
              "#bd3786"
             ],
             [
              0.5555555555555556,
              "#d8576b"
             ],
             [
              0.6666666666666666,
              "#ed7953"
             ],
             [
              0.7777777777777778,
              "#fb9f3a"
             ],
             [
              0.8888888888888888,
              "#fdca26"
             ],
             [
              1,
              "#f0f921"
             ]
            ],
            "type": "heatmap"
           }
          ],
          "histogram": [
           {
            "marker": {
             "pattern": {
              "fillmode": "overlay",
              "size": 10,
              "solidity": 0.2
             }
            },
            "type": "histogram"
           }
          ],
          "histogram2d": [
           {
            "colorbar": {
             "outlinewidth": 0,
             "ticks": ""
            },
            "colorscale": [
             [
              0,
              "#0d0887"
             ],
             [
              0.1111111111111111,
              "#46039f"
             ],
             [
              0.2222222222222222,
              "#7201a8"
             ],
             [
              0.3333333333333333,
              "#9c179e"
             ],
             [
              0.4444444444444444,
              "#bd3786"
             ],
             [
              0.5555555555555556,
              "#d8576b"
             ],
             [
              0.6666666666666666,
              "#ed7953"
             ],
             [
              0.7777777777777778,
              "#fb9f3a"
             ],
             [
              0.8888888888888888,
              "#fdca26"
             ],
             [
              1,
              "#f0f921"
             ]
            ],
            "type": "histogram2d"
           }
          ],
          "histogram2dcontour": [
           {
            "colorbar": {
             "outlinewidth": 0,
             "ticks": ""
            },
            "colorscale": [
             [
              0,
              "#0d0887"
             ],
             [
              0.1111111111111111,
              "#46039f"
             ],
             [
              0.2222222222222222,
              "#7201a8"
             ],
             [
              0.3333333333333333,
              "#9c179e"
             ],
             [
              0.4444444444444444,
              "#bd3786"
             ],
             [
              0.5555555555555556,
              "#d8576b"
             ],
             [
              0.6666666666666666,
              "#ed7953"
             ],
             [
              0.7777777777777778,
              "#fb9f3a"
             ],
             [
              0.8888888888888888,
              "#fdca26"
             ],
             [
              1,
              "#f0f921"
             ]
            ],
            "type": "histogram2dcontour"
           }
          ],
          "mesh3d": [
           {
            "colorbar": {
             "outlinewidth": 0,
             "ticks": ""
            },
            "type": "mesh3d"
           }
          ],
          "parcoords": [
           {
            "line": {
             "colorbar": {
              "outlinewidth": 0,
              "ticks": ""
             }
            },
            "type": "parcoords"
           }
          ],
          "pie": [
           {
            "automargin": true,
            "type": "pie"
           }
          ],
          "scatter": [
           {
            "fillpattern": {
             "fillmode": "overlay",
             "size": 10,
             "solidity": 0.2
            },
            "type": "scatter"
           }
          ],
          "scatter3d": [
           {
            "line": {
             "colorbar": {
              "outlinewidth": 0,
              "ticks": ""
             }
            },
            "marker": {
             "colorbar": {
              "outlinewidth": 0,
              "ticks": ""
             }
            },
            "type": "scatter3d"
           }
          ],
          "scattercarpet": [
           {
            "marker": {
             "colorbar": {
              "outlinewidth": 0,
              "ticks": ""
             }
            },
            "type": "scattercarpet"
           }
          ],
          "scattergeo": [
           {
            "marker": {
             "colorbar": {
              "outlinewidth": 0,
              "ticks": ""
             }
            },
            "type": "scattergeo"
           }
          ],
          "scattergl": [
           {
            "marker": {
             "colorbar": {
              "outlinewidth": 0,
              "ticks": ""
             }
            },
            "type": "scattergl"
           }
          ],
          "scattermap": [
           {
            "marker": {
             "colorbar": {
              "outlinewidth": 0,
              "ticks": ""
             }
            },
            "type": "scattermap"
           }
          ],
          "scattermapbox": [
           {
            "marker": {
             "colorbar": {
              "outlinewidth": 0,
              "ticks": ""
             }
            },
            "type": "scattermapbox"
           }
          ],
          "scatterpolar": [
           {
            "marker": {
             "colorbar": {
              "outlinewidth": 0,
              "ticks": ""
             }
            },
            "type": "scatterpolar"
           }
          ],
          "scatterpolargl": [
           {
            "marker": {
             "colorbar": {
              "outlinewidth": 0,
              "ticks": ""
             }
            },
            "type": "scatterpolargl"
           }
          ],
          "scatterternary": [
           {
            "marker": {
             "colorbar": {
              "outlinewidth": 0,
              "ticks": ""
             }
            },
            "type": "scatterternary"
           }
          ],
          "surface": [
           {
            "colorbar": {
             "outlinewidth": 0,
             "ticks": ""
            },
            "colorscale": [
             [
              0,
              "#0d0887"
             ],
             [
              0.1111111111111111,
              "#46039f"
             ],
             [
              0.2222222222222222,
              "#7201a8"
             ],
             [
              0.3333333333333333,
              "#9c179e"
             ],
             [
              0.4444444444444444,
              "#bd3786"
             ],
             [
              0.5555555555555556,
              "#d8576b"
             ],
             [
              0.6666666666666666,
              "#ed7953"
             ],
             [
              0.7777777777777778,
              "#fb9f3a"
             ],
             [
              0.8888888888888888,
              "#fdca26"
             ],
             [
              1,
              "#f0f921"
             ]
            ],
            "type": "surface"
           }
          ],
          "table": [
           {
            "cells": {
             "fill": {
              "color": "#EBF0F8"
             },
             "line": {
              "color": "white"
             }
            },
            "header": {
             "fill": {
              "color": "#C8D4E3"
             },
             "line": {
              "color": "white"
             }
            },
            "type": "table"
           }
          ]
         },
         "layout": {
          "annotationdefaults": {
           "arrowcolor": "#2a3f5f",
           "arrowhead": 0,
           "arrowwidth": 1
          },
          "autotypenumbers": "strict",
          "coloraxis": {
           "colorbar": {
            "outlinewidth": 0,
            "ticks": ""
           }
          },
          "colorscale": {
           "diverging": [
            [
             0,
             "#8e0152"
            ],
            [
             0.1,
             "#c51b7d"
            ],
            [
             0.2,
             "#de77ae"
            ],
            [
             0.3,
             "#f1b6da"
            ],
            [
             0.4,
             "#fde0ef"
            ],
            [
             0.5,
             "#f7f7f7"
            ],
            [
             0.6,
             "#e6f5d0"
            ],
            [
             0.7,
             "#b8e186"
            ],
            [
             0.8,
             "#7fbc41"
            ],
            [
             0.9,
             "#4d9221"
            ],
            [
             1,
             "#276419"
            ]
           ],
           "sequential": [
            [
             0,
             "#0d0887"
            ],
            [
             0.1111111111111111,
             "#46039f"
            ],
            [
             0.2222222222222222,
             "#7201a8"
            ],
            [
             0.3333333333333333,
             "#9c179e"
            ],
            [
             0.4444444444444444,
             "#bd3786"
            ],
            [
             0.5555555555555556,
             "#d8576b"
            ],
            [
             0.6666666666666666,
             "#ed7953"
            ],
            [
             0.7777777777777778,
             "#fb9f3a"
            ],
            [
             0.8888888888888888,
             "#fdca26"
            ],
            [
             1,
             "#f0f921"
            ]
           ],
           "sequentialminus": [
            [
             0,
             "#0d0887"
            ],
            [
             0.1111111111111111,
             "#46039f"
            ],
            [
             0.2222222222222222,
             "#7201a8"
            ],
            [
             0.3333333333333333,
             "#9c179e"
            ],
            [
             0.4444444444444444,
             "#bd3786"
            ],
            [
             0.5555555555555556,
             "#d8576b"
            ],
            [
             0.6666666666666666,
             "#ed7953"
            ],
            [
             0.7777777777777778,
             "#fb9f3a"
            ],
            [
             0.8888888888888888,
             "#fdca26"
            ],
            [
             1,
             "#f0f921"
            ]
           ]
          },
          "colorway": [
           "#636efa",
           "#EF553B",
           "#00cc96",
           "#ab63fa",
           "#FFA15A",
           "#19d3f3",
           "#FF6692",
           "#B6E880",
           "#FF97FF",
           "#FECB52"
          ],
          "font": {
           "color": "#2a3f5f"
          },
          "geo": {
           "bgcolor": "white",
           "lakecolor": "white",
           "landcolor": "white",
           "showlakes": true,
           "showland": true,
           "subunitcolor": "#C8D4E3"
          },
          "hoverlabel": {
           "align": "left"
          },
          "hovermode": "closest",
          "mapbox": {
           "style": "light"
          },
          "paper_bgcolor": "white",
          "plot_bgcolor": "white",
          "polar": {
           "angularaxis": {
            "gridcolor": "#EBF0F8",
            "linecolor": "#EBF0F8",
            "ticks": ""
           },
           "bgcolor": "white",
           "radialaxis": {
            "gridcolor": "#EBF0F8",
            "linecolor": "#EBF0F8",
            "ticks": ""
           }
          },
          "scene": {
           "xaxis": {
            "backgroundcolor": "white",
            "gridcolor": "#DFE8F3",
            "gridwidth": 2,
            "linecolor": "#EBF0F8",
            "showbackground": true,
            "ticks": "",
            "zerolinecolor": "#EBF0F8"
           },
           "yaxis": {
            "backgroundcolor": "white",
            "gridcolor": "#DFE8F3",
            "gridwidth": 2,
            "linecolor": "#EBF0F8",
            "showbackground": true,
            "ticks": "",
            "zerolinecolor": "#EBF0F8"
           },
           "zaxis": {
            "backgroundcolor": "white",
            "gridcolor": "#DFE8F3",
            "gridwidth": 2,
            "linecolor": "#EBF0F8",
            "showbackground": true,
            "ticks": "",
            "zerolinecolor": "#EBF0F8"
           }
          },
          "shapedefaults": {
           "line": {
            "color": "#2a3f5f"
           }
          },
          "ternary": {
           "aaxis": {
            "gridcolor": "#DFE8F3",
            "linecolor": "#A2B1C6",
            "ticks": ""
           },
           "baxis": {
            "gridcolor": "#DFE8F3",
            "linecolor": "#A2B1C6",
            "ticks": ""
           },
           "bgcolor": "white",
           "caxis": {
            "gridcolor": "#DFE8F3",
            "linecolor": "#A2B1C6",
            "ticks": ""
           }
          },
          "title": {
           "x": 0.05
          },
          "xaxis": {
           "automargin": true,
           "gridcolor": "#EBF0F8",
           "linecolor": "#EBF0F8",
           "ticks": "",
           "title": {
            "standoff": 15
           },
           "zerolinecolor": "#EBF0F8",
           "zerolinewidth": 2
          },
          "yaxis": {
           "automargin": true,
           "gridcolor": "#EBF0F8",
           "linecolor": "#EBF0F8",
           "ticks": "",
           "title": {
            "standoff": 15
           },
           "zerolinecolor": "#EBF0F8",
           "zerolinewidth": 2
          }
         }
        },
        "title": {
         "text": "Ano em que a população idosa superará a jovem no Brasil"
        },
        "xaxis": {
         "title": {
          "text": "Ano"
         }
        },
        "yaxis": {
         "title": {
          "text": "População"
         }
        }
       }
      }
     },
     "metadata": {},
     "output_type": "display_data"
    }
   ],
   "source": [
    "senior_surpasses_youth_date_fig = go.Figure()\n",
    "\n",
    "senior_surpasses_youth_date_fig.add_trace(go.Bar(\n",
    "        x=df_young[\"ano\"],\n",
    "        y=df_young[\"jovens\"],\n",
    "        marker_color=\"royalblue\",\n",
    "        name=\"Jovens\",\n",
    "        opacity=0.7\n",
    "))\n",
    "\n",
    "senior_surpasses_youth_date_fig.add_trace(go.Bar(\n",
    "        x=df_old[\"ano\"],\n",
    "        y=df_old[\"idosos\"],\n",
    "        marker_color=\"firebrick\",\n",
    "        name=\"Idosos\",\n",
    "        opacity=0.7\n",
    "))\n",
    "\n",
    "senior_surpasses_youth_date_fig.update_layout(\n",
    "        barmode=\"overlay\",\n",
    "        title=\"Ano em que a população idosa superará a jovem no Brasil\",\n",
    "        xaxis_title=\"Ano\",\n",
    "        yaxis_title=\"População\",\n",
    "        template=\"plotly_white\"\n",
    ")\n",
    "\n",
    "senior_surpasses_youth_date_fig.show()"
   ]
  },
  {
   "cell_type": "markdown",
   "id": "9aa1b791",
   "metadata": {},
   "source": [
    "##### Quantas crianças de até 5 anos existirão em 2030?\n"
   ]
  },
  {
   "cell_type": "code",
   "execution_count": 20,
   "id": "aac478ef",
   "metadata": {},
   "outputs": [
    {
     "data": {
      "text/html": [
       "<div>\n",
       "<style scoped>\n",
       "    .dataframe tbody tr th:only-of-type {\n",
       "        vertical-align: middle;\n",
       "    }\n",
       "\n",
       "    .dataframe tbody tr th {\n",
       "        vertical-align: top;\n",
       "    }\n",
       "\n",
       "    .dataframe thead th {\n",
       "        text-align: right;\n",
       "    }\n",
       "</style>\n",
       "<table border=\"1\" class=\"dataframe\">\n",
       "  <thead>\n",
       "    <tr style=\"text-align: right;\">\n",
       "      <th></th>\n",
       "      <th>IDADE</th>\n",
       "      <th>SEXO</th>\n",
       "      <th>CÓD.</th>\n",
       "      <th>SIGLA</th>\n",
       "      <th>LOCAL</th>\n",
       "      <th>2000</th>\n",
       "      <th>2001</th>\n",
       "      <th>2002</th>\n",
       "      <th>2003</th>\n",
       "      <th>2004</th>\n",
       "      <th>...</th>\n",
       "      <th>2061</th>\n",
       "      <th>2062</th>\n",
       "      <th>2063</th>\n",
       "      <th>2064</th>\n",
       "      <th>2065</th>\n",
       "      <th>2066</th>\n",
       "      <th>2067</th>\n",
       "      <th>2068</th>\n",
       "      <th>2069</th>\n",
       "      <th>2070</th>\n",
       "    </tr>\n",
       "  </thead>\n",
       "  <tbody>\n",
       "    <tr>\n",
       "      <th>5</th>\n",
       "      <td>5</td>\n",
       "      <td>Ambos</td>\n",
       "      <td>0</td>\n",
       "      <td>BR</td>\n",
       "      <td>Brasil</td>\n",
       "      <td>3482383</td>\n",
       "      <td>3476170</td>\n",
       "      <td>3465223</td>\n",
       "      <td>3454378</td>\n",
       "      <td>3438144</td>\n",
       "      <td>...</td>\n",
       "      <td>1718926</td>\n",
       "      <td>1697279</td>\n",
       "      <td>1675827</td>\n",
       "      <td>1653945</td>\n",
       "      <td>1632712</td>\n",
       "      <td>1613027</td>\n",
       "      <td>1595110</td>\n",
       "      <td>1578328</td>\n",
       "      <td>1562067</td>\n",
       "      <td>1546730</td>\n",
       "    </tr>\n",
       "  </tbody>\n",
       "</table>\n",
       "<p>1 rows × 76 columns</p>\n",
       "</div>"
      ],
      "text/plain": [
       "   IDADE   SEXO  CÓD. SIGLA   LOCAL     2000     2001     2002     2003  \\\n",
       "5      5  Ambos     0    BR  Brasil  3482383  3476170  3465223  3454378   \n",
       "\n",
       "      2004  ...     2061     2062     2063     2064     2065     2066  \\\n",
       "5  3438144  ...  1718926  1697279  1675827  1653945  1632712  1613027   \n",
       "\n",
       "      2067     2068     2069     2070  \n",
       "5  1595110  1578328  1562067  1546730  \n",
       "\n",
       "[1 rows x 76 columns]"
      ]
     },
     "execution_count": 20,
     "metadata": {},
     "output_type": "execute_result"
    }
   ],
   "source": [
    "df_child = df[(df[\"IDADE\"] == 5) & (df[\"SEXO\"] == \"Ambos\") & (df[\"SIGLA\"] == \"BR\")]\n",
    "df_child"
   ]
  },
  {
   "cell_type": "code",
   "execution_count": 21,
   "id": "018828f5",
   "metadata": {},
   "outputs": [
    {
     "data": {
      "text/html": [
       "<div>\n",
       "<style scoped>\n",
       "    .dataframe tbody tr th:only-of-type {\n",
       "        vertical-align: middle;\n",
       "    }\n",
       "\n",
       "    .dataframe tbody tr th {\n",
       "        vertical-align: top;\n",
       "    }\n",
       "\n",
       "    .dataframe thead th {\n",
       "        text-align: right;\n",
       "    }\n",
       "</style>\n",
       "<table border=\"1\" class=\"dataframe\">\n",
       "  <thead>\n",
       "    <tr style=\"text-align: right;\">\n",
       "      <th></th>\n",
       "      <th>2030</th>\n",
       "    </tr>\n",
       "    <tr>\n",
       "      <th>IDADE</th>\n",
       "      <th></th>\n",
       "    </tr>\n",
       "  </thead>\n",
       "  <tbody>\n",
       "    <tr>\n",
       "      <th>5</th>\n",
       "      <td>2420215</td>\n",
       "    </tr>\n",
       "  </tbody>\n",
       "</table>\n",
       "</div>"
      ],
      "text/plain": [
       "          2030\n",
       "IDADE         \n",
       "5      2420215"
      ]
     },
     "execution_count": 21,
     "metadata": {},
     "output_type": "execute_result"
    }
   ],
   "source": [
    "df_child.set_index(\"IDADE\")[[2030]]"
   ]
  },
  {
   "cell_type": "markdown",
   "id": "bd396afb",
   "metadata": {},
   "source": [
    "## 🚹🚺 Comparação por sexo"
   ]
  },
  {
   "cell_type": "markdown",
   "id": "c060b25b",
   "metadata": {},
   "source": [
    "##### Qual a diferença na quantidade de homens e mulheres com o passar dos anos?"
   ]
  },
  {
   "cell_type": "code",
   "execution_count": 22,
   "id": "a4ef4d46",
   "metadata": {},
   "outputs": [],
   "source": [
    "df_men = (df[(df[\"SEXO\"] == \"Homens\") & (df[\"SIGLA\"] == \"BR\")][years].sum()).reset_index()\n",
    "df_women = (df[(df[\"SEXO\"] == \"Mulheres\") & (df[\"SIGLA\"] == \"BR\")][years].sum()).reset_index()"
   ]
  },
  {
   "cell_type": "code",
   "execution_count": 23,
   "id": "15185528",
   "metadata": {},
   "outputs": [],
   "source": [
    "df_men.columns = [\"ano\", \"homens\"]\n",
    "df_women.columns = [\"ano\", \"mulheres\"]"
   ]
  },
  {
   "cell_type": "code",
   "execution_count": 24,
   "id": "337c81f4",
   "metadata": {},
   "outputs": [
    {
     "data": {
      "text/html": [
       "<div>\n",
       "<style scoped>\n",
       "    .dataframe tbody tr th:only-of-type {\n",
       "        vertical-align: middle;\n",
       "    }\n",
       "\n",
       "    .dataframe tbody tr th {\n",
       "        vertical-align: top;\n",
       "    }\n",
       "\n",
       "    .dataframe thead th {\n",
       "        text-align: right;\n",
       "    }\n",
       "</style>\n",
       "<table border=\"1\" class=\"dataframe\">\n",
       "  <thead>\n",
       "    <tr style=\"text-align: right;\">\n",
       "      <th></th>\n",
       "      <th>ano</th>\n",
       "      <th>homens</th>\n",
       "      <th>mulheres</th>\n",
       "    </tr>\n",
       "  </thead>\n",
       "  <tbody>\n",
       "    <tr>\n",
       "      <th>0</th>\n",
       "      <td>2000</td>\n",
       "      <td>85720706</td>\n",
       "      <td>88975229</td>\n",
       "    </tr>\n",
       "    <tr>\n",
       "      <th>1</th>\n",
       "      <td>2001</td>\n",
       "      <td>86821427</td>\n",
       "      <td>90182316</td>\n",
       "    </tr>\n",
       "    <tr>\n",
       "      <th>2</th>\n",
       "      <td>2002</td>\n",
       "      <td>87882321</td>\n",
       "      <td>91345933</td>\n",
       "    </tr>\n",
       "    <tr>\n",
       "      <th>3</th>\n",
       "      <td>2003</td>\n",
       "      <td>88907299</td>\n",
       "      <td>92470355</td>\n",
       "    </tr>\n",
       "    <tr>\n",
       "      <th>4</th>\n",
       "      <td>2004</td>\n",
       "      <td>89905311</td>\n",
       "      <td>93564282</td>\n",
       "    </tr>\n",
       "    <tr>\n",
       "      <th>...</th>\n",
       "      <td>...</td>\n",
       "      <td>...</td>\n",
       "      <td>...</td>\n",
       "    </tr>\n",
       "    <tr>\n",
       "      <th>66</th>\n",
       "      <td>2066</td>\n",
       "      <td>99519155</td>\n",
       "      <td>104895936</td>\n",
       "    </tr>\n",
       "    <tr>\n",
       "      <th>67</th>\n",
       "      <td>2067</td>\n",
       "      <td>98940863</td>\n",
       "      <td>104227686</td>\n",
       "    </tr>\n",
       "    <tr>\n",
       "      <th>68</th>\n",
       "      <td>2068</td>\n",
       "      <td>98347377</td>\n",
       "      <td>103540008</td>\n",
       "    </tr>\n",
       "    <tr>\n",
       "      <th>69</th>\n",
       "      <td>2069</td>\n",
       "      <td>97739608</td>\n",
       "      <td>102833767</td>\n",
       "    </tr>\n",
       "    <tr>\n",
       "      <th>70</th>\n",
       "      <td>2070</td>\n",
       "      <td>97118626</td>\n",
       "      <td>102110082</td>\n",
       "    </tr>\n",
       "  </tbody>\n",
       "</table>\n",
       "<p>71 rows × 3 columns</p>\n",
       "</div>"
      ],
      "text/plain": [
       "     ano    homens   mulheres\n",
       "0   2000  85720706   88975229\n",
       "1   2001  86821427   90182316\n",
       "2   2002  87882321   91345933\n",
       "3   2003  88907299   92470355\n",
       "4   2004  89905311   93564282\n",
       "..   ...       ...        ...\n",
       "66  2066  99519155  104895936\n",
       "67  2067  98940863  104227686\n",
       "68  2068  98347377  103540008\n",
       "69  2069  97739608  102833767\n",
       "70  2070  97118626  102110082\n",
       "\n",
       "[71 rows x 3 columns]"
      ]
     },
     "execution_count": 24,
     "metadata": {},
     "output_type": "execute_result"
    }
   ],
   "source": [
    "df_life_expectancy = pd.merge(df_men, df_women, on=\"ano\")\n",
    "df_life_expectancy"
   ]
  },
  {
   "cell_type": "code",
   "execution_count": 25,
   "id": "78d8bdf9",
   "metadata": {},
   "outputs": [
    {
     "data": {
      "application/vnd.plotly.v1+json": {
       "config": {
        "plotlyServerURL": "https://plot.ly"
       },
       "data": [
        {
         "marker": {
          "color": "royalblue"
         },
         "name": "Homens",
         "type": "bar",
         "x": {
          "bdata": "0AfRB9IH0wfUB9UH1gfXB9gH2QfaB9sH3AfdB94H3wfgB+EH4gfjB+QH5QfmB+cH6AfpB+oH6wfsB+0H7gfvB/AH8QfyB/MH9Af1B/YH9wf4B/kH+gf7B/wH/Qf+B/8HAAgBCAIIAwgECAUIBggHCAgICQgKCAsIDAgNCA4IDwgQCBEIEggTCBQIFQgWCA==",
          "dtype": "i2"
         },
         "y": {
          "bdata": "gv4bBTPKLAVR+jwFI55MBZ/YWwWJxmoFu255BctghwXz9JQFPT2iBTaJrQWypLcFi6jCBW0YzgUextkFBYPlBUk/8AUt9/kFQ4sDBoKMDQYajBYGRc0cBuq/IQZhficGzsItBiCgMwYQITkGgUw+BkIpQwbXvUcGlQ9MBioLUAYrnFMGbsVWBvWJWQYV61sG7OddBlJ/Xwa6smAGMoRhBnnzYQbAAWIGQbFhBmYDYQZI+V8GZJJeBrHNXAYRq1oGgitYBuVOVQZYFFIGuntOBnqFSgYfMkYGaIBBBs1vPAbhATcG+TkxBkYZKwbLnyQGSs8dBlSrFgYJOA8GqngHBi1v/wWIHvcFs4ruBb+35QVxqdwFWGPTBaLpyQU=",
          "dtype": "i4"
         }
        },
        {
         "marker": {
          "color": "firebrick"
         },
         "name": "Mulheres",
         "type": "bar",
         "x": {
          "bdata": "0AfRB9IH0wfUB9UH1gfXB9gH2QfaB9sH3AfdB94H3wfgB+EH4gfjB+QH5QfmB+cH6AfpB+oH6wfsB+0H7gfvB/AH8QfyB/MH9Af1B/YH9wf4B/kH+gf7B/wH/Qf+B/8HAAgBCAIIAwgECAUIBggHCAgICQgKCAsIDAgNCA4IDwgQCBEIEggTCBQIFQgWCA==",
          "dtype": "i2"
         },
         "y": {
          "bdata": "fadNBawSYAUN1HEFU/yCBXqtkwWYAqQF+x+0BcCIwwUpltIF11zhBVsa7gXgf/kFUY4FBuHcEQZdXB4GNewqBmyXNgZ4UEEGy9ZLBkHBVgY/DmEGFSBpBp3DbwbVt3YGeAJ+Bs3rhAZffIsG4LmRBhCplwZGT50GkK+iBjC0pwZxRqwG0mewBtYZtAY6XLcGdyy6BjOIvAZSb74GsuK/Bg/hwAaTasEGHIDBBlgiwQYyUsAGFw+/BtJXvQZtLLsGKo64Bjh9tQYy+bEGgAKuBieaqQYiwaQGInefBnK8mQZck5MGGQCNBnUEhgZmoX4GItl2BhmvbgaaJ2YGJkVdBg4KVAYjeUoGwJVABmZjNgYo5SsGZx4hBoITFgY=",
          "dtype": "i4"
         }
        }
       ],
       "layout": {
        "template": {
         "data": {
          "bar": [
           {
            "error_x": {
             "color": "#2a3f5f"
            },
            "error_y": {
             "color": "#2a3f5f"
            },
            "marker": {
             "line": {
              "color": "white",
              "width": 0.5
             },
             "pattern": {
              "fillmode": "overlay",
              "size": 10,
              "solidity": 0.2
             }
            },
            "type": "bar"
           }
          ],
          "barpolar": [
           {
            "marker": {
             "line": {
              "color": "white",
              "width": 0.5
             },
             "pattern": {
              "fillmode": "overlay",
              "size": 10,
              "solidity": 0.2
             }
            },
            "type": "barpolar"
           }
          ],
          "carpet": [
           {
            "aaxis": {
             "endlinecolor": "#2a3f5f",
             "gridcolor": "#C8D4E3",
             "linecolor": "#C8D4E3",
             "minorgridcolor": "#C8D4E3",
             "startlinecolor": "#2a3f5f"
            },
            "baxis": {
             "endlinecolor": "#2a3f5f",
             "gridcolor": "#C8D4E3",
             "linecolor": "#C8D4E3",
             "minorgridcolor": "#C8D4E3",
             "startlinecolor": "#2a3f5f"
            },
            "type": "carpet"
           }
          ],
          "choropleth": [
           {
            "colorbar": {
             "outlinewidth": 0,
             "ticks": ""
            },
            "type": "choropleth"
           }
          ],
          "contour": [
           {
            "colorbar": {
             "outlinewidth": 0,
             "ticks": ""
            },
            "colorscale": [
             [
              0,
              "#0d0887"
             ],
             [
              0.1111111111111111,
              "#46039f"
             ],
             [
              0.2222222222222222,
              "#7201a8"
             ],
             [
              0.3333333333333333,
              "#9c179e"
             ],
             [
              0.4444444444444444,
              "#bd3786"
             ],
             [
              0.5555555555555556,
              "#d8576b"
             ],
             [
              0.6666666666666666,
              "#ed7953"
             ],
             [
              0.7777777777777778,
              "#fb9f3a"
             ],
             [
              0.8888888888888888,
              "#fdca26"
             ],
             [
              1,
              "#f0f921"
             ]
            ],
            "type": "contour"
           }
          ],
          "contourcarpet": [
           {
            "colorbar": {
             "outlinewidth": 0,
             "ticks": ""
            },
            "type": "contourcarpet"
           }
          ],
          "heatmap": [
           {
            "colorbar": {
             "outlinewidth": 0,
             "ticks": ""
            },
            "colorscale": [
             [
              0,
              "#0d0887"
             ],
             [
              0.1111111111111111,
              "#46039f"
             ],
             [
              0.2222222222222222,
              "#7201a8"
             ],
             [
              0.3333333333333333,
              "#9c179e"
             ],
             [
              0.4444444444444444,
              "#bd3786"
             ],
             [
              0.5555555555555556,
              "#d8576b"
             ],
             [
              0.6666666666666666,
              "#ed7953"
             ],
             [
              0.7777777777777778,
              "#fb9f3a"
             ],
             [
              0.8888888888888888,
              "#fdca26"
             ],
             [
              1,
              "#f0f921"
             ]
            ],
            "type": "heatmap"
           }
          ],
          "histogram": [
           {
            "marker": {
             "pattern": {
              "fillmode": "overlay",
              "size": 10,
              "solidity": 0.2
             }
            },
            "type": "histogram"
           }
          ],
          "histogram2d": [
           {
            "colorbar": {
             "outlinewidth": 0,
             "ticks": ""
            },
            "colorscale": [
             [
              0,
              "#0d0887"
             ],
             [
              0.1111111111111111,
              "#46039f"
             ],
             [
              0.2222222222222222,
              "#7201a8"
             ],
             [
              0.3333333333333333,
              "#9c179e"
             ],
             [
              0.4444444444444444,
              "#bd3786"
             ],
             [
              0.5555555555555556,
              "#d8576b"
             ],
             [
              0.6666666666666666,
              "#ed7953"
             ],
             [
              0.7777777777777778,
              "#fb9f3a"
             ],
             [
              0.8888888888888888,
              "#fdca26"
             ],
             [
              1,
              "#f0f921"
             ]
            ],
            "type": "histogram2d"
           }
          ],
          "histogram2dcontour": [
           {
            "colorbar": {
             "outlinewidth": 0,
             "ticks": ""
            },
            "colorscale": [
             [
              0,
              "#0d0887"
             ],
             [
              0.1111111111111111,
              "#46039f"
             ],
             [
              0.2222222222222222,
              "#7201a8"
             ],
             [
              0.3333333333333333,
              "#9c179e"
             ],
             [
              0.4444444444444444,
              "#bd3786"
             ],
             [
              0.5555555555555556,
              "#d8576b"
             ],
             [
              0.6666666666666666,
              "#ed7953"
             ],
             [
              0.7777777777777778,
              "#fb9f3a"
             ],
             [
              0.8888888888888888,
              "#fdca26"
             ],
             [
              1,
              "#f0f921"
             ]
            ],
            "type": "histogram2dcontour"
           }
          ],
          "mesh3d": [
           {
            "colorbar": {
             "outlinewidth": 0,
             "ticks": ""
            },
            "type": "mesh3d"
           }
          ],
          "parcoords": [
           {
            "line": {
             "colorbar": {
              "outlinewidth": 0,
              "ticks": ""
             }
            },
            "type": "parcoords"
           }
          ],
          "pie": [
           {
            "automargin": true,
            "type": "pie"
           }
          ],
          "scatter": [
           {
            "fillpattern": {
             "fillmode": "overlay",
             "size": 10,
             "solidity": 0.2
            },
            "type": "scatter"
           }
          ],
          "scatter3d": [
           {
            "line": {
             "colorbar": {
              "outlinewidth": 0,
              "ticks": ""
             }
            },
            "marker": {
             "colorbar": {
              "outlinewidth": 0,
              "ticks": ""
             }
            },
            "type": "scatter3d"
           }
          ],
          "scattercarpet": [
           {
            "marker": {
             "colorbar": {
              "outlinewidth": 0,
              "ticks": ""
             }
            },
            "type": "scattercarpet"
           }
          ],
          "scattergeo": [
           {
            "marker": {
             "colorbar": {
              "outlinewidth": 0,
              "ticks": ""
             }
            },
            "type": "scattergeo"
           }
          ],
          "scattergl": [
           {
            "marker": {
             "colorbar": {
              "outlinewidth": 0,
              "ticks": ""
             }
            },
            "type": "scattergl"
           }
          ],
          "scattermap": [
           {
            "marker": {
             "colorbar": {
              "outlinewidth": 0,
              "ticks": ""
             }
            },
            "type": "scattermap"
           }
          ],
          "scattermapbox": [
           {
            "marker": {
             "colorbar": {
              "outlinewidth": 0,
              "ticks": ""
             }
            },
            "type": "scattermapbox"
           }
          ],
          "scatterpolar": [
           {
            "marker": {
             "colorbar": {
              "outlinewidth": 0,
              "ticks": ""
             }
            },
            "type": "scatterpolar"
           }
          ],
          "scatterpolargl": [
           {
            "marker": {
             "colorbar": {
              "outlinewidth": 0,
              "ticks": ""
             }
            },
            "type": "scatterpolargl"
           }
          ],
          "scatterternary": [
           {
            "marker": {
             "colorbar": {
              "outlinewidth": 0,
              "ticks": ""
             }
            },
            "type": "scatterternary"
           }
          ],
          "surface": [
           {
            "colorbar": {
             "outlinewidth": 0,
             "ticks": ""
            },
            "colorscale": [
             [
              0,
              "#0d0887"
             ],
             [
              0.1111111111111111,
              "#46039f"
             ],
             [
              0.2222222222222222,
              "#7201a8"
             ],
             [
              0.3333333333333333,
              "#9c179e"
             ],
             [
              0.4444444444444444,
              "#bd3786"
             ],
             [
              0.5555555555555556,
              "#d8576b"
             ],
             [
              0.6666666666666666,
              "#ed7953"
             ],
             [
              0.7777777777777778,
              "#fb9f3a"
             ],
             [
              0.8888888888888888,
              "#fdca26"
             ],
             [
              1,
              "#f0f921"
             ]
            ],
            "type": "surface"
           }
          ],
          "table": [
           {
            "cells": {
             "fill": {
              "color": "#EBF0F8"
             },
             "line": {
              "color": "white"
             }
            },
            "header": {
             "fill": {
              "color": "#C8D4E3"
             },
             "line": {
              "color": "white"
             }
            },
            "type": "table"
           }
          ]
         },
         "layout": {
          "annotationdefaults": {
           "arrowcolor": "#2a3f5f",
           "arrowhead": 0,
           "arrowwidth": 1
          },
          "autotypenumbers": "strict",
          "coloraxis": {
           "colorbar": {
            "outlinewidth": 0,
            "ticks": ""
           }
          },
          "colorscale": {
           "diverging": [
            [
             0,
             "#8e0152"
            ],
            [
             0.1,
             "#c51b7d"
            ],
            [
             0.2,
             "#de77ae"
            ],
            [
             0.3,
             "#f1b6da"
            ],
            [
             0.4,
             "#fde0ef"
            ],
            [
             0.5,
             "#f7f7f7"
            ],
            [
             0.6,
             "#e6f5d0"
            ],
            [
             0.7,
             "#b8e186"
            ],
            [
             0.8,
             "#7fbc41"
            ],
            [
             0.9,
             "#4d9221"
            ],
            [
             1,
             "#276419"
            ]
           ],
           "sequential": [
            [
             0,
             "#0d0887"
            ],
            [
             0.1111111111111111,
             "#46039f"
            ],
            [
             0.2222222222222222,
             "#7201a8"
            ],
            [
             0.3333333333333333,
             "#9c179e"
            ],
            [
             0.4444444444444444,
             "#bd3786"
            ],
            [
             0.5555555555555556,
             "#d8576b"
            ],
            [
             0.6666666666666666,
             "#ed7953"
            ],
            [
             0.7777777777777778,
             "#fb9f3a"
            ],
            [
             0.8888888888888888,
             "#fdca26"
            ],
            [
             1,
             "#f0f921"
            ]
           ],
           "sequentialminus": [
            [
             0,
             "#0d0887"
            ],
            [
             0.1111111111111111,
             "#46039f"
            ],
            [
             0.2222222222222222,
             "#7201a8"
            ],
            [
             0.3333333333333333,
             "#9c179e"
            ],
            [
             0.4444444444444444,
             "#bd3786"
            ],
            [
             0.5555555555555556,
             "#d8576b"
            ],
            [
             0.6666666666666666,
             "#ed7953"
            ],
            [
             0.7777777777777778,
             "#fb9f3a"
            ],
            [
             0.8888888888888888,
             "#fdca26"
            ],
            [
             1,
             "#f0f921"
            ]
           ]
          },
          "colorway": [
           "#636efa",
           "#EF553B",
           "#00cc96",
           "#ab63fa",
           "#FFA15A",
           "#19d3f3",
           "#FF6692",
           "#B6E880",
           "#FF97FF",
           "#FECB52"
          ],
          "font": {
           "color": "#2a3f5f"
          },
          "geo": {
           "bgcolor": "white",
           "lakecolor": "white",
           "landcolor": "white",
           "showlakes": true,
           "showland": true,
           "subunitcolor": "#C8D4E3"
          },
          "hoverlabel": {
           "align": "left"
          },
          "hovermode": "closest",
          "mapbox": {
           "style": "light"
          },
          "paper_bgcolor": "white",
          "plot_bgcolor": "white",
          "polar": {
           "angularaxis": {
            "gridcolor": "#EBF0F8",
            "linecolor": "#EBF0F8",
            "ticks": ""
           },
           "bgcolor": "white",
           "radialaxis": {
            "gridcolor": "#EBF0F8",
            "linecolor": "#EBF0F8",
            "ticks": ""
           }
          },
          "scene": {
           "xaxis": {
            "backgroundcolor": "white",
            "gridcolor": "#DFE8F3",
            "gridwidth": 2,
            "linecolor": "#EBF0F8",
            "showbackground": true,
            "ticks": "",
            "zerolinecolor": "#EBF0F8"
           },
           "yaxis": {
            "backgroundcolor": "white",
            "gridcolor": "#DFE8F3",
            "gridwidth": 2,
            "linecolor": "#EBF0F8",
            "showbackground": true,
            "ticks": "",
            "zerolinecolor": "#EBF0F8"
           },
           "zaxis": {
            "backgroundcolor": "white",
            "gridcolor": "#DFE8F3",
            "gridwidth": 2,
            "linecolor": "#EBF0F8",
            "showbackground": true,
            "ticks": "",
            "zerolinecolor": "#EBF0F8"
           }
          },
          "shapedefaults": {
           "line": {
            "color": "#2a3f5f"
           }
          },
          "ternary": {
           "aaxis": {
            "gridcolor": "#DFE8F3",
            "linecolor": "#A2B1C6",
            "ticks": ""
           },
           "baxis": {
            "gridcolor": "#DFE8F3",
            "linecolor": "#A2B1C6",
            "ticks": ""
           },
           "bgcolor": "white",
           "caxis": {
            "gridcolor": "#DFE8F3",
            "linecolor": "#A2B1C6",
            "ticks": ""
           }
          },
          "title": {
           "x": 0.05
          },
          "xaxis": {
           "automargin": true,
           "gridcolor": "#EBF0F8",
           "linecolor": "#EBF0F8",
           "ticks": "",
           "title": {
            "standoff": 15
           },
           "zerolinecolor": "#EBF0F8",
           "zerolinewidth": 2
          },
          "yaxis": {
           "automargin": true,
           "gridcolor": "#EBF0F8",
           "linecolor": "#EBF0F8",
           "ticks": "",
           "title": {
            "standoff": 15
           },
           "zerolinecolor": "#EBF0F8",
           "zerolinewidth": 2
          }
         }
        },
        "title": {
         "text": "Expectativa de vida entre homens e mulheres no Brasil"
        },
        "xaxis": {
         "title": {
          "text": "Ano"
         }
        },
        "yaxis": {
         "title": {
          "text": "População"
         }
        }
       }
      }
     },
     "metadata": {},
     "output_type": "display_data"
    }
   ],
   "source": [
    "life_expectancy_fig = go.Figure()\n",
    "\n",
    "life_expectancy_fig.add_trace(go.Bar(\n",
    "        x=df_life_expectancy[\"ano\"],\n",
    "        y=df_life_expectancy[\"homens\"],\n",
    "        marker_color=\"royalblue\",\n",
    "        name=\"Homens\"\n",
    "))\n",
    "\n",
    "life_expectancy_fig.add_trace(go.Bar(\n",
    "        x=df_life_expectancy[\"ano\"],\n",
    "        y=df_life_expectancy[\"mulheres\"],\n",
    "        marker_color=\"firebrick\",\n",
    "        name=\"Mulheres\"\n",
    "))\n",
    "\n",
    "life_expectancy_fig.update_layout(\n",
    "        title=\"Expectativa de vida entre homens e mulheres no Brasil\",\n",
    "        xaxis_title=\"Ano\",\n",
    "        yaxis_title=\"População\",\n",
    "        template=\"plotly_white\"\n",
    ")\n",
    "\n",
    "life_expectancy_fig.show()"
   ]
  },
  {
   "cell_type": "markdown",
   "id": "ce7969a0",
   "metadata": {},
   "source": [
    "##### Em quais faixas etárias há mais mulheres que homens (ou vice-versa)?"
   ]
  },
  {
   "cell_type": "code",
   "execution_count": 26,
   "id": "0c326e59",
   "metadata": {},
   "outputs": [],
   "source": [
    "df_age_group_men = df[(df[\"SIGLA\"] == \"BR\") & (df[\"SEXO\"] != \"Ambos\") & (df[\"SEXO\"] == \"Homens\")][[\"SEXO\", \"IDADE\", 2025]]\n",
    "df_age_group_women = df[(df[\"SIGLA\"] == \"BR\") & (df[\"SEXO\"] != \"Ambos\") & (df[\"SEXO\"] == \"Mulheres\")][[\"SEXO\", \"IDADE\", 2025]]"
   ]
  },
  {
   "cell_type": "code",
   "execution_count": 27,
   "id": "db588653",
   "metadata": {},
   "outputs": [],
   "source": [
    "df_age_group_men = df_age_group_men.rename(columns={2025: \"homens\"})\n",
    "df_age_group_women = df_age_group_women.rename(columns={2025: \"mulheres\"})"
   ]
  },
  {
   "cell_type": "code",
   "execution_count": 28,
   "id": "74ad8d3c",
   "metadata": {},
   "outputs": [
    {
     "data": {
      "text/html": [
       "<div>\n",
       "<style scoped>\n",
       "    .dataframe tbody tr th:only-of-type {\n",
       "        vertical-align: middle;\n",
       "    }\n",
       "\n",
       "    .dataframe tbody tr th {\n",
       "        vertical-align: top;\n",
       "    }\n",
       "\n",
       "    .dataframe thead th {\n",
       "        text-align: right;\n",
       "    }\n",
       "</style>\n",
       "<table border=\"1\" class=\"dataframe\">\n",
       "  <thead>\n",
       "    <tr style=\"text-align: right;\">\n",
       "      <th></th>\n",
       "      <th>IDADE</th>\n",
       "      <th>homens</th>\n",
       "      <th>mulheres</th>\n",
       "      <th>maioria-2025</th>\n",
       "    </tr>\n",
       "  </thead>\n",
       "  <tbody>\n",
       "    <tr>\n",
       "      <th>0</th>\n",
       "      <td>0</td>\n",
       "      <td>1244521</td>\n",
       "      <td>1187450</td>\n",
       "      <td>homens</td>\n",
       "    </tr>\n",
       "    <tr>\n",
       "      <th>1</th>\n",
       "      <td>1</td>\n",
       "      <td>1267961</td>\n",
       "      <td>1209808</td>\n",
       "      <td>homens</td>\n",
       "    </tr>\n",
       "    <tr>\n",
       "      <th>2</th>\n",
       "      <td>2</td>\n",
       "      <td>1287690</td>\n",
       "      <td>1228438</td>\n",
       "      <td>homens</td>\n",
       "    </tr>\n",
       "    <tr>\n",
       "      <th>3</th>\n",
       "      <td>3</td>\n",
       "      <td>1320400</td>\n",
       "      <td>1260121</td>\n",
       "      <td>homens</td>\n",
       "    </tr>\n",
       "    <tr>\n",
       "      <th>4</th>\n",
       "      <td>4</td>\n",
       "      <td>1365107</td>\n",
       "      <td>1302918</td>\n",
       "      <td>homens</td>\n",
       "    </tr>\n",
       "    <tr>\n",
       "      <th>...</th>\n",
       "      <td>...</td>\n",
       "      <td>...</td>\n",
       "      <td>...</td>\n",
       "      <td>...</td>\n",
       "    </tr>\n",
       "    <tr>\n",
       "      <th>86</th>\n",
       "      <td>86</td>\n",
       "      <td>127496</td>\n",
       "      <td>205867</td>\n",
       "      <td>mulheres</td>\n",
       "    </tr>\n",
       "    <tr>\n",
       "      <th>87</th>\n",
       "      <td>87</td>\n",
       "      <td>108733</td>\n",
       "      <td>180040</td>\n",
       "      <td>mulheres</td>\n",
       "    </tr>\n",
       "    <tr>\n",
       "      <th>88</th>\n",
       "      <td>88</td>\n",
       "      <td>92708</td>\n",
       "      <td>158005</td>\n",
       "      <td>mulheres</td>\n",
       "    </tr>\n",
       "    <tr>\n",
       "      <th>89</th>\n",
       "      <td>89</td>\n",
       "      <td>76776</td>\n",
       "      <td>135568</td>\n",
       "      <td>mulheres</td>\n",
       "    </tr>\n",
       "    <tr>\n",
       "      <th>90</th>\n",
       "      <td>90</td>\n",
       "      <td>248654</td>\n",
       "      <td>520646</td>\n",
       "      <td>mulheres</td>\n",
       "    </tr>\n",
       "  </tbody>\n",
       "</table>\n",
       "<p>91 rows × 4 columns</p>\n",
       "</div>"
      ],
      "text/plain": [
       "    IDADE   homens  mulheres maioria-2025\n",
       "0       0  1244521   1187450       homens\n",
       "1       1  1267961   1209808       homens\n",
       "2       2  1287690   1228438       homens\n",
       "3       3  1320400   1260121       homens\n",
       "4       4  1365107   1302918       homens\n",
       "..    ...      ...       ...          ...\n",
       "86     86   127496    205867     mulheres\n",
       "87     87   108733    180040     mulheres\n",
       "88     88    92708    158005     mulheres\n",
       "89     89    76776    135568     mulheres\n",
       "90     90   248654    520646     mulheres\n",
       "\n",
       "[91 rows x 4 columns]"
      ]
     },
     "execution_count": 28,
     "metadata": {},
     "output_type": "execute_result"
    }
   ],
   "source": [
    "df_age_group = pd.merge(df_age_group_men[[\"IDADE\", \"homens\"]], df_age_group_women[[\"IDADE\", \"mulheres\"]], on=\"IDADE\")\n",
    "df_age_group[\"maioria-2025\"] = df_age_group.apply(lambda x: \"homens\" if x[\"homens\"] > x[\"mulheres\"] else \"mulheres\" if x[\"homens\"] < x[\"mulheres\"] else \"igual\", axis=1)\n",
    "df_age_group"
   ]
  },
  {
   "cell_type": "markdown",
   "id": "83a6d410",
   "metadata": {},
   "source": [
    "## 📍 Diferenças regionais"
   ]
  },
  {
   "cell_type": "markdown",
   "id": "cf482c69",
   "metadata": {},
   "source": [
    "##### Qual estado terá o maior envelhecimento populacional?"
   ]
  },
  {
   "cell_type": "code",
   "execution_count": 29,
   "id": "7390262a",
   "metadata": {},
   "outputs": [],
   "source": [
    "df_oldest_uf = df[(~df[\"SIGLA\"].isin([\"BR\", \"NO\", \"CO\", \"SU\", \"ND\", \"SD\"])) & (df[\"SEXO\"] == \"Ambos\") & (df[\"IDADE\"] >= 65)]"
   ]
  },
  {
   "cell_type": "code",
   "execution_count": 30,
   "id": "b1674cf8",
   "metadata": {},
   "outputs": [],
   "source": [
    "df_oldest_uf_grouped = df_oldest_uf.groupby(\"SIGLA\")[years].sum()"
   ]
  },
  {
   "cell_type": "code",
   "execution_count": 31,
   "id": "deecb370",
   "metadata": {},
   "outputs": [
    {
     "data": {
      "text/html": [
       "<div>\n",
       "<style scoped>\n",
       "    .dataframe tbody tr th:only-of-type {\n",
       "        vertical-align: middle;\n",
       "    }\n",
       "\n",
       "    .dataframe tbody tr th {\n",
       "        vertical-align: top;\n",
       "    }\n",
       "\n",
       "    .dataframe thead th {\n",
       "        text-align: right;\n",
       "    }\n",
       "</style>\n",
       "<table border=\"1\" class=\"dataframe\">\n",
       "  <thead>\n",
       "    <tr style=\"text-align: right;\">\n",
       "      <th></th>\n",
       "      <th>2000</th>\n",
       "      <th>2001</th>\n",
       "      <th>2002</th>\n",
       "      <th>2003</th>\n",
       "      <th>2004</th>\n",
       "      <th>2005</th>\n",
       "      <th>2006</th>\n",
       "      <th>2007</th>\n",
       "      <th>2008</th>\n",
       "      <th>2009</th>\n",
       "      <th>...</th>\n",
       "      <th>2061</th>\n",
       "      <th>2062</th>\n",
       "      <th>2063</th>\n",
       "      <th>2064</th>\n",
       "      <th>2065</th>\n",
       "      <th>2066</th>\n",
       "      <th>2067</th>\n",
       "      <th>2068</th>\n",
       "      <th>2069</th>\n",
       "      <th>2070</th>\n",
       "    </tr>\n",
       "    <tr>\n",
       "      <th>SIGLA</th>\n",
       "      <th></th>\n",
       "      <th></th>\n",
       "      <th></th>\n",
       "      <th></th>\n",
       "      <th></th>\n",
       "      <th></th>\n",
       "      <th></th>\n",
       "      <th></th>\n",
       "      <th></th>\n",
       "      <th></th>\n",
       "      <th></th>\n",
       "      <th></th>\n",
       "      <th></th>\n",
       "      <th></th>\n",
       "      <th></th>\n",
       "      <th></th>\n",
       "      <th></th>\n",
       "      <th></th>\n",
       "      <th></th>\n",
       "      <th></th>\n",
       "      <th></th>\n",
       "    </tr>\n",
       "  </thead>\n",
       "  <tbody>\n",
       "    <tr>\n",
       "      <th>AC</th>\n",
       "      <td>23067</td>\n",
       "      <td>23737</td>\n",
       "      <td>24451</td>\n",
       "      <td>25213</td>\n",
       "      <td>26006</td>\n",
       "      <td>26835</td>\n",
       "      <td>27748</td>\n",
       "      <td>28771</td>\n",
       "      <td>29891</td>\n",
       "      <td>31086</td>\n",
       "      <td>...</td>\n",
       "      <td>207589</td>\n",
       "      <td>211670</td>\n",
       "      <td>215840</td>\n",
       "      <td>220061</td>\n",
       "      <td>224253</td>\n",
       "      <td>228322</td>\n",
       "      <td>232261</td>\n",
       "      <td>236052</td>\n",
       "      <td>239666</td>\n",
       "      <td>243097</td>\n",
       "    </tr>\n",
       "    <tr>\n",
       "      <th>AL</th>\n",
       "      <td>144140</td>\n",
       "      <td>147029</td>\n",
       "      <td>150245</td>\n",
       "      <td>153823</td>\n",
       "      <td>157824</td>\n",
       "      <td>162234</td>\n",
       "      <td>166955</td>\n",
       "      <td>171955</td>\n",
       "      <td>177189</td>\n",
       "      <td>182725</td>\n",
       "      <td>...</td>\n",
       "      <td>805459</td>\n",
       "      <td>814190</td>\n",
       "      <td>822572</td>\n",
       "      <td>830486</td>\n",
       "      <td>837449</td>\n",
       "      <td>842710</td>\n",
       "      <td>846372</td>\n",
       "      <td>848708</td>\n",
       "      <td>850070</td>\n",
       "      <td>850744</td>\n",
       "    </tr>\n",
       "    <tr>\n",
       "      <th>AM</th>\n",
       "      <td>106034</td>\n",
       "      <td>108553</td>\n",
       "      <td>111239</td>\n",
       "      <td>114186</td>\n",
       "      <td>117345</td>\n",
       "      <td>120701</td>\n",
       "      <td>124350</td>\n",
       "      <td>128319</td>\n",
       "      <td>132586</td>\n",
       "      <td>137155</td>\n",
       "      <td>...</td>\n",
       "      <td>1074528</td>\n",
       "      <td>1098337</td>\n",
       "      <td>1121983</td>\n",
       "      <td>1145395</td>\n",
       "      <td>1167969</td>\n",
       "      <td>1188435</td>\n",
       "      <td>1206981</td>\n",
       "      <td>1224088</td>\n",
       "      <td>1240324</td>\n",
       "      <td>1256136</td>\n",
       "    </tr>\n",
       "    <tr>\n",
       "      <th>AP</th>\n",
       "      <td>15780</td>\n",
       "      <td>16209</td>\n",
       "      <td>16682</td>\n",
       "      <td>17236</td>\n",
       "      <td>17895</td>\n",
       "      <td>18664</td>\n",
       "      <td>19556</td>\n",
       "      <td>20545</td>\n",
       "      <td>21575</td>\n",
       "      <td>22616</td>\n",
       "      <td>...</td>\n",
       "      <td>196718</td>\n",
       "      <td>200638</td>\n",
       "      <td>204519</td>\n",
       "      <td>208329</td>\n",
       "      <td>211907</td>\n",
       "      <td>215190</td>\n",
       "      <td>218190</td>\n",
       "      <td>220931</td>\n",
       "      <td>223448</td>\n",
       "      <td>225780</td>\n",
       "    </tr>\n",
       "    <tr>\n",
       "      <th>BA</th>\n",
       "      <td>792017</td>\n",
       "      <td>809904</td>\n",
       "      <td>829584</td>\n",
       "      <td>850755</td>\n",
       "      <td>873111</td>\n",
       "      <td>896426</td>\n",
       "      <td>920666</td>\n",
       "      <td>946018</td>\n",
       "      <td>972633</td>\n",
       "      <td>1000874</td>\n",
       "      <td>...</td>\n",
       "      <td>4154006</td>\n",
       "      <td>4182078</td>\n",
       "      <td>4208692</td>\n",
       "      <td>4233519</td>\n",
       "      <td>4254505</td>\n",
       "      <td>4269499</td>\n",
       "      <td>4278747</td>\n",
       "      <td>4283036</td>\n",
       "      <td>4283327</td>\n",
       "      <td>4280389</td>\n",
       "    </tr>\n",
       "    <tr>\n",
       "      <th>CE</th>\n",
       "      <td>497847</td>\n",
       "      <td>510809</td>\n",
       "      <td>524775</td>\n",
       "      <td>539113</td>\n",
       "      <td>553571</td>\n",
       "      <td>568000</td>\n",
       "      <td>582408</td>\n",
       "      <td>596887</td>\n",
       "      <td>611719</td>\n",
       "      <td>627773</td>\n",
       "      <td>...</td>\n",
       "      <td>2638607</td>\n",
       "      <td>2671996</td>\n",
       "      <td>2702683</td>\n",
       "      <td>2730483</td>\n",
       "      <td>2754781</td>\n",
       "      <td>2773788</td>\n",
       "      <td>2787813</td>\n",
       "      <td>2797487</td>\n",
       "      <td>2803679</td>\n",
       "      <td>2807192</td>\n",
       "    </tr>\n",
       "    <tr>\n",
       "      <th>DF</th>\n",
       "      <td>77941</td>\n",
       "      <td>82602</td>\n",
       "      <td>87584</td>\n",
       "      <td>92790</td>\n",
       "      <td>98055</td>\n",
       "      <td>103308</td>\n",
       "      <td>108543</td>\n",
       "      <td>113813</td>\n",
       "      <td>119233</td>\n",
       "      <td>125004</td>\n",
       "      <td>...</td>\n",
       "      <td>883590</td>\n",
       "      <td>889743</td>\n",
       "      <td>895370</td>\n",
       "      <td>900518</td>\n",
       "      <td>904922</td>\n",
       "      <td>908355</td>\n",
       "      <td>910827</td>\n",
       "      <td>912432</td>\n",
       "      <td>913295</td>\n",
       "      <td>913506</td>\n",
       "    </tr>\n",
       "    <tr>\n",
       "      <th>ES</th>\n",
       "      <td>180913</td>\n",
       "      <td>187625</td>\n",
       "      <td>194554</td>\n",
       "      <td>201577</td>\n",
       "      <td>208586</td>\n",
       "      <td>215557</td>\n",
       "      <td>222549</td>\n",
       "      <td>229695</td>\n",
       "      <td>237119</td>\n",
       "      <td>244965</td>\n",
       "      <td>...</td>\n",
       "      <td>1176126</td>\n",
       "      <td>1183740</td>\n",
       "      <td>1191049</td>\n",
       "      <td>1197994</td>\n",
       "      <td>1204064</td>\n",
       "      <td>1209001</td>\n",
       "      <td>1212841</td>\n",
       "      <td>1215675</td>\n",
       "      <td>1217650</td>\n",
       "      <td>1218838</td>\n",
       "    </tr>\n",
       "    <tr>\n",
       "      <th>GO</th>\n",
       "      <td>251003</td>\n",
       "      <td>261724</td>\n",
       "      <td>273108</td>\n",
       "      <td>285014</td>\n",
       "      <td>297381</td>\n",
       "      <td>310211</td>\n",
       "      <td>323466</td>\n",
       "      <td>337130</td>\n",
       "      <td>351210</td>\n",
       "      <td>365875</td>\n",
       "      <td>...</td>\n",
       "      <td>2229982</td>\n",
       "      <td>2258311</td>\n",
       "      <td>2285608</td>\n",
       "      <td>2311830</td>\n",
       "      <td>2336269</td>\n",
       "      <td>2358378</td>\n",
       "      <td>2378150</td>\n",
       "      <td>2395706</td>\n",
       "      <td>2411239</td>\n",
       "      <td>2424895</td>\n",
       "    </tr>\n",
       "    <tr>\n",
       "      <th>MA</th>\n",
       "      <td>299465</td>\n",
       "      <td>307935</td>\n",
       "      <td>316314</td>\n",
       "      <td>324960</td>\n",
       "      <td>334129</td>\n",
       "      <td>343873</td>\n",
       "      <td>354242</td>\n",
       "      <td>365098</td>\n",
       "      <td>376309</td>\n",
       "      <td>387949</td>\n",
       "      <td>...</td>\n",
       "      <td>1781796</td>\n",
       "      <td>1805814</td>\n",
       "      <td>1829345</td>\n",
       "      <td>1852165</td>\n",
       "      <td>1874150</td>\n",
       "      <td>1894134</td>\n",
       "      <td>1912170</td>\n",
       "      <td>1928496</td>\n",
       "      <td>1943408</td>\n",
       "      <td>1957122</td>\n",
       "    </tr>\n",
       "    <tr>\n",
       "      <th>MG</th>\n",
       "      <td>1183070</td>\n",
       "      <td>1221642</td>\n",
       "      <td>1261782</td>\n",
       "      <td>1302367</td>\n",
       "      <td>1342951</td>\n",
       "      <td>1383417</td>\n",
       "      <td>1424192</td>\n",
       "      <td>1465948</td>\n",
       "      <td>1509679</td>\n",
       "      <td>1556170</td>\n",
       "      <td>...</td>\n",
       "      <td>6092778</td>\n",
       "      <td>6137492</td>\n",
       "      <td>6179296</td>\n",
       "      <td>6217811</td>\n",
       "      <td>6250740</td>\n",
       "      <td>6276575</td>\n",
       "      <td>6295194</td>\n",
       "      <td>6306883</td>\n",
       "      <td>6312092</td>\n",
       "      <td>6311116</td>\n",
       "    </tr>\n",
       "    <tr>\n",
       "      <th>MS</th>\n",
       "      <td>112440</td>\n",
       "      <td>117038</td>\n",
       "      <td>121823</td>\n",
       "      <td>126679</td>\n",
       "      <td>131583</td>\n",
       "      <td>136571</td>\n",
       "      <td>141713</td>\n",
       "      <td>147008</td>\n",
       "      <td>152471</td>\n",
       "      <td>158108</td>\n",
       "      <td>...</td>\n",
       "      <td>774089</td>\n",
       "      <td>783866</td>\n",
       "      <td>793167</td>\n",
       "      <td>801996</td>\n",
       "      <td>810325</td>\n",
       "      <td>818312</td>\n",
       "      <td>825928</td>\n",
       "      <td>833111</td>\n",
       "      <td>839828</td>\n",
       "      <td>846007</td>\n",
       "    </tr>\n",
       "    <tr>\n",
       "      <th>MT</th>\n",
       "      <td>99908</td>\n",
       "      <td>104604</td>\n",
       "      <td>109618</td>\n",
       "      <td>114845</td>\n",
       "      <td>120220</td>\n",
       "      <td>125793</td>\n",
       "      <td>131608</td>\n",
       "      <td>137652</td>\n",
       "      <td>143886</td>\n",
       "      <td>150347</td>\n",
       "      <td>...</td>\n",
       "      <td>1132612</td>\n",
       "      <td>1151933</td>\n",
       "      <td>1170356</td>\n",
       "      <td>1187914</td>\n",
       "      <td>1204544</td>\n",
       "      <td>1219594</td>\n",
       "      <td>1233163</td>\n",
       "      <td>1245476</td>\n",
       "      <td>1256877</td>\n",
       "      <td>1267644</td>\n",
       "    </tr>\n",
       "    <tr>\n",
       "      <th>PA</th>\n",
       "      <td>260377</td>\n",
       "      <td>267908</td>\n",
       "      <td>276137</td>\n",
       "      <td>284969</td>\n",
       "      <td>294365</td>\n",
       "      <td>304346</td>\n",
       "      <td>315071</td>\n",
       "      <td>326491</td>\n",
       "      <td>338464</td>\n",
       "      <td>350992</td>\n",
       "      <td>...</td>\n",
       "      <td>2279081</td>\n",
       "      <td>2317714</td>\n",
       "      <td>2355566</td>\n",
       "      <td>2392464</td>\n",
       "      <td>2428067</td>\n",
       "      <td>2461451</td>\n",
       "      <td>2492619</td>\n",
       "      <td>2521734</td>\n",
       "      <td>2548988</td>\n",
       "      <td>2574450</td>\n",
       "    </tr>\n",
       "    <tr>\n",
       "      <th>PB</th>\n",
       "      <td>260240</td>\n",
       "      <td>265243</td>\n",
       "      <td>270925</td>\n",
       "      <td>277060</td>\n",
       "      <td>283398</td>\n",
       "      <td>289746</td>\n",
       "      <td>296018</td>\n",
       "      <td>302172</td>\n",
       "      <td>308324</td>\n",
       "      <td>314923</td>\n",
       "      <td>...</td>\n",
       "      <td>1167919</td>\n",
       "      <td>1178455</td>\n",
       "      <td>1188608</td>\n",
       "      <td>1198294</td>\n",
       "      <td>1207318</td>\n",
       "      <td>1215793</td>\n",
       "      <td>1223608</td>\n",
       "      <td>1230642</td>\n",
       "      <td>1236766</td>\n",
       "      <td>1241895</td>\n",
       "    </tr>\n",
       "    <tr>\n",
       "      <th>PE</th>\n",
       "      <td>512766</td>\n",
       "      <td>523241</td>\n",
       "      <td>535269</td>\n",
       "      <td>548258</td>\n",
       "      <td>561680</td>\n",
       "      <td>575402</td>\n",
       "      <td>589451</td>\n",
       "      <td>603938</td>\n",
       "      <td>618993</td>\n",
       "      <td>635151</td>\n",
       "      <td>...</td>\n",
       "      <td>2535576</td>\n",
       "      <td>2559097</td>\n",
       "      <td>2582195</td>\n",
       "      <td>2604671</td>\n",
       "      <td>2625550</td>\n",
       "      <td>2644009</td>\n",
       "      <td>2660077</td>\n",
       "      <td>2673955</td>\n",
       "      <td>2685901</td>\n",
       "      <td>2696099</td>\n",
       "    </tr>\n",
       "    <tr>\n",
       "      <th>PI</th>\n",
       "      <td>176281</td>\n",
       "      <td>180686</td>\n",
       "      <td>185244</td>\n",
       "      <td>190182</td>\n",
       "      <td>195502</td>\n",
       "      <td>201128</td>\n",
       "      <td>206973</td>\n",
       "      <td>212986</td>\n",
       "      <td>219274</td>\n",
       "      <td>226061</td>\n",
       "      <td>...</td>\n",
       "      <td>936335</td>\n",
       "      <td>943735</td>\n",
       "      <td>951001</td>\n",
       "      <td>958003</td>\n",
       "      <td>964492</td>\n",
       "      <td>970218</td>\n",
       "      <td>975154</td>\n",
       "      <td>979277</td>\n",
       "      <td>982577</td>\n",
       "      <td>985079</td>\n",
       "    </tr>\n",
       "    <tr>\n",
       "      <th>PR</th>\n",
       "      <td>564818</td>\n",
       "      <td>584373</td>\n",
       "      <td>604631</td>\n",
       "      <td>625405</td>\n",
       "      <td>646681</td>\n",
       "      <td>668730</td>\n",
       "      <td>691564</td>\n",
       "      <td>715066</td>\n",
       "      <td>739368</td>\n",
       "      <td>764921</td>\n",
       "      <td>...</td>\n",
       "      <td>3287913</td>\n",
       "      <td>3318440</td>\n",
       "      <td>3346891</td>\n",
       "      <td>3373277</td>\n",
       "      <td>3397024</td>\n",
       "      <td>3417597</td>\n",
       "      <td>3434961</td>\n",
       "      <td>3449210</td>\n",
       "      <td>3460595</td>\n",
       "      <td>3469323</td>\n",
       "    </tr>\n",
       "    <tr>\n",
       "      <th>RJ</th>\n",
       "      <td>1132152</td>\n",
       "      <td>1163598</td>\n",
       "      <td>1195410</td>\n",
       "      <td>1227094</td>\n",
       "      <td>1258587</td>\n",
       "      <td>1289782</td>\n",
       "      <td>1320484</td>\n",
       "      <td>1350824</td>\n",
       "      <td>1381650</td>\n",
       "      <td>1414520</td>\n",
       "      <td>...</td>\n",
       "      <td>4554486</td>\n",
       "      <td>4587974</td>\n",
       "      <td>4618820</td>\n",
       "      <td>4646900</td>\n",
       "      <td>4669426</td>\n",
       "      <td>4681913</td>\n",
       "      <td>4685227</td>\n",
       "      <td>4681263</td>\n",
       "      <td>4672309</td>\n",
       "      <td>4660294</td>\n",
       "    </tr>\n",
       "    <tr>\n",
       "      <th>RN</th>\n",
       "      <td>190949</td>\n",
       "      <td>194357</td>\n",
       "      <td>198428</td>\n",
       "      <td>202944</td>\n",
       "      <td>207745</td>\n",
       "      <td>212794</td>\n",
       "      <td>218050</td>\n",
       "      <td>223504</td>\n",
       "      <td>229119</td>\n",
       "      <td>235221</td>\n",
       "      <td>...</td>\n",
       "      <td>977285</td>\n",
       "      <td>985159</td>\n",
       "      <td>992357</td>\n",
       "      <td>998832</td>\n",
       "      <td>1004335</td>\n",
       "      <td>1008374</td>\n",
       "      <td>1011041</td>\n",
       "      <td>1012535</td>\n",
       "      <td>1013104</td>\n",
       "      <td>1012954</td>\n",
       "    </tr>\n",
       "    <tr>\n",
       "      <th>RO</th>\n",
       "      <td>48629</td>\n",
       "      <td>50716</td>\n",
       "      <td>52887</td>\n",
       "      <td>55127</td>\n",
       "      <td>57412</td>\n",
       "      <td>59792</td>\n",
       "      <td>62342</td>\n",
       "      <td>65115</td>\n",
       "      <td>68026</td>\n",
       "      <td>71011</td>\n",
       "      <td>...</td>\n",
       "      <td>447181</td>\n",
       "      <td>451553</td>\n",
       "      <td>455750</td>\n",
       "      <td>459745</td>\n",
       "      <td>463412</td>\n",
       "      <td>466826</td>\n",
       "      <td>469971</td>\n",
       "      <td>472777</td>\n",
       "      <td>475240</td>\n",
       "      <td>477310</td>\n",
       "    </tr>\n",
       "    <tr>\n",
       "      <th>RR</th>\n",
       "      <td>10111</td>\n",
       "      <td>10554</td>\n",
       "      <td>11000</td>\n",
       "      <td>11469</td>\n",
       "      <td>11937</td>\n",
       "      <td>12421</td>\n",
       "      <td>12924</td>\n",
       "      <td>13483</td>\n",
       "      <td>14117</td>\n",
       "      <td>14814</td>\n",
       "      <td>...</td>\n",
       "      <td>223087</td>\n",
       "      <td>230032</td>\n",
       "      <td>236889</td>\n",
       "      <td>243604</td>\n",
       "      <td>250036</td>\n",
       "      <td>256009</td>\n",
       "      <td>261518</td>\n",
       "      <td>266561</td>\n",
       "      <td>271201</td>\n",
       "      <td>275437</td>\n",
       "    </tr>\n",
       "    <tr>\n",
       "      <th>RS</th>\n",
       "      <td>755676</td>\n",
       "      <td>777308</td>\n",
       "      <td>799418</td>\n",
       "      <td>821815</td>\n",
       "      <td>844431</td>\n",
       "      <td>867610</td>\n",
       "      <td>891329</td>\n",
       "      <td>915704</td>\n",
       "      <td>941179</td>\n",
       "      <td>968580</td>\n",
       "      <td>...</td>\n",
       "      <td>2914525</td>\n",
       "      <td>2929384</td>\n",
       "      <td>2943093</td>\n",
       "      <td>2955468</td>\n",
       "      <td>2965388</td>\n",
       "      <td>2972246</td>\n",
       "      <td>2975955</td>\n",
       "      <td>2976541</td>\n",
       "      <td>2974122</td>\n",
       "      <td>2968743</td>\n",
       "    </tr>\n",
       "    <tr>\n",
       "      <th>SC</th>\n",
       "      <td>296608</td>\n",
       "      <td>307679</td>\n",
       "      <td>319362</td>\n",
       "      <td>331533</td>\n",
       "      <td>344115</td>\n",
       "      <td>357290</td>\n",
       "      <td>371087</td>\n",
       "      <td>385526</td>\n",
       "      <td>400857</td>\n",
       "      <td>417525</td>\n",
       "      <td>...</td>\n",
       "      <td>2720079</td>\n",
       "      <td>2763742</td>\n",
       "      <td>2804375</td>\n",
       "      <td>2841940</td>\n",
       "      <td>2875525</td>\n",
       "      <td>2902642</td>\n",
       "      <td>2923746</td>\n",
       "      <td>2939810</td>\n",
       "      <td>2952176</td>\n",
       "      <td>2962119</td>\n",
       "    </tr>\n",
       "    <tr>\n",
       "      <th>SE</th>\n",
       "      <td>98161</td>\n",
       "      <td>100082</td>\n",
       "      <td>102244</td>\n",
       "      <td>104687</td>\n",
       "      <td>107401</td>\n",
       "      <td>110373</td>\n",
       "      <td>113557</td>\n",
       "      <td>116966</td>\n",
       "      <td>120592</td>\n",
       "      <td>124459</td>\n",
       "      <td>...</td>\n",
       "      <td>650682</td>\n",
       "      <td>657307</td>\n",
       "      <td>663451</td>\n",
       "      <td>669098</td>\n",
       "      <td>674046</td>\n",
       "      <td>677771</td>\n",
       "      <td>680377</td>\n",
       "      <td>682069</td>\n",
       "      <td>683119</td>\n",
       "      <td>683720</td>\n",
       "    </tr>\n",
       "    <tr>\n",
       "      <th>SP</th>\n",
       "      <td>2379448</td>\n",
       "      <td>2457038</td>\n",
       "      <td>2538644</td>\n",
       "      <td>2622372</td>\n",
       "      <td>2707141</td>\n",
       "      <td>2792863</td>\n",
       "      <td>2879636</td>\n",
       "      <td>2968469</td>\n",
       "      <td>3060846</td>\n",
       "      <td>3159044</td>\n",
       "      <td>...</td>\n",
       "      <td>12454075</td>\n",
       "      <td>12519561</td>\n",
       "      <td>12580872</td>\n",
       "      <td>12637771</td>\n",
       "      <td>12685230</td>\n",
       "      <td>12717809</td>\n",
       "      <td>12736662</td>\n",
       "      <td>12744251</td>\n",
       "      <td>12743504</td>\n",
       "      <td>12736696</td>\n",
       "    </tr>\n",
       "    <tr>\n",
       "      <th>TO</th>\n",
       "      <td>57482</td>\n",
       "      <td>59325</td>\n",
       "      <td>61294</td>\n",
       "      <td>63387</td>\n",
       "      <td>65635</td>\n",
       "      <td>67998</td>\n",
       "      <td>70426</td>\n",
       "      <td>72906</td>\n",
       "      <td>75430</td>\n",
       "      <td>78067</td>\n",
       "      <td>...</td>\n",
       "      <td>436939</td>\n",
       "      <td>442648</td>\n",
       "      <td>448006</td>\n",
       "      <td>453013</td>\n",
       "      <td>457556</td>\n",
       "      <td>461271</td>\n",
       "      <td>464246</td>\n",
       "      <td>466625</td>\n",
       "      <td>468574</td>\n",
       "      <td>470248</td>\n",
       "    </tr>\n",
       "  </tbody>\n",
       "</table>\n",
       "<p>27 rows × 71 columns</p>\n",
       "</div>"
      ],
      "text/plain": [
       "          2000     2001     2002     2003     2004     2005     2006     2007  \\\n",
       "SIGLA                                                                           \n",
       "AC       23067    23737    24451    25213    26006    26835    27748    28771   \n",
       "AL      144140   147029   150245   153823   157824   162234   166955   171955   \n",
       "AM      106034   108553   111239   114186   117345   120701   124350   128319   \n",
       "AP       15780    16209    16682    17236    17895    18664    19556    20545   \n",
       "BA      792017   809904   829584   850755   873111   896426   920666   946018   \n",
       "CE      497847   510809   524775   539113   553571   568000   582408   596887   \n",
       "DF       77941    82602    87584    92790    98055   103308   108543   113813   \n",
       "ES      180913   187625   194554   201577   208586   215557   222549   229695   \n",
       "GO      251003   261724   273108   285014   297381   310211   323466   337130   \n",
       "MA      299465   307935   316314   324960   334129   343873   354242   365098   \n",
       "MG     1183070  1221642  1261782  1302367  1342951  1383417  1424192  1465948   \n",
       "MS      112440   117038   121823   126679   131583   136571   141713   147008   \n",
       "MT       99908   104604   109618   114845   120220   125793   131608   137652   \n",
       "PA      260377   267908   276137   284969   294365   304346   315071   326491   \n",
       "PB      260240   265243   270925   277060   283398   289746   296018   302172   \n",
       "PE      512766   523241   535269   548258   561680   575402   589451   603938   \n",
       "PI      176281   180686   185244   190182   195502   201128   206973   212986   \n",
       "PR      564818   584373   604631   625405   646681   668730   691564   715066   \n",
       "RJ     1132152  1163598  1195410  1227094  1258587  1289782  1320484  1350824   \n",
       "RN      190949   194357   198428   202944   207745   212794   218050   223504   \n",
       "RO       48629    50716    52887    55127    57412    59792    62342    65115   \n",
       "RR       10111    10554    11000    11469    11937    12421    12924    13483   \n",
       "RS      755676   777308   799418   821815   844431   867610   891329   915704   \n",
       "SC      296608   307679   319362   331533   344115   357290   371087   385526   \n",
       "SE       98161   100082   102244   104687   107401   110373   113557   116966   \n",
       "SP     2379448  2457038  2538644  2622372  2707141  2792863  2879636  2968469   \n",
       "TO       57482    59325    61294    63387    65635    67998    70426    72906   \n",
       "\n",
       "          2008     2009  ...      2061      2062      2063      2064  \\\n",
       "SIGLA                    ...                                           \n",
       "AC       29891    31086  ...    207589    211670    215840    220061   \n",
       "AL      177189   182725  ...    805459    814190    822572    830486   \n",
       "AM      132586   137155  ...   1074528   1098337   1121983   1145395   \n",
       "AP       21575    22616  ...    196718    200638    204519    208329   \n",
       "BA      972633  1000874  ...   4154006   4182078   4208692   4233519   \n",
       "CE      611719   627773  ...   2638607   2671996   2702683   2730483   \n",
       "DF      119233   125004  ...    883590    889743    895370    900518   \n",
       "ES      237119   244965  ...   1176126   1183740   1191049   1197994   \n",
       "GO      351210   365875  ...   2229982   2258311   2285608   2311830   \n",
       "MA      376309   387949  ...   1781796   1805814   1829345   1852165   \n",
       "MG     1509679  1556170  ...   6092778   6137492   6179296   6217811   \n",
       "MS      152471   158108  ...    774089    783866    793167    801996   \n",
       "MT      143886   150347  ...   1132612   1151933   1170356   1187914   \n",
       "PA      338464   350992  ...   2279081   2317714   2355566   2392464   \n",
       "PB      308324   314923  ...   1167919   1178455   1188608   1198294   \n",
       "PE      618993   635151  ...   2535576   2559097   2582195   2604671   \n",
       "PI      219274   226061  ...    936335    943735    951001    958003   \n",
       "PR      739368   764921  ...   3287913   3318440   3346891   3373277   \n",
       "RJ     1381650  1414520  ...   4554486   4587974   4618820   4646900   \n",
       "RN      229119   235221  ...    977285    985159    992357    998832   \n",
       "RO       68026    71011  ...    447181    451553    455750    459745   \n",
       "RR       14117    14814  ...    223087    230032    236889    243604   \n",
       "RS      941179   968580  ...   2914525   2929384   2943093   2955468   \n",
       "SC      400857   417525  ...   2720079   2763742   2804375   2841940   \n",
       "SE      120592   124459  ...    650682    657307    663451    669098   \n",
       "SP     3060846  3159044  ...  12454075  12519561  12580872  12637771   \n",
       "TO       75430    78067  ...    436939    442648    448006    453013   \n",
       "\n",
       "           2065      2066      2067      2068      2069      2070  \n",
       "SIGLA                                                              \n",
       "AC       224253    228322    232261    236052    239666    243097  \n",
       "AL       837449    842710    846372    848708    850070    850744  \n",
       "AM      1167969   1188435   1206981   1224088   1240324   1256136  \n",
       "AP       211907    215190    218190    220931    223448    225780  \n",
       "BA      4254505   4269499   4278747   4283036   4283327   4280389  \n",
       "CE      2754781   2773788   2787813   2797487   2803679   2807192  \n",
       "DF       904922    908355    910827    912432    913295    913506  \n",
       "ES      1204064   1209001   1212841   1215675   1217650   1218838  \n",
       "GO      2336269   2358378   2378150   2395706   2411239   2424895  \n",
       "MA      1874150   1894134   1912170   1928496   1943408   1957122  \n",
       "MG      6250740   6276575   6295194   6306883   6312092   6311116  \n",
       "MS       810325    818312    825928    833111    839828    846007  \n",
       "MT      1204544   1219594   1233163   1245476   1256877   1267644  \n",
       "PA      2428067   2461451   2492619   2521734   2548988   2574450  \n",
       "PB      1207318   1215793   1223608   1230642   1236766   1241895  \n",
       "PE      2625550   2644009   2660077   2673955   2685901   2696099  \n",
       "PI       964492    970218    975154    979277    982577    985079  \n",
       "PR      3397024   3417597   3434961   3449210   3460595   3469323  \n",
       "RJ      4669426   4681913   4685227   4681263   4672309   4660294  \n",
       "RN      1004335   1008374   1011041   1012535   1013104   1012954  \n",
       "RO       463412    466826    469971    472777    475240    477310  \n",
       "RR       250036    256009    261518    266561    271201    275437  \n",
       "RS      2965388   2972246   2975955   2976541   2974122   2968743  \n",
       "SC      2875525   2902642   2923746   2939810   2952176   2962119  \n",
       "SE       674046    677771    680377    682069    683119    683720  \n",
       "SP     12685230  12717809  12736662  12744251  12743504  12736696  \n",
       "TO       457556    461271    464246    466625    468574    470248  \n",
       "\n",
       "[27 rows x 71 columns]"
      ]
     },
     "execution_count": 31,
     "metadata": {},
     "output_type": "execute_result"
    }
   ],
   "source": [
    "df_oldest_uf_grouped"
   ]
  },
  {
   "cell_type": "markdown",
   "id": "01d65ed0",
   "metadata": {},
   "source": [
    "##### Como a população de SP ou RJ vai evoluir comparada ao Brasil?"
   ]
  },
  {
   "cell_type": "code",
   "execution_count": 32,
   "id": "89fdb059",
   "metadata": {},
   "outputs": [],
   "source": [
    "df_rj = df[(df[\"SIGLA\"] == \"RJ\") & (df[\"SEXO\"] == \"Ambos\")][years].sum()\n",
    "df_sp = df[(df[\"SIGLA\"] == \"SP\") & (df[\"SEXO\"] == \"Ambos\")][years].sum()"
   ]
  },
  {
   "cell_type": "code",
   "execution_count": 33,
   "id": "d505ad00",
   "metadata": {},
   "outputs": [],
   "source": [
    "# A variável df_br já foi declara no início do arquivo\n",
    "\n",
    "df_br2 = df_br[years].sum()"
   ]
  },
  {
   "cell_type": "code",
   "execution_count": 34,
   "id": "71a840f4",
   "metadata": {},
   "outputs": [
    {
     "data": {
      "application/vnd.plotly.v1+json": {
       "config": {
        "plotlyServerURL": "https://plot.ly"
       },
       "data": [
        {
         "mode": "lines+markers",
         "name": "Rio de Janeiro",
         "type": "scatter",
         "x": [
          2000,
          2001,
          2002,
          2003,
          2004,
          2005,
          2006,
          2007,
          2008,
          2009,
          2010,
          2011,
          2012,
          2013,
          2014,
          2015,
          2016,
          2017,
          2018,
          2019,
          2020,
          2021,
          2022,
          2023,
          2024,
          2025,
          2026,
          2027,
          2028,
          2029,
          2030,
          2031,
          2032,
          2033,
          2034,
          2035,
          2036,
          2037,
          2038,
          2039,
          2040,
          2041,
          2042,
          2043,
          2044,
          2045,
          2046,
          2047,
          2048,
          2049,
          2050,
          2051,
          2052,
          2053,
          2054,
          2055,
          2056,
          2057,
          2058,
          2059,
          2060,
          2061,
          2062,
          2063,
          2064,
          2065,
          2066,
          2067,
          2068,
          2069,
          2070
         ],
         "y": {
          "bdata": "+z/qAKbY7ACDNe8ATF7xAFFg8wDKRPUAGQv3AHiv+ACdOfoANLT7AKvq/ABW8v0A9hz/AGJbAAF7qAEBUPgCAQ8RBAFu7gQBD6wFAb9bBgGhygYBZ8MGAXChBgF1qQYBX8AGAXvPBgHC1gYBaNcGAUzSBgEAyAYB7LgGAWmhBgGofQYBsE0GAWURBgF3yAUBV3IFAWkOBQGQnAQB7xwEAVePAwGK8wIBbEkCAVqRAQHEywAB0fj/ALkY/wCeK/4A3jH9AJ4r/AD2GPsAB/r5AB3P+ABvmPcA7VX2AJAH9QC/rfMARknyAIva8ADEYe8AUt/tAOJT7AA9wOoA6iTpAFqC5wDp2OUAHCnkAIxz4gDGuOAAI/neAB013QA=",
          "dtype": "i4"
         }
        },
        {
         "mode": "lines+markers",
         "name": "São Paulo",
         "type": "scatter",
         "x": [
          2000,
          2001,
          2002,
          2003,
          2004,
          2005,
          2006,
          2007,
          2008,
          2009,
          2010,
          2011,
          2012,
          2013,
          2014,
          2015,
          2016,
          2017,
          2018,
          2019,
          2020,
          2021,
          2022,
          2023,
          2024,
          2025,
          2026,
          2027,
          2028,
          2029,
          2030,
          2031,
          2032,
          2033,
          2034,
          2035,
          2036,
          2037,
          2038,
          2039,
          2040,
          2041,
          2042,
          2043,
          2044,
          2045,
          2046,
          2047,
          2048,
          2049,
          2050,
          2051,
          2052,
          2053,
          2054,
          2055,
          2056,
          2057,
          2058,
          2059,
          2060,
          2061,
          2062,
          2063,
          2064,
          2065,
          2066,
          2067,
          2068,
          2069,
          2070
         ],
         "y": {
          "bdata": "OAxEAvKASwKtyVICwutZAmX0YAIg7mcCb8luAmRzdQLWBnwCQHiCApoViALyLo0CoZqSAiwRmAKwc50CS7aiAr55pwJqu6sCF5ivAhtRswL3oLYCy5e4AhLkuQLKn7sCyn69AgknvwLAosAC6vXBAlkkwwKsMcQCiCDFAqTsxQJTkcYC1A/HAupoxwJ5nMcCqqnHArCPxwK+TscC6ObGAmdXxgKOnsUCNrvEAqStwwIMdsICwhPBAu+FvwJezL0Ccue7AoPXuQJ3nLcCkja1AlWmsgIO7K8C/QetAp36qQJGxaYC82mjApzpnwL9RJwCpH2YAhqWlALZkJACbW+MAiQziALU3YMCY3F/AqbvegILWnYCDLJxAo75bAI=",
          "dtype": "i4"
         }
        },
        {
         "mode": "lines+markers",
         "name": "Brasil",
         "type": "scatter",
         "x": [
          2000,
          2001,
          2002,
          2003,
          2004,
          2005,
          2006,
          2007,
          2008,
          2009,
          2010,
          2011,
          2012,
          2013,
          2014,
          2015,
          2016,
          2017,
          2018,
          2019,
          2020,
          2021,
          2022,
          2023,
          2024,
          2025,
          2026,
          2027,
          2028,
          2029,
          2030,
          2031,
          2032,
          2033,
          2034,
          2035,
          2036,
          2037,
          2038,
          2039,
          2040,
          2041,
          2042,
          2043,
          2044,
          2045,
          2046,
          2047,
          2048,
          2049,
          2050,
          2051,
          2052,
          2053,
          2054,
          2055,
          2056,
          2057,
          2058,
          2059,
          2060,
          2061,
          2062,
          2063,
          2064,
          2065,
          2066,
          2067,
          2068,
          2069,
          2070
         ],
         "y": {
          "bdata": "/6VpCt/cjApezq4KdprPChmG7wohyQ4Lto4tC4vpSgsci2cLFJqDC5GjmwuSJLEL3DbIC0713wt7IvgLOm8QDLXWJgylRzsMDmJPDMNNZAxZmncMWu2FDIeDkQw2Np4MRsWrDO2LuAxvncQMYQbQDFLS2gwdDeUMJb/uDFq/9wyc4v8MQC0HDcujDQ1PRxMNYxQYDYUHHA0MIh8N5GYhDYjUIg1TbCMNXTEjDb4lIg16SyANe6EdDYMlGg1+1xUNrLkQDR3MCg2KDQQNOn78DKEf9AxB8+oMivfgDD8s1gw9lcoMEjq+DLsdsQwxQaMMbKiUDG1ahQyjX3UM0L1kDDt5Uwyrl0EMcyAvDCUbHAyZjggMv4H0CyT93ws=",
          "dtype": "i4"
         }
        }
       ],
       "layout": {
        "template": {
         "data": {
          "bar": [
           {
            "error_x": {
             "color": "#2a3f5f"
            },
            "error_y": {
             "color": "#2a3f5f"
            },
            "marker": {
             "line": {
              "color": "white",
              "width": 0.5
             },
             "pattern": {
              "fillmode": "overlay",
              "size": 10,
              "solidity": 0.2
             }
            },
            "type": "bar"
           }
          ],
          "barpolar": [
           {
            "marker": {
             "line": {
              "color": "white",
              "width": 0.5
             },
             "pattern": {
              "fillmode": "overlay",
              "size": 10,
              "solidity": 0.2
             }
            },
            "type": "barpolar"
           }
          ],
          "carpet": [
           {
            "aaxis": {
             "endlinecolor": "#2a3f5f",
             "gridcolor": "#C8D4E3",
             "linecolor": "#C8D4E3",
             "minorgridcolor": "#C8D4E3",
             "startlinecolor": "#2a3f5f"
            },
            "baxis": {
             "endlinecolor": "#2a3f5f",
             "gridcolor": "#C8D4E3",
             "linecolor": "#C8D4E3",
             "minorgridcolor": "#C8D4E3",
             "startlinecolor": "#2a3f5f"
            },
            "type": "carpet"
           }
          ],
          "choropleth": [
           {
            "colorbar": {
             "outlinewidth": 0,
             "ticks": ""
            },
            "type": "choropleth"
           }
          ],
          "contour": [
           {
            "colorbar": {
             "outlinewidth": 0,
             "ticks": ""
            },
            "colorscale": [
             [
              0,
              "#0d0887"
             ],
             [
              0.1111111111111111,
              "#46039f"
             ],
             [
              0.2222222222222222,
              "#7201a8"
             ],
             [
              0.3333333333333333,
              "#9c179e"
             ],
             [
              0.4444444444444444,
              "#bd3786"
             ],
             [
              0.5555555555555556,
              "#d8576b"
             ],
             [
              0.6666666666666666,
              "#ed7953"
             ],
             [
              0.7777777777777778,
              "#fb9f3a"
             ],
             [
              0.8888888888888888,
              "#fdca26"
             ],
             [
              1,
              "#f0f921"
             ]
            ],
            "type": "contour"
           }
          ],
          "contourcarpet": [
           {
            "colorbar": {
             "outlinewidth": 0,
             "ticks": ""
            },
            "type": "contourcarpet"
           }
          ],
          "heatmap": [
           {
            "colorbar": {
             "outlinewidth": 0,
             "ticks": ""
            },
            "colorscale": [
             [
              0,
              "#0d0887"
             ],
             [
              0.1111111111111111,
              "#46039f"
             ],
             [
              0.2222222222222222,
              "#7201a8"
             ],
             [
              0.3333333333333333,
              "#9c179e"
             ],
             [
              0.4444444444444444,
              "#bd3786"
             ],
             [
              0.5555555555555556,
              "#d8576b"
             ],
             [
              0.6666666666666666,
              "#ed7953"
             ],
             [
              0.7777777777777778,
              "#fb9f3a"
             ],
             [
              0.8888888888888888,
              "#fdca26"
             ],
             [
              1,
              "#f0f921"
             ]
            ],
            "type": "heatmap"
           }
          ],
          "histogram": [
           {
            "marker": {
             "pattern": {
              "fillmode": "overlay",
              "size": 10,
              "solidity": 0.2
             }
            },
            "type": "histogram"
           }
          ],
          "histogram2d": [
           {
            "colorbar": {
             "outlinewidth": 0,
             "ticks": ""
            },
            "colorscale": [
             [
              0,
              "#0d0887"
             ],
             [
              0.1111111111111111,
              "#46039f"
             ],
             [
              0.2222222222222222,
              "#7201a8"
             ],
             [
              0.3333333333333333,
              "#9c179e"
             ],
             [
              0.4444444444444444,
              "#bd3786"
             ],
             [
              0.5555555555555556,
              "#d8576b"
             ],
             [
              0.6666666666666666,
              "#ed7953"
             ],
             [
              0.7777777777777778,
              "#fb9f3a"
             ],
             [
              0.8888888888888888,
              "#fdca26"
             ],
             [
              1,
              "#f0f921"
             ]
            ],
            "type": "histogram2d"
           }
          ],
          "histogram2dcontour": [
           {
            "colorbar": {
             "outlinewidth": 0,
             "ticks": ""
            },
            "colorscale": [
             [
              0,
              "#0d0887"
             ],
             [
              0.1111111111111111,
              "#46039f"
             ],
             [
              0.2222222222222222,
              "#7201a8"
             ],
             [
              0.3333333333333333,
              "#9c179e"
             ],
             [
              0.4444444444444444,
              "#bd3786"
             ],
             [
              0.5555555555555556,
              "#d8576b"
             ],
             [
              0.6666666666666666,
              "#ed7953"
             ],
             [
              0.7777777777777778,
              "#fb9f3a"
             ],
             [
              0.8888888888888888,
              "#fdca26"
             ],
             [
              1,
              "#f0f921"
             ]
            ],
            "type": "histogram2dcontour"
           }
          ],
          "mesh3d": [
           {
            "colorbar": {
             "outlinewidth": 0,
             "ticks": ""
            },
            "type": "mesh3d"
           }
          ],
          "parcoords": [
           {
            "line": {
             "colorbar": {
              "outlinewidth": 0,
              "ticks": ""
             }
            },
            "type": "parcoords"
           }
          ],
          "pie": [
           {
            "automargin": true,
            "type": "pie"
           }
          ],
          "scatter": [
           {
            "fillpattern": {
             "fillmode": "overlay",
             "size": 10,
             "solidity": 0.2
            },
            "type": "scatter"
           }
          ],
          "scatter3d": [
           {
            "line": {
             "colorbar": {
              "outlinewidth": 0,
              "ticks": ""
             }
            },
            "marker": {
             "colorbar": {
              "outlinewidth": 0,
              "ticks": ""
             }
            },
            "type": "scatter3d"
           }
          ],
          "scattercarpet": [
           {
            "marker": {
             "colorbar": {
              "outlinewidth": 0,
              "ticks": ""
             }
            },
            "type": "scattercarpet"
           }
          ],
          "scattergeo": [
           {
            "marker": {
             "colorbar": {
              "outlinewidth": 0,
              "ticks": ""
             }
            },
            "type": "scattergeo"
           }
          ],
          "scattergl": [
           {
            "marker": {
             "colorbar": {
              "outlinewidth": 0,
              "ticks": ""
             }
            },
            "type": "scattergl"
           }
          ],
          "scattermap": [
           {
            "marker": {
             "colorbar": {
              "outlinewidth": 0,
              "ticks": ""
             }
            },
            "type": "scattermap"
           }
          ],
          "scattermapbox": [
           {
            "marker": {
             "colorbar": {
              "outlinewidth": 0,
              "ticks": ""
             }
            },
            "type": "scattermapbox"
           }
          ],
          "scatterpolar": [
           {
            "marker": {
             "colorbar": {
              "outlinewidth": 0,
              "ticks": ""
             }
            },
            "type": "scatterpolar"
           }
          ],
          "scatterpolargl": [
           {
            "marker": {
             "colorbar": {
              "outlinewidth": 0,
              "ticks": ""
             }
            },
            "type": "scatterpolargl"
           }
          ],
          "scatterternary": [
           {
            "marker": {
             "colorbar": {
              "outlinewidth": 0,
              "ticks": ""
             }
            },
            "type": "scatterternary"
           }
          ],
          "surface": [
           {
            "colorbar": {
             "outlinewidth": 0,
             "ticks": ""
            },
            "colorscale": [
             [
              0,
              "#0d0887"
             ],
             [
              0.1111111111111111,
              "#46039f"
             ],
             [
              0.2222222222222222,
              "#7201a8"
             ],
             [
              0.3333333333333333,
              "#9c179e"
             ],
             [
              0.4444444444444444,
              "#bd3786"
             ],
             [
              0.5555555555555556,
              "#d8576b"
             ],
             [
              0.6666666666666666,
              "#ed7953"
             ],
             [
              0.7777777777777778,
              "#fb9f3a"
             ],
             [
              0.8888888888888888,
              "#fdca26"
             ],
             [
              1,
              "#f0f921"
             ]
            ],
            "type": "surface"
           }
          ],
          "table": [
           {
            "cells": {
             "fill": {
              "color": "#EBF0F8"
             },
             "line": {
              "color": "white"
             }
            },
            "header": {
             "fill": {
              "color": "#C8D4E3"
             },
             "line": {
              "color": "white"
             }
            },
            "type": "table"
           }
          ]
         },
         "layout": {
          "annotationdefaults": {
           "arrowcolor": "#2a3f5f",
           "arrowhead": 0,
           "arrowwidth": 1
          },
          "autotypenumbers": "strict",
          "coloraxis": {
           "colorbar": {
            "outlinewidth": 0,
            "ticks": ""
           }
          },
          "colorscale": {
           "diverging": [
            [
             0,
             "#8e0152"
            ],
            [
             0.1,
             "#c51b7d"
            ],
            [
             0.2,
             "#de77ae"
            ],
            [
             0.3,
             "#f1b6da"
            ],
            [
             0.4,
             "#fde0ef"
            ],
            [
             0.5,
             "#f7f7f7"
            ],
            [
             0.6,
             "#e6f5d0"
            ],
            [
             0.7,
             "#b8e186"
            ],
            [
             0.8,
             "#7fbc41"
            ],
            [
             0.9,
             "#4d9221"
            ],
            [
             1,
             "#276419"
            ]
           ],
           "sequential": [
            [
             0,
             "#0d0887"
            ],
            [
             0.1111111111111111,
             "#46039f"
            ],
            [
             0.2222222222222222,
             "#7201a8"
            ],
            [
             0.3333333333333333,
             "#9c179e"
            ],
            [
             0.4444444444444444,
             "#bd3786"
            ],
            [
             0.5555555555555556,
             "#d8576b"
            ],
            [
             0.6666666666666666,
             "#ed7953"
            ],
            [
             0.7777777777777778,
             "#fb9f3a"
            ],
            [
             0.8888888888888888,
             "#fdca26"
            ],
            [
             1,
             "#f0f921"
            ]
           ],
           "sequentialminus": [
            [
             0,
             "#0d0887"
            ],
            [
             0.1111111111111111,
             "#46039f"
            ],
            [
             0.2222222222222222,
             "#7201a8"
            ],
            [
             0.3333333333333333,
             "#9c179e"
            ],
            [
             0.4444444444444444,
             "#bd3786"
            ],
            [
             0.5555555555555556,
             "#d8576b"
            ],
            [
             0.6666666666666666,
             "#ed7953"
            ],
            [
             0.7777777777777778,
             "#fb9f3a"
            ],
            [
             0.8888888888888888,
             "#fdca26"
            ],
            [
             1,
             "#f0f921"
            ]
           ]
          },
          "colorway": [
           "#636efa",
           "#EF553B",
           "#00cc96",
           "#ab63fa",
           "#FFA15A",
           "#19d3f3",
           "#FF6692",
           "#B6E880",
           "#FF97FF",
           "#FECB52"
          ],
          "font": {
           "color": "#2a3f5f"
          },
          "geo": {
           "bgcolor": "white",
           "lakecolor": "white",
           "landcolor": "white",
           "showlakes": true,
           "showland": true,
           "subunitcolor": "#C8D4E3"
          },
          "hoverlabel": {
           "align": "left"
          },
          "hovermode": "closest",
          "mapbox": {
           "style": "light"
          },
          "paper_bgcolor": "white",
          "plot_bgcolor": "white",
          "polar": {
           "angularaxis": {
            "gridcolor": "#EBF0F8",
            "linecolor": "#EBF0F8",
            "ticks": ""
           },
           "bgcolor": "white",
           "radialaxis": {
            "gridcolor": "#EBF0F8",
            "linecolor": "#EBF0F8",
            "ticks": ""
           }
          },
          "scene": {
           "xaxis": {
            "backgroundcolor": "white",
            "gridcolor": "#DFE8F3",
            "gridwidth": 2,
            "linecolor": "#EBF0F8",
            "showbackground": true,
            "ticks": "",
            "zerolinecolor": "#EBF0F8"
           },
           "yaxis": {
            "backgroundcolor": "white",
            "gridcolor": "#DFE8F3",
            "gridwidth": 2,
            "linecolor": "#EBF0F8",
            "showbackground": true,
            "ticks": "",
            "zerolinecolor": "#EBF0F8"
           },
           "zaxis": {
            "backgroundcolor": "white",
            "gridcolor": "#DFE8F3",
            "gridwidth": 2,
            "linecolor": "#EBF0F8",
            "showbackground": true,
            "ticks": "",
            "zerolinecolor": "#EBF0F8"
           }
          },
          "shapedefaults": {
           "line": {
            "color": "#2a3f5f"
           }
          },
          "ternary": {
           "aaxis": {
            "gridcolor": "#DFE8F3",
            "linecolor": "#A2B1C6",
            "ticks": ""
           },
           "baxis": {
            "gridcolor": "#DFE8F3",
            "linecolor": "#A2B1C6",
            "ticks": ""
           },
           "bgcolor": "white",
           "caxis": {
            "gridcolor": "#DFE8F3",
            "linecolor": "#A2B1C6",
            "ticks": ""
           }
          },
          "title": {
           "x": 0.05
          },
          "xaxis": {
           "automargin": true,
           "gridcolor": "#EBF0F8",
           "linecolor": "#EBF0F8",
           "ticks": "",
           "title": {
            "standoff": 15
           },
           "zerolinecolor": "#EBF0F8",
           "zerolinewidth": 2
          },
          "yaxis": {
           "automargin": true,
           "gridcolor": "#EBF0F8",
           "linecolor": "#EBF0F8",
           "ticks": "",
           "title": {
            "standoff": 15
           },
           "zerolinecolor": "#EBF0F8",
           "zerolinewidth": 2
          }
         }
        },
        "title": {
         "text": "Comparação da evolução da população de São Paulo e do Rio de Janeiro em relação a do Brasil"
        },
        "xaxis": {
         "title": {
          "text": "Ano"
         }
        },
        "yaxis": {
         "title": {
          "text": "Proporção (%)"
         }
        }
       }
      }
     },
     "metadata": {},
     "output_type": "display_data"
    }
   ],
   "source": [
    "rj_sp_superate_br_fig = go.Figure()\n",
    "\n",
    "rj_sp_superate_br_fig.add_trace(go.Scatter(\n",
    "    x=df_rj.index,\n",
    "    y=df_rj.values,\n",
    "    mode=\"lines+markers\",\n",
    "    name=\"Rio de Janeiro\"\n",
    "))\n",
    "\n",
    "rj_sp_superate_br_fig.add_trace(go.Scatter(\n",
    "    x=df_sp.index,\n",
    "    y=df_sp.values,\n",
    "    mode=\"lines+markers\",\n",
    "    name=\"São Paulo\"\n",
    "))\n",
    "\n",
    "rj_sp_superate_br_fig.add_trace(go.Scatter(\n",
    "    x=df_br2.index,\n",
    "    y=df_br2.values,\n",
    "    mode=\"lines+markers\",\n",
    "    name=\"Brasil\"\n",
    "))\n",
    "\n",
    "rj_sp_superate_br_fig.update_layout(\n",
    "    title=\"Comparação da evolução da população de São Paulo e do Rio de Janeiro em relação a do Brasil\",\n",
    "    xaxis_title=\"Ano\",\n",
    "    yaxis_title=\"Proporção (%)\",\n",
    "    template=\"plotly_white\"\n",
    ")\n",
    "\n",
    "rj_sp_superate_br_fig.show()"
   ]
  },
  {
   "cell_type": "markdown",
   "id": "ed42b23d",
   "metadata": {},
   "source": [
    "##### Há estados que ainda terão crescimento populacional após 2040?"
   ]
  },
  {
   "cell_type": "code",
   "execution_count": 56,
   "id": "f96e720f",
   "metadata": {},
   "outputs": [],
   "source": [
    "years_2040_2070 = list(range(2040, 2071))\n",
    "df_uf_2_grouped = df[(~df[\"SIGLA\"].isin([\"BR\", \"NO\", \"CO\", \"SU\", \"ND\", \"SD\"])) & (df[\"SEXO\"] == \"Ambos\")]\n",
    "df_uf_2_grouped = df_uf_2_grouped.groupby(\"SIGLA\")[years_2040_2070].sum()\n",
    "uf_growth = df_uf_2_grouped.apply(lambda row: any(row.diff().fillna(0) > 0), axis=1)\n",
    "uf_growth_after_2040 = df_uf_2_grouped[uf_growth]"
   ]
  },
  {
   "cell_type": "code",
   "execution_count": 54,
   "id": "bfa85ead",
   "metadata": {},
   "outputs": [
    {
     "data": {
      "text/html": [
       "<div>\n",
       "<style scoped>\n",
       "    .dataframe tbody tr th:only-of-type {\n",
       "        vertical-align: middle;\n",
       "    }\n",
       "\n",
       "    .dataframe tbody tr th {\n",
       "        vertical-align: top;\n",
       "    }\n",
       "\n",
       "    .dataframe thead th {\n",
       "        text-align: right;\n",
       "    }\n",
       "</style>\n",
       "<table border=\"1\" class=\"dataframe\">\n",
       "  <thead>\n",
       "    <tr style=\"text-align: right;\">\n",
       "      <th></th>\n",
       "      <th>2040</th>\n",
       "      <th>2041</th>\n",
       "      <th>2042</th>\n",
       "      <th>2043</th>\n",
       "      <th>2044</th>\n",
       "      <th>2045</th>\n",
       "      <th>2046</th>\n",
       "      <th>2047</th>\n",
       "      <th>2048</th>\n",
       "      <th>2049</th>\n",
       "      <th>...</th>\n",
       "      <th>2061</th>\n",
       "      <th>2062</th>\n",
       "      <th>2063</th>\n",
       "      <th>2064</th>\n",
       "      <th>2065</th>\n",
       "      <th>2066</th>\n",
       "      <th>2067</th>\n",
       "      <th>2068</th>\n",
       "      <th>2069</th>\n",
       "      <th>2070</th>\n",
       "    </tr>\n",
       "    <tr>\n",
       "      <th>SIGLA</th>\n",
       "      <th></th>\n",
       "      <th></th>\n",
       "      <th></th>\n",
       "      <th></th>\n",
       "      <th></th>\n",
       "      <th></th>\n",
       "      <th></th>\n",
       "      <th></th>\n",
       "      <th></th>\n",
       "      <th></th>\n",
       "      <th></th>\n",
       "      <th></th>\n",
       "      <th></th>\n",
       "      <th></th>\n",
       "      <th></th>\n",
       "      <th></th>\n",
       "      <th></th>\n",
       "      <th></th>\n",
       "      <th></th>\n",
       "      <th></th>\n",
       "      <th></th>\n",
       "    </tr>\n",
       "  </thead>\n",
       "  <tbody>\n",
       "    <tr>\n",
       "      <th>AC</th>\n",
       "      <td>912339</td>\n",
       "      <td>912727</td>\n",
       "      <td>912899</td>\n",
       "      <td>912861</td>\n",
       "      <td>912599</td>\n",
       "      <td>912134</td>\n",
       "      <td>911457</td>\n",
       "      <td>910569</td>\n",
       "      <td>909477</td>\n",
       "      <td>908166</td>\n",
       "      <td>...</td>\n",
       "      <td>875539</td>\n",
       "      <td>871410</td>\n",
       "      <td>867081</td>\n",
       "      <td>862554</td>\n",
       "      <td>857837</td>\n",
       "      <td>852936</td>\n",
       "      <td>847860</td>\n",
       "      <td>842617</td>\n",
       "      <td>837209</td>\n",
       "      <td>831656</td>\n",
       "    </tr>\n",
       "    <tr>\n",
       "      <th>AM</th>\n",
       "      <td>4772914</td>\n",
       "      <td>4789170</td>\n",
       "      <td>4804207</td>\n",
       "      <td>4818001</td>\n",
       "      <td>4830534</td>\n",
       "      <td>4841815</td>\n",
       "      <td>4851866</td>\n",
       "      <td>4860682</td>\n",
       "      <td>4868238</td>\n",
       "      <td>4874493</td>\n",
       "      <td>...</td>\n",
       "      <td>4847420</td>\n",
       "      <td>4836566</td>\n",
       "      <td>4824451</td>\n",
       "      <td>4811129</td>\n",
       "      <td>4796579</td>\n",
       "      <td>4780850</td>\n",
       "      <td>4763958</td>\n",
       "      <td>4745963</td>\n",
       "      <td>4726928</td>\n",
       "      <td>4706869</td>\n",
       "    </tr>\n",
       "    <tr>\n",
       "      <th>AP</th>\n",
       "      <td>839084</td>\n",
       "      <td>839959</td>\n",
       "      <td>840654</td>\n",
       "      <td>841168</td>\n",
       "      <td>841500</td>\n",
       "      <td>841629</td>\n",
       "      <td>841575</td>\n",
       "      <td>841325</td>\n",
       "      <td>840891</td>\n",
       "      <td>840242</td>\n",
       "      <td>...</td>\n",
       "      <td>814942</td>\n",
       "      <td>811333</td>\n",
       "      <td>807508</td>\n",
       "      <td>803479</td>\n",
       "      <td>799249</td>\n",
       "      <td>794843</td>\n",
       "      <td>790247</td>\n",
       "      <td>785500</td>\n",
       "      <td>780604</td>\n",
       "      <td>775558</td>\n",
       "    </tr>\n",
       "    <tr>\n",
       "      <th>CE</th>\n",
       "      <td>9577740</td>\n",
       "      <td>9581440</td>\n",
       "      <td>9582905</td>\n",
       "      <td>9582138</td>\n",
       "      <td>9579145</td>\n",
       "      <td>9573883</td>\n",
       "      <td>9566275</td>\n",
       "      <td>9556257</td>\n",
       "      <td>9543843</td>\n",
       "      <td>9529006</td>\n",
       "      <td>...</td>\n",
       "      <td>9155613</td>\n",
       "      <td>9108837</td>\n",
       "      <td>9059905</td>\n",
       "      <td>9008836</td>\n",
       "      <td>8955680</td>\n",
       "      <td>8900516</td>\n",
       "      <td>8843427</td>\n",
       "      <td>8784477</td>\n",
       "      <td>8723744</td>\n",
       "      <td>8661295</td>\n",
       "    </tr>\n",
       "    <tr>\n",
       "      <th>DF</th>\n",
       "      <td>3115617</td>\n",
       "      <td>3117386</td>\n",
       "      <td>3118159</td>\n",
       "      <td>3117914</td>\n",
       "      <td>3116662</td>\n",
       "      <td>3114389</td>\n",
       "      <td>3111067</td>\n",
       "      <td>3106713</td>\n",
       "      <td>3101324</td>\n",
       "      <td>3094891</td>\n",
       "      <td>...</td>\n",
       "      <td>2936530</td>\n",
       "      <td>2917294</td>\n",
       "      <td>2897313</td>\n",
       "      <td>2876631</td>\n",
       "      <td>2855286</td>\n",
       "      <td>2833335</td>\n",
       "      <td>2810837</td>\n",
       "      <td>2787832</td>\n",
       "      <td>2764372</td>\n",
       "      <td>2740519</td>\n",
       "    </tr>\n",
       "    <tr>\n",
       "      <th>ES</th>\n",
       "      <td>4374959</td>\n",
       "      <td>4381753</td>\n",
       "      <td>4387329</td>\n",
       "      <td>4391699</td>\n",
       "      <td>4394903</td>\n",
       "      <td>4396936</td>\n",
       "      <td>4397835</td>\n",
       "      <td>4397597</td>\n",
       "      <td>4396248</td>\n",
       "      <td>4393804</td>\n",
       "      <td>...</td>\n",
       "      <td>4280303</td>\n",
       "      <td>4264049</td>\n",
       "      <td>4246830</td>\n",
       "      <td>4228660</td>\n",
       "      <td>4209558</td>\n",
       "      <td>4189575</td>\n",
       "      <td>4168764</td>\n",
       "      <td>4147167</td>\n",
       "      <td>4124811</td>\n",
       "      <td>4101764</td>\n",
       "    </tr>\n",
       "    <tr>\n",
       "      <th>GO</th>\n",
       "      <td>8287291</td>\n",
       "      <td>8325830</td>\n",
       "      <td>8361856</td>\n",
       "      <td>8395379</td>\n",
       "      <td>8426419</td>\n",
       "      <td>8454944</td>\n",
       "      <td>8480887</td>\n",
       "      <td>8504198</td>\n",
       "      <td>8524915</td>\n",
       "      <td>8543021</td>\n",
       "      <td>...</td>\n",
       "      <td>8550848</td>\n",
       "      <td>8534528</td>\n",
       "      <td>8515843</td>\n",
       "      <td>8494839</td>\n",
       "      <td>8471590</td>\n",
       "      <td>8446205</td>\n",
       "      <td>8418786</td>\n",
       "      <td>8389411</td>\n",
       "      <td>8358153</td>\n",
       "      <td>8325116</td>\n",
       "    </tr>\n",
       "    <tr>\n",
       "      <th>MS</th>\n",
       "      <td>3157479</td>\n",
       "      <td>3166644</td>\n",
       "      <td>3175048</td>\n",
       "      <td>3182709</td>\n",
       "      <td>3189633</td>\n",
       "      <td>3195805</td>\n",
       "      <td>3201207</td>\n",
       "      <td>3205847</td>\n",
       "      <td>3209727</td>\n",
       "      <td>3212831</td>\n",
       "      <td>...</td>\n",
       "      <td>3187126</td>\n",
       "      <td>3179822</td>\n",
       "      <td>3171802</td>\n",
       "      <td>3163052</td>\n",
       "      <td>3153623</td>\n",
       "      <td>3143519</td>\n",
       "      <td>3132773</td>\n",
       "      <td>3121396</td>\n",
       "      <td>3109417</td>\n",
       "      <td>3096870</td>\n",
       "    </tr>\n",
       "    <tr>\n",
       "      <th>MT</th>\n",
       "      <td>4644239</td>\n",
       "      <td>4684079</td>\n",
       "      <td>4722754</td>\n",
       "      <td>4760300</td>\n",
       "      <td>4796692</td>\n",
       "      <td>4831901</td>\n",
       "      <td>4865883</td>\n",
       "      <td>4898611</td>\n",
       "      <td>4930087</td>\n",
       "      <td>4960272</td>\n",
       "      <td>...</td>\n",
       "      <td>5213059</td>\n",
       "      <td>5224557</td>\n",
       "      <td>5234598</td>\n",
       "      <td>5243192</td>\n",
       "      <td>5250347</td>\n",
       "      <td>5256097</td>\n",
       "      <td>5260473</td>\n",
       "      <td>5263493</td>\n",
       "      <td>5265186</td>\n",
       "      <td>5265603</td>\n",
       "    </tr>\n",
       "    <tr>\n",
       "      <th>PA</th>\n",
       "      <td>9193009</td>\n",
       "      <td>9207840</td>\n",
       "      <td>9220250</td>\n",
       "      <td>9230207</td>\n",
       "      <td>9237716</td>\n",
       "      <td>9242798</td>\n",
       "      <td>9245444</td>\n",
       "      <td>9245672</td>\n",
       "      <td>9243457</td>\n",
       "      <td>9238778</td>\n",
       "      <td>...</td>\n",
       "      <td>8993496</td>\n",
       "      <td>8957343</td>\n",
       "      <td>8918879</td>\n",
       "      <td>8878148</td>\n",
       "      <td>8835186</td>\n",
       "      <td>8790056</td>\n",
       "      <td>8742830</td>\n",
       "      <td>8693572</td>\n",
       "      <td>8642386</td>\n",
       "      <td>8589345</td>\n",
       "    </tr>\n",
       "    <tr>\n",
       "      <th>PB</th>\n",
       "      <td>4336837</td>\n",
       "      <td>4340269</td>\n",
       "      <td>4342662</td>\n",
       "      <td>4344015</td>\n",
       "      <td>4344308</td>\n",
       "      <td>4343536</td>\n",
       "      <td>4341673</td>\n",
       "      <td>4338718</td>\n",
       "      <td>4334676</td>\n",
       "      <td>4329534</td>\n",
       "      <td>...</td>\n",
       "      <td>4179742</td>\n",
       "      <td>4160246</td>\n",
       "      <td>4139796</td>\n",
       "      <td>4118401</td>\n",
       "      <td>4096083</td>\n",
       "      <td>4072880</td>\n",
       "      <td>4048846</td>\n",
       "      <td>4024017</td>\n",
       "      <td>3998432</td>\n",
       "      <td>3972167</td>\n",
       "    </tr>\n",
       "    <tr>\n",
       "      <th>PR</th>\n",
       "      <td>12445823</td>\n",
       "      <td>12455766</td>\n",
       "      <td>12462473</td>\n",
       "      <td>12466036</td>\n",
       "      <td>12466496</td>\n",
       "      <td>12463834</td>\n",
       "      <td>12458021</td>\n",
       "      <td>12449082</td>\n",
       "      <td>12437082</td>\n",
       "      <td>12422006</td>\n",
       "      <td>...</td>\n",
       "      <td>12009170</td>\n",
       "      <td>11957422</td>\n",
       "      <td>11903496</td>\n",
       "      <td>11847454</td>\n",
       "      <td>11789419</td>\n",
       "      <td>11729475</td>\n",
       "      <td>11667695</td>\n",
       "      <td>11604153</td>\n",
       "      <td>11538884</td>\n",
       "      <td>11471971</td>\n",
       "    </tr>\n",
       "    <tr>\n",
       "      <th>RR</th>\n",
       "      <td>1008165</td>\n",
       "      <td>1014345</td>\n",
       "      <td>1020244</td>\n",
       "      <td>1025868</td>\n",
       "      <td>1031215</td>\n",
       "      <td>1036312</td>\n",
       "      <td>1041160</td>\n",
       "      <td>1045775</td>\n",
       "      <td>1050146</td>\n",
       "      <td>1054260</td>\n",
       "      <td>...</td>\n",
       "      <td>1082898</td>\n",
       "      <td>1083307</td>\n",
       "      <td>1083393</td>\n",
       "      <td>1083145</td>\n",
       "      <td>1082557</td>\n",
       "      <td>1081626</td>\n",
       "      <td>1080359</td>\n",
       "      <td>1078769</td>\n",
       "      <td>1076863</td>\n",
       "      <td>1074652</td>\n",
       "    </tr>\n",
       "    <tr>\n",
       "      <th>SC</th>\n",
       "      <td>9705548</td>\n",
       "      <td>9775189</td>\n",
       "      <td>9841857</td>\n",
       "      <td>9905616</td>\n",
       "      <td>9966509</td>\n",
       "      <td>10024514</td>\n",
       "      <td>10079580</td>\n",
       "      <td>10131642</td>\n",
       "      <td>10180730</td>\n",
       "      <td>10226856</td>\n",
       "      <td>...</td>\n",
       "      <td>10530026</td>\n",
       "      <td>10533611</td>\n",
       "      <td>10533841</td>\n",
       "      <td>10530711</td>\n",
       "      <td>10524257</td>\n",
       "      <td>10514541</td>\n",
       "      <td>10501611</td>\n",
       "      <td>10485507</td>\n",
       "      <td>10466243</td>\n",
       "      <td>10443901</td>\n",
       "    </tr>\n",
       "    <tr>\n",
       "      <th>SE</th>\n",
       "      <td>2365018</td>\n",
       "      <td>2365063</td>\n",
       "      <td>2364517</td>\n",
       "      <td>2363370</td>\n",
       "      <td>2361636</td>\n",
       "      <td>2359296</td>\n",
       "      <td>2356338</td>\n",
       "      <td>2352744</td>\n",
       "      <td>2348509</td>\n",
       "      <td>2343619</td>\n",
       "      <td>...</td>\n",
       "      <td>2234178</td>\n",
       "      <td>2221107</td>\n",
       "      <td>2207516</td>\n",
       "      <td>2193417</td>\n",
       "      <td>2178835</td>\n",
       "      <td>2163793</td>\n",
       "      <td>2148319</td>\n",
       "      <td>2132440</td>\n",
       "      <td>2116183</td>\n",
       "      <td>2099567</td>\n",
       "    </tr>\n",
       "    <tr>\n",
       "      <th>TO</th>\n",
       "      <td>1683075</td>\n",
       "      <td>1686139</td>\n",
       "      <td>1688775</td>\n",
       "      <td>1690984</td>\n",
       "      <td>1692787</td>\n",
       "      <td>1694185</td>\n",
       "      <td>1695153</td>\n",
       "      <td>1695685</td>\n",
       "      <td>1695793</td>\n",
       "      <td>1695469</td>\n",
       "      <td>...</td>\n",
       "      <td>1655761</td>\n",
       "      <td>1649472</td>\n",
       "      <td>1642749</td>\n",
       "      <td>1635591</td>\n",
       "      <td>1628028</td>\n",
       "      <td>1620064</td>\n",
       "      <td>1611735</td>\n",
       "      <td>1603056</td>\n",
       "      <td>1594046</td>\n",
       "      <td>1584730</td>\n",
       "    </tr>\n",
       "  </tbody>\n",
       "</table>\n",
       "<p>16 rows × 31 columns</p>\n",
       "</div>"
      ],
      "text/plain": [
       "           2040      2041      2042      2043      2044      2045      2046  \\\n",
       "SIGLA                                                                         \n",
       "AC       912339    912727    912899    912861    912599    912134    911457   \n",
       "AM      4772914   4789170   4804207   4818001   4830534   4841815   4851866   \n",
       "AP       839084    839959    840654    841168    841500    841629    841575   \n",
       "CE      9577740   9581440   9582905   9582138   9579145   9573883   9566275   \n",
       "DF      3115617   3117386   3118159   3117914   3116662   3114389   3111067   \n",
       "ES      4374959   4381753   4387329   4391699   4394903   4396936   4397835   \n",
       "GO      8287291   8325830   8361856   8395379   8426419   8454944   8480887   \n",
       "MS      3157479   3166644   3175048   3182709   3189633   3195805   3201207   \n",
       "MT      4644239   4684079   4722754   4760300   4796692   4831901   4865883   \n",
       "PA      9193009   9207840   9220250   9230207   9237716   9242798   9245444   \n",
       "PB      4336837   4340269   4342662   4344015   4344308   4343536   4341673   \n",
       "PR     12445823  12455766  12462473  12466036  12466496  12463834  12458021   \n",
       "RR      1008165   1014345   1020244   1025868   1031215   1036312   1041160   \n",
       "SC      9705548   9775189   9841857   9905616   9966509  10024514  10079580   \n",
       "SE      2365018   2365063   2364517   2363370   2361636   2359296   2356338   \n",
       "TO      1683075   1686139   1688775   1690984   1692787   1694185   1695153   \n",
       "\n",
       "           2047      2048      2049  ...      2061      2062      2063  \\\n",
       "SIGLA                                ...                                 \n",
       "AC       910569    909477    908166  ...    875539    871410    867081   \n",
       "AM      4860682   4868238   4874493  ...   4847420   4836566   4824451   \n",
       "AP       841325    840891    840242  ...    814942    811333    807508   \n",
       "CE      9556257   9543843   9529006  ...   9155613   9108837   9059905   \n",
       "DF      3106713   3101324   3094891  ...   2936530   2917294   2897313   \n",
       "ES      4397597   4396248   4393804  ...   4280303   4264049   4246830   \n",
       "GO      8504198   8524915   8543021  ...   8550848   8534528   8515843   \n",
       "MS      3205847   3209727   3212831  ...   3187126   3179822   3171802   \n",
       "MT      4898611   4930087   4960272  ...   5213059   5224557   5234598   \n",
       "PA      9245672   9243457   9238778  ...   8993496   8957343   8918879   \n",
       "PB      4338718   4334676   4329534  ...   4179742   4160246   4139796   \n",
       "PR     12449082  12437082  12422006  ...  12009170  11957422  11903496   \n",
       "RR      1045775   1050146   1054260  ...   1082898   1083307   1083393   \n",
       "SC     10131642  10180730  10226856  ...  10530026  10533611  10533841   \n",
       "SE      2352744   2348509   2343619  ...   2234178   2221107   2207516   \n",
       "TO      1695685   1695793   1695469  ...   1655761   1649472   1642749   \n",
       "\n",
       "           2064      2065      2066      2067      2068      2069      2070  \n",
       "SIGLA                                                                        \n",
       "AC       862554    857837    852936    847860    842617    837209    831656  \n",
       "AM      4811129   4796579   4780850   4763958   4745963   4726928   4706869  \n",
       "AP       803479    799249    794843    790247    785500    780604    775558  \n",
       "CE      9008836   8955680   8900516   8843427   8784477   8723744   8661295  \n",
       "DF      2876631   2855286   2833335   2810837   2787832   2764372   2740519  \n",
       "ES      4228660   4209558   4189575   4168764   4147167   4124811   4101764  \n",
       "GO      8494839   8471590   8446205   8418786   8389411   8358153   8325116  \n",
       "MS      3163052   3153623   3143519   3132773   3121396   3109417   3096870  \n",
       "MT      5243192   5250347   5256097   5260473   5263493   5265186   5265603  \n",
       "PA      8878148   8835186   8790056   8742830   8693572   8642386   8589345  \n",
       "PB      4118401   4096083   4072880   4048846   4024017   3998432   3972167  \n",
       "PR     11847454  11789419  11729475  11667695  11604153  11538884  11471971  \n",
       "RR      1083145   1082557   1081626   1080359   1078769   1076863   1074652  \n",
       "SC     10530711  10524257  10514541  10501611  10485507  10466243  10443901  \n",
       "SE      2193417   2178835   2163793   2148319   2132440   2116183   2099567  \n",
       "TO      1635591   1628028   1620064   1611735   1603056   1594046   1584730  \n",
       "\n",
       "[16 rows x 31 columns]"
      ]
     },
     "execution_count": 54,
     "metadata": {},
     "output_type": "execute_result"
    }
   ],
   "source": [
    "uf_growth_after_2040"
   ]
  }
 ],
 "metadata": {
  "kernelspec": {
   "display_name": ".venv",
   "language": "python",
   "name": "python3"
  },
  "language_info": {
   "codemirror_mode": {
    "name": "ipython",
    "version": 3
   },
   "file_extension": ".py",
   "mimetype": "text/x-python",
   "name": "python",
   "nbconvert_exporter": "python",
   "pygments_lexer": "ipython3",
   "version": "3.12.7"
  }
 },
 "nbformat": 4,
 "nbformat_minor": 5
}
